{
 "cells": [
  {
   "cell_type": "markdown",
   "id": "1d960393",
   "metadata": {},
   "source": [
    "# Exercises"
   ]
  },
  {
   "cell_type": "markdown",
   "id": "7e2ad4d1",
   "metadata": {},
   "source": [
    "**(1)** Define a function for insert elements to a list without using the build in ``insert`` method!"
   ]
  },
  {
   "cell_type": "code",
   "execution_count": 4,
   "id": "d9281ae1",
   "metadata": {},
   "outputs": [
    {
     "data": {
      "text/plain": [
       "[1, 2, 3, 4, 5, 6, 7, 3]"
      ]
     },
     "execution_count": 4,
     "metadata": {},
     "output_type": "execute_result"
    }
   ],
   "source": [
    "original_list = [1, 2, 3, 4, 5, 6, 7]\n",
    "def insert_elements(element):\n",
    "    original_list.append(element)\n",
    "insert_elements(3)\n",
    "original_list"
   ]
  },
  {
   "cell_type": "markdown",
   "id": "33b35ebf",
   "metadata": {},
   "source": [
    "**(2)** Define a function which skips the repeated values from a list!\n",
    "* The input and the output also should be a list.\n",
    "* Try to solve it without using other built in types!"
   ]
  },
  {
   "cell_type": "code",
   "execution_count": 6,
   "id": "990ccab4",
   "metadata": {},
   "outputs": [
    {
     "data": {
      "text/plain": [
       "[1, 2, 3, 4, 5, 6, 7]"
      ]
     },
     "execution_count": 6,
     "metadata": {},
     "output_type": "execute_result"
    }
   ],
   "source": [
    "original_list = [1, 2, 3, 1, 1, 1, 4, 5, 2, 6, 2, 7]\n",
    "def skip_repeated(list_in):\n",
    "    list_out = []\n",
    "    for i in list_in:\n",
    "        if i not in list_out:\n",
    "            list_out.append(i)\n",
    "    return list_out\n",
    "skip_repeated(original_list)"
   ]
  },
  {
   "cell_type": "markdown",
   "id": "af4a4fe3",
   "metadata": {},
   "source": [
    "**(3)** Define a function which converts a list to a dictionary, where the keys are the index of the list elements!"
   ]
  },
  {
   "cell_type": "code",
   "execution_count": 8,
   "id": "0baf3c4e",
   "metadata": {},
   "outputs": [
    {
     "data": {
      "text/plain": [
       "{0: '1',\n",
       " 1: '2',\n",
       " 2: '3',\n",
       " 3: '1',\n",
       " 4: '1',\n",
       " 5: '1',\n",
       " 6: '4',\n",
       " 7: '5',\n",
       " 8: '2',\n",
       " 9: '6',\n",
       " 10: '2',\n",
       " 11: '7'}"
      ]
     },
     "execution_count": 8,
     "metadata": {},
     "output_type": "execute_result"
    }
   ],
   "source": [
    "original_list = [1, 2, 3, 1, 1, 1, 4, 5, 2, 6, 2, 7]\n",
    "def list_to_dict(list_in):\n",
    "    new_dict = {}\n",
    "    current_index = 0\n",
    "    for i in list_in:\n",
    "        new_dict[current_index] = f'{i}'\n",
    "        current_index += 1\n",
    "    return new_dict\n",
    "list_to_dict(original_list)"
   ]
  },
  {
   "cell_type": "markdown",
   "id": "cf2e9bec",
   "metadata": {},
   "source": [
    "**(4)** Define a function for drawing a triangle!\n",
    "* Use the number of the rows as a parameter!\n",
    "* Generalize the function by using custom character for drawing (with the default ``*`` character)!\n",
    "* Use different character for drawing a border! Define a ``need_border`` parameter!"
   ]
  },
  {
   "cell_type": "code",
   "execution_count": 17,
   "id": "269d4f80",
   "metadata": {},
   "outputs": [
    {
     "name": "stdout",
     "output_type": "stream",
     "text": [
      "*\n",
      "**\n",
      "***\n",
      "****\n",
      "*****\n"
     ]
    }
   ],
   "source": [
    "def triangle(rows, char='*', border=''):\n",
    "    for i in range (rows):\n",
    "        current_char = char * (i + 1)\n",
    "        print(f'{border}{current_char}{border}')\n",
    "triangle(5)"
   ]
  },
  {
   "cell_type": "markdown",
   "id": "928aec33",
   "metadata": {},
   "source": [
    "**(5)** Define a function which checks that a name is valid!\n",
    "* We consider the name valid, when it has two or three parts separated by exactly one space.\n",
    "* All part should be started by an upper case letter. Any other characters must be lower case.\n",
    "* Write some examples in the form of assertions!"
   ]
  },
  {
   "cell_type": "code",
   "execution_count": 20,
   "id": "e82ba56e",
   "metadata": {},
   "outputs": [],
   "source": [
    "def is_valid_name(name):\n",
    "    is_valid = False\n",
    "    if name.istitle():\n",
    "        if name.strip() == name:\n",
    "            count1 = 0\n",
    "            count2 = 0\n",
    "            for i in name:\n",
    "                if i.isupper():\n",
    "                    count1 += 1\n",
    "                if i == ' ':\n",
    "                    count2 += 1\n",
    "            if count1 == 2 and count2 == 1:\n",
    "                is_valid = True\n",
    "            if count1 == 3 and count2 == 2:\n",
    "                is_valid = True\n",
    "    return is_valid\n",
    "\n",
    "\n",
    "assert is_valid_name('Klinga Péter') is True\n",
    "assert is_valid_name('Klinga Péter Tamás') is True\n",
    "assert is_valid_name('Klinga PéteR') is False\n",
    "assert is_valid_name('KlingaPéter') is False\n",
    "assert is_valid_name('Klinga Péter Tamás László') is False\n",
    "assert is_valid_name('Klinga péter') is False\n",
    "assert is_valid_name(' Klinga Péter') is False\n",
    "assert is_valid_name('Klinga Péter ') is False"
   ]
  },
  {
   "cell_type": "markdown",
   "id": "908d95a4",
   "metadata": {},
   "source": [
    "**(6)** Define a function which calculates the price of a shopping!\n",
    "* Use similar dictionaries (as inputs) as below!"
   ]
  },
  {
   "cell_type": "code",
   "execution_count": 21,
   "id": "cf12f36d",
   "metadata": {},
   "outputs": [
    {
     "data": {
      "text/plain": [
       "1470"
      ]
     },
     "execution_count": 21,
     "metadata": {},
     "output_type": "execute_result"
    }
   ],
   "source": [
    "shop = [\n",
    "    {\n",
    "        'product': 'knife',\n",
    "        'price': 50\n",
    "    },\n",
    "    {\n",
    "        'product': 'fork',\n",
    "        'price': 30\n",
    "    },\n",
    "    {\n",
    "        'product': 'spoon',\n",
    "        'price': 40\n",
    "    }\n",
    "]\n",
    "shop_list = [\n",
    "    {\n",
    "        'product': 'spoon',\n",
    "        'count': 23\n",
    "    },\n",
    "    {\n",
    "        'product': 'knife',\n",
    "        'count': 11\n",
    "    }\n",
    "]\n",
    "\n",
    "def shopping_sum(a, b):\n",
    "    shop_sum = 0\n",
    "    for i in a:\n",
    "        for j in b:\n",
    "            if i['product'] == j['product']:\n",
    "                shop_sum += i['price'] * j['count']\n",
    "\n",
    "    return shop_sum\n",
    "shopping_sum(shop, shop_list)"
   ]
  },
  {
   "cell_type": "markdown",
   "id": "2b6deccf",
   "metadata": {},
   "source": [
    "**(7)** Collect elements from a list to a set, which appears exactly three times!\n",
    "* Generalize the function by using a parameter!"
   ]
  },
  {
   "cell_type": "code",
   "execution_count": 29,
   "id": "c313d1ce",
   "metadata": {},
   "outputs": [
    {
     "data": {
      "text/plain": [
       "{1, 2}"
      ]
     },
     "execution_count": 29,
     "metadata": {},
     "output_type": "execute_result"
    }
   ],
   "source": [
    "original_list = [1, 2, 3, 1, 1, 4, 5, 2, 6, 2, 7]\n",
    "counts = 3\n",
    "def collect_elements(list_in, counts):\n",
    "    set_out = set()\n",
    "    for i in list_in:\n",
    "        if i not in set_out:\n",
    "            if list_in.count(i) == counts:\n",
    "                set_out.add(i)\n",
    "    return set_out\n",
    "collect_elements (original_list, counts)"
   ]
  },
  {
   "cell_type": "markdown",
   "id": "81f1fec1",
   "metadata": {},
   "source": [
    "**(8)** Implement a function for sorting a list (for instance with minimum selection)!\n",
    "* Provide two solutions: one with the result as the return value and one with in-place sorting!"
   ]
  },
  {
   "cell_type": "code",
   "execution_count": 38,
   "id": "778f0fe3",
   "metadata": {},
   "outputs": [
    {
     "data": {
      "text/plain": [
       "['1', '1', '2', '2', '2', '3', '4', '5', 'str1', 'str2', 'str3']"
      ]
     },
     "execution_count": 38,
     "metadata": {},
     "output_type": "execute_result"
    }
   ],
   "source": [
    "original_list = [1, 2, 3, 1, 'str1', 4, 5, 2, 'str2', 2, 'str3']\n",
    "def sorting_list_return(list_in):\n",
    "    new_list = [str(i) for i in list_in]\n",
    "    new_list.sort()\n",
    "    return new_list\n",
    "sorting_list_return(original_list)"
   ]
  },
  {
   "cell_type": "code",
   "execution_count": 41,
   "id": "21b1ece1",
   "metadata": {},
   "outputs": [],
   "source": [
    "original_list = [1, 2, 3, 1, 'str1', 4, 5, 2, 'str2', 2, 'str3']\n",
    "def sorting_list(list_in):\n",
    "    new_list = [str(i) for i in list_in]\n",
    "    new_list.sort()\n",
    "sorting_list(original_list)"
   ]
  },
  {
   "cell_type": "markdown",
   "id": "7770cd14",
   "metadata": {},
   "source": [
    "**(9)** Write a function which counts the string objects in a list!\n",
    "* Write some examples for its usage!"
   ]
  },
  {
   "cell_type": "code",
   "execution_count": 32,
   "id": "5063128a",
   "metadata": {},
   "outputs": [
    {
     "data": {
      "text/plain": [
       "3"
      ]
     },
     "execution_count": 32,
     "metadata": {},
     "output_type": "execute_result"
    }
   ],
   "source": [
    "original_list = [1, 2, 3, 1, 'str1', 4, 5, 2, 'str2', 2, 'str3']\n",
    "def count_strings(list_in):\n",
    "    counts = 0\n",
    "    for i in list_in:\n",
    "        if type(i) == str:\n",
    "            counts += 1\n",
    "    return counts\n",
    "count_strings(original_list)"
   ]
  },
  {
   "cell_type": "markdown",
   "id": "ce759989",
   "metadata": {},
   "source": [
    "**(10)** Define a function which waits a text as a parameter, and checks that all lower case letters has their upper case letter pair!\n",
    "* Raise error when the string contains non alphabetic character!\n",
    "* Write a strict version (with ``strict`` boolean parameter) which raises error when there are more or less lower or upper letter of the pair!\n",
    "* NOTE: Do not take into consideration the ordering of the letters!"
   ]
  },
  {
   "cell_type": "code",
   "execution_count": 85,
   "id": "0dbb8185",
   "metadata": {},
   "outputs": [
    {
     "name": "stdout",
     "output_type": "stream",
     "text": [
      "Type a string: abcAAB\n",
      "At least one missing pair!\n"
     ]
    }
   ],
   "source": [
    "def has_a_pair():\n",
    "    str_input = input(\"Type a string: \")\n",
    "    assert str_input.isalpha(), 'It contains non-aplhabetical character!!!'\n",
    "    lower_count = 0\n",
    "    upper_count = 0\n",
    "    for i in str_input:\n",
    "        if i.islower():\n",
    "            lower_count += 1\n",
    "            if i.upper() in str_input:\n",
    "                upper_count += 1\n",
    "\n",
    "    if lower_count == upper_count:\n",
    "        print('Every lower case letter has the same upper case letter-pair.')\n",
    "    else:\n",
    "        print('At least one missing upper case letter-pair!')\n",
    "\n",
    "def strict_version(strict):\n",
    "    if strict == True:\n",
    "        str_input = input(\"Type a string: \")\n",
    "        assert str_input.isalpha(), 'It contains non-aplhabetical character!!!'\n",
    "        lower_count = 0\n",
    "        upper_count = 0\n",
    "        low_count = 0\n",
    "        up_count = 0\n",
    "        for i in str_input:\n",
    "            if i.islower():\n",
    "                if str_input.count(i) == str_input.count(i.upper()):\n",
    "                    lower_count += 1\n",
    "                    if i.upper() in str_input:\n",
    "                        upper_count += 1\n",
    "        for j in str_input:\n",
    "            if j.isupper():\n",
    "                if str_input.count(j) == str_input.count(j.lower()):\n",
    "                    up_count += 1\n",
    "                    if j.lower() in str_input:\n",
    "                        low_count += 1\n",
    "        all_counts = lower_count + upper_count\n",
    "        if all_counts == len(str_input):\n",
    "            print(\"Every letter has it's pair.\")\n",
    "        else:\n",
    "            print('At least one missing pair!')\n",
    "    else:\n",
    "        has_a_pair()\n",
    "        \n",
    "    \n",
    "    \n",
    "    \n",
    "    \n",
    "# has_a_pair()\n",
    "strict_version(True)\n",
    "\n",
    "# assert check_case_pairs('abcABC') is True\n",
    "# assert check_case_pairs('abcAB') is False\n",
    "# assert check_case_pairs('abcAABBCC') is True\n",
    "# assert check_case_pairs('abcAABC', strict=True) is False"
   ]
  },
  {
   "cell_type": "markdown",
   "id": "4458a63f",
   "metadata": {},
   "source": [
    "**(*)** Write functions for the exercises of the ``2B_Exercises`` notebook!"
   ]
  },
  {
   "cell_type": "code",
   "execution_count": null,
   "id": "2c97518f",
   "metadata": {},
   "outputs": [],
   "source": []
  }
 ],
 "metadata": {
  "kernelspec": {
   "display_name": "Python 3 (ipykernel)",
   "language": "python",
   "name": "python3"
  },
  "language_info": {
   "codemirror_mode": {
    "name": "ipython",
    "version": 3
   },
   "file_extension": ".py",
   "mimetype": "text/x-python",
   "name": "python",
   "nbconvert_exporter": "python",
   "pygments_lexer": "ipython3",
   "version": "3.10.5"
  }
 },
 "nbformat": 4,
 "nbformat_minor": 5
}
