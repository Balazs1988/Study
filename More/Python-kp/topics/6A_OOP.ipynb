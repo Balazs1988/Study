{
 "cells": [
  {
   "cell_type": "markdown",
   "id": "227a7312",
   "metadata": {},
   "source": [
    "# Object Oriented Programming"
   ]
  },
  {
   "cell_type": "markdown",
   "id": "0c966980",
   "metadata": {},
   "source": [
    "## Principles"
   ]
  },
  {
   "cell_type": "markdown",
   "id": "6411b991",
   "metadata": {},
   "source": [
    "* Objects, instances\n",
    "* Data hiding\n",
    "* Encapsulation\n",
    "* Classes\n",
    "* Prototypes\n",
    "* Composition\n",
    "* Inheritance\n",
    "* Extension, overloading"
   ]
  },
  {
   "cell_type": "markdown",
   "id": "bb583f41",
   "metadata": {},
   "source": [
    "## Class definition and instantiation"
   ]
  },
  {
   "cell_type": "code",
   "execution_count": null,
   "id": "91593849",
   "metadata": {},
   "outputs": [],
   "source": [
    "class Sample:\n",
    "    pass"
   ]
  },
  {
   "cell_type": "code",
   "execution_count": null,
   "id": "e1cf3fa7",
   "metadata": {},
   "outputs": [],
   "source": [
    "sample = Sample()"
   ]
  },
  {
   "cell_type": "markdown",
   "id": "fa23502a",
   "metadata": {},
   "source": [
    "Class and instance values"
   ]
  },
  {
   "cell_type": "code",
   "execution_count": null,
   "id": "5b2ce165",
   "metadata": {},
   "outputs": [],
   "source": [
    "class Sample:\n",
    "    value = 100"
   ]
  },
  {
   "cell_type": "code",
   "execution_count": null,
   "id": "4b0a92c8",
   "metadata": {},
   "outputs": [],
   "source": [
    "class Sample:\n",
    "    def __init__(self):\n",
    "        self.value = 100"
   ]
  },
  {
   "cell_type": "code",
   "execution_count": null,
   "id": "27a28f1b",
   "metadata": {},
   "outputs": [],
   "source": [
    "class Sample:\n",
    "    def __init__(self, value):\n",
    "        self._value = value"
   ]
  },
  {
   "cell_type": "markdown",
   "id": "7e33fb05",
   "metadata": {},
   "source": [
    "## Methods"
   ]
  },
  {
   "cell_type": "code",
   "execution_count": null,
   "id": "d9dfa921",
   "metadata": {},
   "outputs": [],
   "source": [
    "class Sample:\n",
    "    def f(self):\n",
    "        print('Function called f.')"
   ]
  },
  {
   "cell_type": "code",
   "execution_count": null,
   "id": "1d36143d",
   "metadata": {},
   "outputs": [],
   "source": [
    "sample = Sample()\n",
    "sample.f()"
   ]
  },
  {
   "cell_type": "code",
   "execution_count": null,
   "id": "86d0936d",
   "metadata": {},
   "outputs": [],
   "source": [
    "sample = Sample()\n",
    "Sample.f(sample)"
   ]
  },
  {
   "cell_type": "markdown",
   "id": "8c673744",
   "metadata": {},
   "source": [
    "## Special purpose methods"
   ]
  },
  {
   "cell_type": "code",
   "execution_count": null,
   "id": "769805a9",
   "metadata": {},
   "outputs": [],
   "source": [
    "__init__\n",
    "__str__\n",
    "__repr__"
   ]
  },
  {
   "cell_type": "markdown",
   "id": "1f9e6534",
   "metadata": {},
   "source": [
    "$\\rhd$ List the methods of the built in types!"
   ]
  },
  {
   "cell_type": "code",
   "execution_count": null,
   "id": "60ee08e1",
   "metadata": {},
   "outputs": [],
   "source": [
    "class Sample:\n",
    "    \"\"\"\n",
    "    A Sample class\n",
    "    \"\"\"\n",
    "    \n",
    "    def __init__(self, value):\n",
    "        self._value = value\n",
    "        \n",
    "    def __str__(self):\n",
    "        return f'Sample instance with value {self._value}.'\n",
    "\n",
    "    def __repr__(self):\n",
    "        return f'Sample({self._value})'"
   ]
  },
  {
   "cell_type": "code",
   "execution_count": null,
   "id": "398e7cf3",
   "metadata": {},
   "outputs": [],
   "source": [
    "sample = Sample(777)\n",
    "print(str(sample))\n",
    "print(repr(sample))"
   ]
  },
  {
   "cell_type": "markdown",
   "id": "a754d426",
   "metadata": {},
   "source": [
    "## Getters and setters"
   ]
  },
  {
   "cell_type": "code",
   "execution_count": null,
   "id": "a57eae73",
   "metadata": {},
   "outputs": [],
   "source": [
    "class Sample:\n",
    "    \"\"\"\n",
    "    A Sample class\n",
    "    \"\"\"\n",
    "    \n",
    "    def __init__(self, value):\n",
    "        self._value = value\n",
    "\n",
    "    @property\n",
    "    def value(self):\n",
    "        return self._value\n",
    "    \n",
    "    @value.setter\n",
    "    def value(self, value):\n",
    "        self._value = value\n",
    "\n",
    "    def __str__(self):\n",
    "        return f'Sample instance with value {self._value}.'\n",
    "\n",
    "    def __repr__(self):\n",
    "        return f'Sample({self._value})'"
   ]
  },
  {
   "cell_type": "markdown",
   "id": "b0b443b3",
   "metadata": {},
   "source": [
    "$\\rhd$ Check that the appropriate method has called!"
   ]
  },
  {
   "cell_type": "markdown",
   "id": "c0b5d7e6",
   "metadata": {},
   "source": [
    "$\\rhd$ Check that the Python allows to access the \"private\" data directly!"
   ]
  },
  {
   "cell_type": "markdown",
   "id": "855434f4",
   "metadata": {},
   "source": [
    "## Inheritance"
   ]
  },
  {
   "cell_type": "code",
   "execution_count": null,
   "id": "3625cf2e",
   "metadata": {},
   "outputs": [],
   "source": [
    "import math\n",
    "\n",
    "\n",
    "class Shape:\n",
    "    \"\"\"\n",
    "    Represents a base class for the shapes.\n",
    "    \"\"\"\n",
    "\n",
    "    def area(self):\n",
    "        \"\"\"\n",
    "        Calculates the area of a shape.\n",
    "        \"\"\"\n",
    "        raise NotImplementedError('In class Shape the area calculation has not been defined!')\n",
    "\n",
    "\n",
    "class Rectangle(Shape):\n",
    "    \"\"\"\n",
    "    Represents a rectangular shape.\n",
    "    \"\"\"\n",
    "\n",
    "    def __init__(self, sides: tuple):\n",
    "        self._sides = sides\n",
    "\n",
    "    def area(self):\n",
    "        \"\"\"\n",
    "        Calculates the area of the rectangle as the product of side lengths.\n",
    "        \"\"\"\n",
    "        return self._sides[0] * self._sides[1]\n",
    "\n",
    "\n",
    "class Circle(Shape):\n",
    "    \"\"\"\n",
    "    Represents a circle.\n",
    "    \"\"\"\n",
    "\n",
    "    def __init__(self, radius):\n",
    "        self._radius = radius\n",
    "\n",
    "    def area(self):\n",
    "        \"\"\"\n",
    "        Calculates the area of the circle.\n",
    "        \"\"\"\n",
    "        return self._radius * self._radius * math.pi"
   ]
  },
  {
   "cell_type": "markdown",
   "id": "b130dceb",
   "metadata": {},
   "source": [
    "NOTE: Make test cases for the following tasks before the implementation!"
   ]
  },
  {
   "cell_type": "markdown",
   "id": "7c11a3d5",
   "metadata": {},
   "source": [
    "$\\rhd$ Make possible to print the object data in a human friendly format!"
   ]
  },
  {
   "cell_type": "markdown",
   "id": "9e5a716c",
   "metadata": {},
   "source": [
    "$\\rhd$ Extend the base class with a color attribute!"
   ]
  },
  {
   "cell_type": "markdown",
   "id": "5dc781c1",
   "metadata": {},
   "source": [
    "$\\rhd$ Check the parameters before setting them!"
   ]
  },
  {
   "cell_type": "markdown",
   "id": "304c95b2",
   "metadata": {},
   "source": [
    "$\\rhd$ Add methods for getting and setting the properties conveniently!"
   ]
  },
  {
   "cell_type": "markdown",
   "id": "9186a657",
   "metadata": {},
   "source": [
    "$\\rhd$ Define a ``Canvas`` class which manage the data of the shapes!"
   ]
  },
  {
   "cell_type": "markdown",
   "id": "d0ac75e0",
   "metadata": {},
   "source": [
    "$\\rhd$ Make possible to add and remove shapes from the canvas!"
   ]
  },
  {
   "cell_type": "markdown",
   "id": "93118131",
   "metadata": {},
   "source": [
    "$\\rhd$ Define a method for calculating the sum of the shape areas!"
   ]
  },
  {
   "cell_type": "markdown",
   "id": "25b150fd",
   "metadata": {},
   "source": [
    "$\\rhd$ Define a method for collecting the occuring colors into a set!"
   ]
  },
  {
   "cell_type": "markdown",
   "id": "ce5d0d17",
   "metadata": {},
   "source": [
    "$\\rhd$ Collect the shape objects to a dictionary by its colors!"
   ]
  },
  {
   "cell_type": "markdown",
   "id": "2b23ac2a",
   "metadata": {},
   "source": [
    "$\\rhd$ Print the shapes ordered by its area!"
   ]
  },
  {
   "cell_type": "markdown",
   "id": "f401882c",
   "metadata": {},
   "source": [
    "$\\rhd$ Save the shapes to a text file! Makes possible to load them!"
   ]
  },
  {
   "cell_type": "markdown",
   "id": "25d99d84",
   "metadata": {},
   "source": [
    "## Example: Car renting"
   ]
  },
  {
   "cell_type": "markdown",
   "id": "2f8b3ef4",
   "metadata": {},
   "source": [
    "$\\rhd$ Define ``Car`` and ``CarRental`` classes!\n",
    "\n",
    "* Store the manufacturer, licence plate number and color of the cars!\n",
    "* Define method for registering cars!\n",
    "* Define ``acquire`` and ``release`` method for the renting! Save the date of the start and end of the renting! Save also the name who has rented the car!\n",
    "* Define method for querying the count of available cars!\n",
    "* Define method for querying the count of currently rented cars!\n",
    "* Define method for querying the data of latest ``n`` renting!\n",
    "* Collect the length of the renting periods into a list (in hours)!\n",
    "* Print the count of renting by name!\n",
    "* Search the most popular manufacturer (based on the count of renting)!\n",
    "* Write and read car data to/from a JSON file!\n",
    "\n",
    "NOTE: Try to solve the tasks by using dictionary for storing renting data or (alternatively) defining a ``Renting`` class!"
   ]
  }
 ],
 "metadata": {
  "kernelspec": {
   "display_name": "Python 3 (ipykernel)",
   "language": "python",
   "name": "python3"
  },
  "language_info": {
   "codemirror_mode": {
    "name": "ipython",
    "version": 3
   },
   "file_extension": ".py",
   "mimetype": "text/x-python",
   "name": "python",
   "nbconvert_exporter": "python",
   "pygments_lexer": "ipython3",
   "version": "3.10.5"
  }
 },
 "nbformat": 4,
 "nbformat_minor": 5
}
