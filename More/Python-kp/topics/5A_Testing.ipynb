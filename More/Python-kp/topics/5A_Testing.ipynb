{
 "cells": [
  {
   "cell_type": "markdown",
   "id": "227a7312",
   "metadata": {},
   "source": [
    "# Testing"
   ]
  },
  {
   "cell_type": "markdown",
   "id": "c22cdeda",
   "metadata": {},
   "source": [
    "* Importance\n",
    "* Types"
   ]
  },
  {
   "cell_type": "markdown",
   "id": "364a6740",
   "metadata": {},
   "source": [
    "Parts of the test cases:\n",
    "* Arrange (setup, fixture, preparations)\n",
    "* Act (calling the tested function or method)\n",
    "* Assert (checking the resulted state)"
   ]
  },
  {
   "cell_type": "markdown",
   "id": "59b8c5da",
   "metadata": {},
   "source": [
    "## Python unittest"
   ]
  },
  {
   "cell_type": "markdown",
   "id": "b17cacfe",
   "metadata": {},
   "source": [
    "https://docs.python.org/3/library/unittest.html"
   ]
  },
  {
   "cell_type": "markdown",
   "id": "30f2a7c5",
   "metadata": {},
   "source": [
    "NOTE: Just mentioned here. We will use PyTest."
   ]
  },
  {
   "cell_type": "markdown",
   "id": "2c9ebd5f",
   "metadata": {},
   "source": [
    "## PyTest"
   ]
  },
  {
   "cell_type": "markdown",
   "id": "9b16c5f5",
   "metadata": {},
   "source": [
    "https://realpython.com/pytest-python-testing/"
   ]
  },
  {
   "cell_type": "markdown",
   "id": "e17b473e",
   "metadata": {},
   "source": [
    "### Installation"
   ]
  },
  {
   "cell_type": "raw",
   "id": "d04a8a7a",
   "metadata": {},
   "source": [
    "(.venv) pip install pytest"
   ]
  },
  {
   "cell_type": "markdown",
   "id": "28818ee7",
   "metadata": {},
   "source": [
    "### Writing test cases"
   ]
  },
  {
   "cell_type": "code",
   "execution_count": null,
   "id": "26fbe699",
   "metadata": {},
   "outputs": [],
   "source": [
    "def calc_sum(values: list) -> int:\n",
    "    \"\"\"\n",
    "    Calculate the sum of the values.\n",
    "    :param values: list of integer values\n",
    "    :return: sum as an integer value\n",
    "    :raise: ValueError on empty list\n",
    "    \"\"\"\n",
    "    return sum(values)"
   ]
  },
  {
   "cell_type": "markdown",
   "id": "2d5abdda",
   "metadata": {},
   "source": [
    "$\\rhd$ Save the function to a ``my_module.py`` file!"
   ]
  },
  {
   "cell_type": "code",
   "execution_count": null,
   "id": "2e5dd251",
   "metadata": {},
   "outputs": [],
   "source": [
    "def test_calc_sum_one_value():\n",
    "    values = [1]\n",
    "    assert calc_sum(values) == 1\n",
    "\n",
    "def test_calc_sum_two_values():\n",
    "    values = [1, 2]\n",
    "    assert calc_sum(values) == 3"
   ]
  },
  {
   "cell_type": "markdown",
   "id": "c9400f64",
   "metadata": {},
   "source": [
    "$\\rhd$ Save the tests to a ``test_my_module.py`` file!"
   ]
  },
  {
   "cell_type": "markdown",
   "id": "1bd8a774",
   "metadata": {},
   "source": [
    "$\\rhd$ Add the necessary import for the function ``calc_sum``!"
   ]
  },
  {
   "cell_type": "markdown",
   "id": "8845e14f",
   "metadata": {},
   "source": [
    "### Test running"
   ]
  },
  {
   "cell_type": "raw",
   "id": "920b7f9c",
   "metadata": {},
   "source": [
    "(.venv) pytest test_my_module.py"
   ]
  },
  {
   "cell_type": "markdown",
   "id": "d96105b2",
   "metadata": {},
   "source": [
    "$\\rhd$ Modify the values for checking a failing test!"
   ]
  },
  {
   "cell_type": "markdown",
   "id": "b073a873",
   "metadata": {},
   "source": [
    "$\\rhd$ Make an intentional error in the source code! Compare the cases of errors and fails!"
   ]
  },
  {
   "cell_type": "markdown",
   "id": "1f08045f",
   "metadata": {},
   "source": [
    "$\\rhd$ Move the test cases to different modules and try to run all tests in a package!"
   ]
  },
  {
   "cell_type": "markdown",
   "id": "59e2cc52",
   "metadata": {},
   "source": [
    "### Test exceptions"
   ]
  },
  {
   "cell_type": "code",
   "execution_count": null,
   "id": "87095946",
   "metadata": {},
   "outputs": [],
   "source": [
    "def test_calc_sum_empty_list():\n",
    "    with pytest.raises(ValueError):\n",
    "        _ = calc_sum([])"
   ]
  },
  {
   "cell_type": "markdown",
   "id": "076edfdd",
   "metadata": {},
   "source": [
    "Checking of the error message:"
   ]
  },
  {
   "cell_type": "code",
   "execution_count": null,
   "id": "39989dd6",
   "metadata": {},
   "outputs": [],
   "source": [
    "def test_calc_sum_empty_list():\n",
    "    with pytest.raises(ValueError) as exc_info:\n",
    "        _ = calc_sum([])\n",
    "    assert str(exc_info.value) == 'It should not be empty!'"
   ]
  },
  {
   "cell_type": "markdown",
   "id": "7376ce84",
   "metadata": {},
   "source": [
    "### Fixtures"
   ]
  },
  {
   "cell_type": "code",
   "execution_count": null,
   "id": "7d780272",
   "metadata": {},
   "outputs": [],
   "source": [
    "def collect_keys_with_values(d: dict, value: int) -> set:\n",
    "    \"\"\"\n",
    "    Collect the keys which has the given value.\n",
    "    \"\"\"\n",
    "    return None"
   ]
  },
  {
   "cell_type": "code",
   "execution_count": null,
   "id": "68a3ce8a",
   "metadata": {},
   "outputs": [],
   "source": [
    "@pytest.fixture\n",
    "def sample_dict():\n",
    "    return {\n",
    "        'a': 1,\n",
    "        'b': 2,\n",
    "        'c': 1,\n",
    "        'd': 3,\n",
    "        'e': 2\n",
    "    }\n",
    "\n",
    "def test_collect_keys_with_values_1(sample_dict):\n",
    "    assert collect_keys_with_values(sample_dict, 1) == {'a', 'c'}"
   ]
  },
  {
   "cell_type": "markdown",
   "id": "5b1f893b",
   "metadata": {},
   "source": [
    "$\\rhd$ Write further test cases for value 2 and 3!"
   ]
  },
  {
   "cell_type": "markdown",
   "id": "8c02500b",
   "metadata": {},
   "source": [
    "$\\rhd$ Run the test and check the results!"
   ]
  },
  {
   "cell_type": "markdown",
   "id": "8e532e7e",
   "metadata": {},
   "source": [
    "$\\rhd$ Implement the function!"
   ]
  },
  {
   "cell_type": "markdown",
   "id": "1153b92e",
   "metadata": {},
   "source": [
    "### Filtering, marks"
   ]
  },
  {
   "cell_type": "markdown",
   "id": "0d6b7e32",
   "metadata": {},
   "source": [
    "Skip the test unconditionally"
   ]
  },
  {
   "cell_type": "markdown",
   "id": "4b741c3e",
   "metadata": {},
   "source": [
    "https://docs.pytest.org/en/7.1.x/how-to/skipping.html"
   ]
  },
  {
   "cell_type": "code",
   "execution_count": null,
   "id": "8162947a",
   "metadata": {},
   "outputs": [],
   "source": [
    "@pytest.mark.skip"
   ]
  },
  {
   "cell_type": "markdown",
   "id": "b96eb948",
   "metadata": {},
   "source": [
    "$\\rhd$ Skip some of the previous tests!"
   ]
  },
  {
   "cell_type": "code",
   "execution_count": null,
   "id": "97072234",
   "metadata": {},
   "outputs": [],
   "source": [
    "@pytest.mark.skipif(sys.platform == 'linux', reason='An other platform')"
   ]
  },
  {
   "cell_type": "markdown",
   "id": "40f8f0fd",
   "metadata": {},
   "source": [
    "Tag by own names"
   ]
  },
  {
   "cell_type": "code",
   "execution_count": null,
   "id": "5016f5b3",
   "metadata": {},
   "outputs": [],
   "source": [
    "@pytest.mark.exceptional"
   ]
  },
  {
   "cell_type": "raw",
   "id": "a2f78dd8",
   "metadata": {},
   "source": [
    "(.venv) python -m exceptional"
   ]
  },
  {
   "cell_type": "markdown",
   "id": "0f169bf9",
   "metadata": {},
   "source": [
    "Expected failure"
   ]
  },
  {
   "cell_type": "code",
   "execution_count": null,
   "id": "bf4c2540",
   "metadata": {},
   "outputs": [],
   "source": [
    "@pytest.mark.xfail"
   ]
  },
  {
   "cell_type": "markdown",
   "id": "66a0ed41",
   "metadata": {},
   "source": [
    "$\\rhd$ Check the output in the case of passed test (which should not be passed)!"
   ]
  },
  {
   "cell_type": "markdown",
   "id": "2ccdcfa7",
   "metadata": {},
   "source": [
    "### Test parametrization"
   ]
  },
  {
   "cell_type": "code",
   "execution_count": null,
   "id": "2256c781",
   "metadata": {},
   "outputs": [],
   "source": [
    "def has_space(text):\n",
    "    pass"
   ]
  },
  {
   "cell_type": "code",
   "execution_count": null,
   "id": "178503d2",
   "metadata": {},
   "outputs": [],
   "source": [
    "@pytest.mark.parametrize('text_with_space', [\n",
    "    ' ',\n",
    "    ' sample',\n",
    "    'sample ',\n",
    "    'sam pl e'\n",
    "])\n",
    "def test_has_space_contains(text_with_space):\n",
    "    assert has_space(text_with_space) is True"
   ]
  },
  {
   "cell_type": "code",
   "execution_count": null,
   "id": "eeb34d7f",
   "metadata": {},
   "outputs": [],
   "source": [
    "@pytest.mark.parametrize('text_without_space', [\n",
    "    '',\n",
    "    'sample'\n",
    "])\n",
    "def test_has_space_not_contains(text_without_space):\n",
    "    assert has_space(text_without_space) is False"
   ]
  },
  {
   "cell_type": "code",
   "execution_count": null,
   "id": "08b796b8",
   "metadata": {},
   "outputs": [],
   "source": [
    "@pytest.mark.parametrize('text, expected_result', [\n",
    "    ('', False),\n",
    "    (' ', True),\n",
    "    ('sample', False),\n",
    "    ('sample ', True),\n",
    "    (' sample', True),\n",
    "    ('sam pl e', True)\n",
    "])\n",
    "def test_has_space(text, expected_result):\n",
    "    assert has_space(text) is expected_result"
   ]
  },
  {
   "cell_type": "markdown",
   "id": "0e7a103e",
   "metadata": {},
   "source": [
    "$\\rhd$ Write parametrized test cases for the ``split`` and ``join`` methods of the string type!"
   ]
  },
  {
   "cell_type": "markdown",
   "id": "0ba0cb6e",
   "metadata": {},
   "source": [
    "$\\rhd$ Parametrize the test cases of the ``collect_keys_with_values`` function!"
   ]
  },
  {
   "cell_type": "markdown",
   "id": "30797427",
   "metadata": {},
   "source": [
    "### Monkey patching"
   ]
  },
  {
   "cell_type": "markdown",
   "id": "6d8ad3f8",
   "metadata": {},
   "source": [
    "https://docs.pytest.org/en/latest/how-to/monkeypatch.html"
   ]
  },
  {
   "cell_type": "code",
   "execution_count": null,
   "id": "db3567b4",
   "metadata": {},
   "outputs": [],
   "source": [
    "import random\n",
    "\n",
    "def toss_a_dice() -> int:\n",
    "    return random.randint(1, 6)"
   ]
  },
  {
   "cell_type": "code",
   "execution_count": null,
   "id": "2b051e3b",
   "metadata": {},
   "outputs": [],
   "source": [
    "import random\n",
    "\n",
    "def test_toss_a_dice(monkeypatch):\n",
    "    def mocked_randint(a, b):\n",
    "        _ = a, b\n",
    "        return 1\n",
    "    monkeypatch.setattr(random, 'randint', mocked_randint)\n",
    "    assert toss_a_dice() == 1"
   ]
  },
  {
   "cell_type": "markdown",
   "id": "90a809e9",
   "metadata": {},
   "source": [
    "$\\rhd$ Define and test the ``calc_one_week_from_now`` function (which calculates the date exactly one week from the current time)!"
   ]
  },
  {
   "cell_type": "markdown",
   "id": "3e343a4b",
   "metadata": {},
   "source": [
    "## Further examples"
   ]
  },
  {
   "cell_type": "markdown",
   "id": "f218715c",
   "metadata": {},
   "source": [
    "$\\rhd$ Define a function for counting the elements of a list which are in the interval $(a, b)$!\n",
    "* Check the parameters!\n",
    "* Let take into consideration the corner cases!"
   ]
  },
  {
   "cell_type": "markdown",
   "id": "47322689",
   "metadata": {},
   "source": [
    "$\\rhd$ Define a function for collecting all unique values from a dictionary!\n",
    "* Do not use the set or dict types!"
   ]
  },
  {
   "cell_type": "markdown",
   "id": "eeedee6d",
   "metadata": {},
   "source": [
    "$\\rhd$ Collect the parts of a text to a tuple, which are between ``<`` and ``>`` characters!\n",
    "* Raise error when the pairs are does not match! (For instance include each others or the opening or closer part is missing.)\n",
    "* Define parametrized test cases!"
   ]
  },
  {
   "cell_type": "markdown",
   "id": "9d6db2fa",
   "metadata": {},
   "source": [
    "$\\rhd$ Define a function for creating a summation table!\n",
    "* It is similar to the multiplication table.\n",
    "* Let the result is a list of list!\n",
    "* Let the size of the table is a parameter!\n",
    "* Start the rows and columns from zero!\n",
    "* Make possible to use the row and column values as optional parameters!"
   ]
  },
  {
   "cell_type": "markdown",
   "id": "eca22e77",
   "metadata": {},
   "source": [
    "$\\rhd$ Store the data of laptops in a list of dictionaries!\n",
    "* All laptops have name, CPU, memory and weight fields.\n",
    "* Define functions for adding and removing laptops!\n",
    "* Make possible to query laptops by CPU type!\n",
    "* Define function for query a laptop which is the lightest!\n",
    "* Write test cases before implement the particular functionality!\n",
    "* Use fixtures for the sample \"database\"!"
   ]
  }
 ],
 "metadata": {
  "kernelspec": {
   "display_name": "Python 3 (ipykernel)",
   "language": "python",
   "name": "python3"
  },
  "language_info": {
   "codemirror_mode": {
    "name": "ipython",
    "version": 3
   },
   "file_extension": ".py",
   "mimetype": "text/x-python",
   "name": "python",
   "nbconvert_exporter": "python",
   "pygments_lexer": "ipython3",
   "version": "3.10.5"
  }
 },
 "nbformat": 4,
 "nbformat_minor": 5
}
