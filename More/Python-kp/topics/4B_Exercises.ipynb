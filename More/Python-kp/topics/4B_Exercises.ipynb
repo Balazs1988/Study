{
 "cells": [
  {
   "cell_type": "markdown",
   "id": "1d960393",
   "metadata": {},
   "source": [
    "# Exercises"
   ]
  },
  {
   "cell_type": "markdown",
   "id": "fa7df0a9",
   "metadata": {},
   "source": [
    "**(1)** Import the function for generating random integer values on an interval by using the name ``generate_random_int``."
   ]
  },
  {
   "cell_type": "code",
   "execution_count": null,
   "id": "18e6909c",
   "metadata": {},
   "outputs": [],
   "source": [
    "\n"
   ]
  },
  {
   "cell_type": "markdown",
   "id": "1997d392",
   "metadata": {},
   "source": [
    "**(2)** Create a module (called ``smath``) and define two functions!\n",
    "* Let define ``calc_square_sum`` for calculating the sum of squares from a given list of integers!\n",
    "* Let define ``count_negative_integers`` for counting the negative integer values!\n",
    "* Write documentation comments and type annotations!\n",
    "* Load the module from an other module!\n",
    "* Write some examples for checking the results!"
   ]
  },
  {
   "cell_type": "code",
   "execution_count": null,
   "id": "4c167b20",
   "metadata": {},
   "outputs": [],
   "source": []
  },
  {
   "cell_type": "markdown",
   "id": "29ad07de",
   "metadata": {},
   "source": [
    "**(3)** Define a package, which prints the type of the operating system when imported!"
   ]
  },
  {
   "cell_type": "code",
   "execution_count": null,
   "id": "2cf2614c",
   "metadata": {},
   "outputs": [],
   "source": []
  },
  {
   "cell_type": "markdown",
   "id": "d5dfcec5",
   "metadata": {},
   "source": [
    "**(4)** Create a Rock-Paper-Scissor game!\n",
    "* Ask the number of rounds from the user. (Check that it is an odd number!)\n",
    "* Check the inputs!\n",
    "* Print the result of the game at the end!"
   ]
  },
  {
   "cell_type": "code",
   "execution_count": null,
   "id": "cfbc3f90",
   "metadata": {},
   "outputs": [],
   "source": []
  },
  {
   "cell_type": "markdown",
   "id": "af7769c3",
   "metadata": {},
   "source": [
    "**(5)** Define a function which requires the name, e-mail address and age from the user, and write it to a JSON file!"
   ]
  },
  {
   "cell_type": "code",
   "execution_count": null,
   "id": "90c4a948",
   "metadata": {},
   "outputs": [],
   "source": []
  },
  {
   "cell_type": "markdown",
   "id": "bd082015",
   "metadata": {},
   "source": [
    "**(6)** Define a function which count the weekend days in the year!\n",
    "* Get the year as the parameter of the function!\n",
    "* Allow years only between 1990 and 2100! (Use the current year as the default!)"
   ]
  },
  {
   "cell_type": "code",
   "execution_count": null,
   "id": "d4b58435",
   "metadata": {},
   "outputs": [],
   "source": []
  },
  {
   "cell_type": "markdown",
   "id": "b7a20e72",
   "metadata": {},
   "source": [
    "**(7)** Print random number of ``0`` digits!\n",
    "* Ask the user to count them!\n",
    "* Check the result!\n",
    "* Print how much time were needed for the user!"
   ]
  },
  {
   "cell_type": "code",
   "execution_count": null,
   "id": "2e377bd1",
   "metadata": {},
   "outputs": [],
   "source": []
  },
  {
   "cell_type": "markdown",
   "id": "cc09887e",
   "metadata": {},
   "source": [
    "**(8)** Format the year in the following forms!\n",
    "* Try to parse them!"
   ]
  },
  {
   "cell_type": "code",
   "execution_count": null,
   "id": "b522225d",
   "metadata": {},
   "outputs": [],
   "source": [
    "date_string = \"10, May of 2020\"\n",
    "date_string = \"2020_05_10\"\n",
    "date_string = \"05102020\"\n",
    "date_string = \"2020. 5. 10.\""
   ]
  },
  {
   "cell_type": "markdown",
   "id": "9d13c57f",
   "metadata": {},
   "source": [
    "**(9)** Create a simple command line (with ``input`` function)! Implement the following commands!\n",
    "* ``list``: List the files in the current directory.\n",
    "* ``here``: Print the current path.\n",
    "* ``go <dirname>``: Go to the given directory.\n",
    "* ``up``: Go up to the parent directory.\n",
    "* ``quit``: For closing the command line."
   ]
  },
  {
   "cell_type": "code",
   "execution_count": null,
   "id": "19da69a6",
   "metadata": {},
   "outputs": [],
   "source": []
  },
  {
   "cell_type": "markdown",
   "id": "38d9a0d0",
   "metadata": {},
   "source": [
    "**(10)** Define a function which creates a directory which name contains the current date and time!"
   ]
  },
  {
   "cell_type": "code",
   "execution_count": null,
   "id": "b1789645",
   "metadata": {},
   "outputs": [],
   "source": []
  },
  {
   "cell_type": "markdown",
   "id": "9e2bf8a3",
   "metadata": {},
   "source": [
    "**(11)** Store log items in a list of dictionaries!\n",
    "* All log item should contains a unique id, a timestamp, a level (``INFO`` or ``ERROR``) and a description.\n",
    "* Make possible to make new log item by using a function!\n",
    "* Serialize and deserialize the list to/from JSON!"
   ]
  },
  {
   "cell_type": "code",
   "execution_count": null,
   "id": "77b028e5",
   "metadata": {},
   "outputs": [],
   "source": []
  },
  {
   "cell_type": "markdown",
   "id": "fd5798e2",
   "metadata": {},
   "source": [
    "**(12)** Specify some requirements of a strong password!\n",
    "* Define a function which check that the password is strong or not!\n",
    "* Generate random password which fulfils the requirements!"
   ]
  },
  {
   "cell_type": "code",
   "execution_count": null,
   "id": "a1b87725",
   "metadata": {},
   "outputs": [],
   "source": []
  },
  {
   "cell_type": "markdown",
   "id": "0dd6476f",
   "metadata": {},
   "source": [
    "**(13)** Define a function which counts the (whole) days to the next Saturday!"
   ]
  },
  {
   "cell_type": "code",
   "execution_count": null,
   "id": "fd7bc917",
   "metadata": {},
   "outputs": [],
   "source": []
  },
  {
   "cell_type": "markdown",
   "id": "c994f88d",
   "metadata": {},
   "source": [
    "**(14)** Write a function for collecting the names of the files which has ``py`` extension!\n",
    "* Let the path of directory a parameter of the function!\n",
    "* Generalize the function by using the extension as a parameter! (Use the ``py`` as default!)"
   ]
  },
  {
   "cell_type": "code",
   "execution_count": null,
   "id": "f3c84ea5",
   "metadata": {},
   "outputs": [],
   "source": []
  }
 ],
 "metadata": {
  "kernelspec": {
   "display_name": "Python 3 (ipykernel)",
   "language": "python",
   "name": "python3"
  },
  "language_info": {
   "codemirror_mode": {
    "name": "ipython",
    "version": 3
   },
   "file_extension": ".py",
   "mimetype": "text/x-python",
   "name": "python",
   "nbconvert_exporter": "python",
   "pygments_lexer": "ipython3",
   "version": "3.10.5"
  }
 },
 "nbformat": 4,
 "nbformat_minor": 5
}
