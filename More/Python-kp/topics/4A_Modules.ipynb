{
 "cells": [
  {
   "cell_type": "markdown",
   "id": "227a7312",
   "metadata": {},
   "source": [
    "# Modules"
   ]
  },
  {
   "cell_type": "markdown",
   "id": "d4af0567",
   "metadata": {},
   "source": [
    "## Modules and packages"
   ]
  },
  {
   "cell_type": "markdown",
   "id": "fc18edeb",
   "metadata": {},
   "source": [
    "### Import"
   ]
  },
  {
   "cell_type": "code",
   "execution_count": null,
   "id": "1a344504",
   "metadata": {},
   "outputs": [],
   "source": [
    "import\n",
    "from\n",
    "as"
   ]
  },
  {
   "cell_type": "markdown",
   "id": "904ab7bd",
   "metadata": {},
   "source": [
    "### Creating modules"
   ]
  },
  {
   "cell_type": "markdown",
   "id": "65fb0511",
   "metadata": {},
   "source": [
    "$\\rhd$ Import the module from an other one!"
   ]
  },
  {
   "cell_type": "markdown",
   "id": "14dd3e13",
   "metadata": {},
   "source": [
    "$\\rhd$ Run the module from command line!"
   ]
  },
  {
   "cell_type": "markdown",
   "id": "798cfece",
   "metadata": {},
   "source": [
    "### Script and library like modules"
   ]
  },
  {
   "cell_type": "code",
   "execution_count": null,
   "id": "8439aec2",
   "metadata": {},
   "outputs": [],
   "source": [
    "if __name__ == '__main__':\n",
    "    pass"
   ]
  },
  {
   "cell_type": "markdown",
   "id": "358783bf",
   "metadata": {},
   "source": [
    "### Creating packages"
   ]
  },
  {
   "cell_type": "markdown",
   "id": "53a90f80",
   "metadata": {},
   "source": [
    "$\\rhd$ Create an ``__init__.py`` file, and check that it is working!"
   ]
  },
  {
   "cell_type": "markdown",
   "id": "b696af07",
   "metadata": {},
   "source": [
    "## Python Standard Library"
   ]
  },
  {
   "cell_type": "markdown",
   "id": "0caf1c02",
   "metadata": {},
   "source": [
    "### Strings"
   ]
  },
  {
   "cell_type": "markdown",
   "id": "c706165d",
   "metadata": {},
   "source": [
    "https://docs.python.org/3/library/string.html"
   ]
  },
  {
   "cell_type": "code",
   "execution_count": null,
   "id": "e9bfc8d2",
   "metadata": {},
   "outputs": [],
   "source": [
    "import string"
   ]
  },
  {
   "cell_type": "code",
   "execution_count": null,
   "id": "7d32609f",
   "metadata": {},
   "outputs": [],
   "source": [
    "dir(string)"
   ]
  },
  {
   "cell_type": "markdown",
   "id": "9d9ec847",
   "metadata": {},
   "source": [
    "### Time"
   ]
  },
  {
   "cell_type": "markdown",
   "id": "cd1b4af3",
   "metadata": {},
   "source": [
    "https://docs.python.org/3/library/time.html"
   ]
  },
  {
   "cell_type": "code",
   "execution_count": 15,
   "id": "3d8b9009",
   "metadata": {},
   "outputs": [],
   "source": [
    "import time"
   ]
  },
  {
   "cell_type": "markdown",
   "id": "8af18695",
   "metadata": {},
   "source": [
    "### Date"
   ]
  },
  {
   "cell_type": "markdown",
   "id": "85f9c948",
   "metadata": {},
   "source": [
    "https://docs.python.org/3/library/datetime.html"
   ]
  },
  {
   "cell_type": "code",
   "execution_count": null,
   "id": "0a721b39",
   "metadata": {},
   "outputs": [],
   "source": [
    "import datetime"
   ]
  },
  {
   "cell_type": "code",
   "execution_count": null,
   "id": "15feff14",
   "metadata": {},
   "outputs": [],
   "source": [
    "now = datetime.datetime.now()\n",
    "f'{now:%Y-%m-%d %H:%M:%S}'"
   ]
  },
  {
   "cell_type": "markdown",
   "id": "bd196c9f",
   "metadata": {},
   "source": [
    "https://strftime.org/"
   ]
  },
  {
   "cell_type": "markdown",
   "id": "fa2604d8",
   "metadata": {},
   "source": [
    "### Random numbers"
   ]
  },
  {
   "cell_type": "markdown",
   "id": "4623998c",
   "metadata": {},
   "source": [
    "https://docs.python.org/3/library/random.html"
   ]
  },
  {
   "cell_type": "code",
   "execution_count": null,
   "id": "45432fb4",
   "metadata": {},
   "outputs": [],
   "source": [
    "import random"
   ]
  },
  {
   "cell_type": "markdown",
   "id": "e1d9b0a4",
   "metadata": {},
   "source": [
    "### JSON"
   ]
  },
  {
   "cell_type": "markdown",
   "id": "d3a1bdb3",
   "metadata": {},
   "source": [
    "JavaScript Object Notation, https://www.json.org/json-en.html"
   ]
  },
  {
   "cell_type": "markdown",
   "id": "016957f0",
   "metadata": {},
   "source": [
    "https://docs.python.org/3/library/json.html"
   ]
  },
  {
   "cell_type": "markdown",
   "id": "c37c84f6",
   "metadata": {},
   "source": [
    "$\\rhd$ Compare the JSON and the ``dict`` type of Python!"
   ]
  },
  {
   "cell_type": "code",
   "execution_count": null,
   "id": "c723a866",
   "metadata": {},
   "outputs": [],
   "source": [
    "import json"
   ]
  },
  {
   "cell_type": "markdown",
   "id": "5f787a44",
   "metadata": {},
   "source": [
    "### Operating System"
   ]
  },
  {
   "cell_type": "markdown",
   "id": "32dcd91d",
   "metadata": {},
   "source": [
    "https://docs.python.org/3/library/os.html"
   ]
  },
  {
   "cell_type": "code",
   "execution_count": null,
   "id": "dc2cfd42",
   "metadata": {},
   "outputs": [],
   "source": [
    "import os"
   ]
  },
  {
   "cell_type": "markdown",
   "id": "df903aba",
   "metadata": {},
   "source": [
    "### Shell operations"
   ]
  },
  {
   "cell_type": "markdown",
   "id": "1d8e232d",
   "metadata": {},
   "source": [
    "https://docs.python.org/3/library/shutil.html"
   ]
  },
  {
   "cell_type": "code",
   "execution_count": null,
   "id": "d912b176",
   "metadata": {},
   "outputs": [],
   "source": [
    "import shutil"
   ]
  },
  {
   "cell_type": "markdown",
   "id": "94e6a719",
   "metadata": {},
   "source": [
    "# Examples"
   ]
  },
  {
   "cell_type": "markdown",
   "id": "19f7f076",
   "metadata": {},
   "source": [
    "$\\rhd$ Print the days of the current week!\n",
    "* Mark the current day!"
   ]
  },
  {
   "cell_type": "markdown",
   "id": "9ea55d07",
   "metadata": {},
   "source": [
    "$\\rhd$ Define a function which replaces the ``-`` characters to ``_`` characters in file names!\n",
    "* Use the path of the directory as a parameter!\n",
    "* Generalize the function by using the characters as parameters!"
   ]
  },
  {
   "cell_type": "markdown",
   "id": "438120b7",
   "metadata": {},
   "source": [
    "$\\rhd$ Define a formatting string for the following data format! ``2022/07/20 12:15 (27 seconds)``"
   ]
  },
  {
   "cell_type": "markdown",
   "id": "782e44d3",
   "metadata": {},
   "source": [
    "$\\rhd$ Define a function for generating random shooting results!\n",
    "* Let assume that all shooting has a score (``float``) and a timestamp (``datetime``) value!\n",
    "* Store the data into a JSON file!"
   ]
  },
  {
   "cell_type": "markdown",
   "id": "6a0a7eb6",
   "metadata": {},
   "source": [
    "$\\rhd$ Define a function which checks that a number is a prime!\n",
    "* Measure the calculation time (in seconds)!\n",
    "* Take measurements for different values!\n",
    "* Compare the results of the same value multiple times!"
   ]
  },
  {
   "cell_type": "markdown",
   "id": "f35435d3",
   "metadata": {},
   "source": [
    "$\\rhd$ Create a number guessing game!\n",
    "* Define a function for the game!\n",
    "* Generate a random number which should be guessed!\n",
    "* The program requires an input from the user and print one of the following responses: ``Too low.``, ``Too large.``, ``Exactly!``.\n",
    "* Collect the guesses with timestamp, and save the games into a JSON file!"
   ]
  }
 ],
 "metadata": {
  "kernelspec": {
   "display_name": "Python 3 (ipykernel)",
   "language": "python",
   "name": "python3"
  },
  "language_info": {
   "codemirror_mode": {
    "name": "ipython",
    "version": 3
   },
   "file_extension": ".py",
   "mimetype": "text/x-python",
   "name": "python",
   "nbconvert_exporter": "python",
   "pygments_lexer": "ipython3",
   "version": "3.10.5"
  }
 },
 "nbformat": 4,
 "nbformat_minor": 5
}
