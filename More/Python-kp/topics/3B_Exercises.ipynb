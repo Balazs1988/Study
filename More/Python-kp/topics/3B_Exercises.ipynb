{
 "cells": [
  {
   "cell_type": "markdown",
   "id": "1d960393",
   "metadata": {},
   "source": [
    "# Exercises"
   ]
  },
  {
   "cell_type": "markdown",
   "id": "7e2ad4d1",
   "metadata": {},
   "source": [
    "**(1)** Define a function for insert elements to a list without using the build in ``insert`` method!"
   ]
  },
  {
   "cell_type": "code",
   "execution_count": null,
   "id": "d9281ae1",
   "metadata": {},
   "outputs": [],
   "source": []
  },
  {
   "cell_type": "markdown",
   "id": "33b35ebf",
   "metadata": {},
   "source": [
    "**(2)** Define a function which skips the repeated values from a list!\n",
    "* The input and the output also should be a list.\n",
    "* Try to solve it without using other built in types!"
   ]
  },
  {
   "cell_type": "code",
   "execution_count": null,
   "id": "990ccab4",
   "metadata": {},
   "outputs": [],
   "source": []
  },
  {
   "cell_type": "markdown",
   "id": "af4a4fe3",
   "metadata": {},
   "source": [
    "**(3)** Define a function which converts a list to a dictionary, where the keys are the index of the list elements!"
   ]
  },
  {
   "cell_type": "code",
   "execution_count": null,
   "id": "0baf3c4e",
   "metadata": {},
   "outputs": [],
   "source": []
  },
  {
   "cell_type": "markdown",
   "id": "cf2e9bec",
   "metadata": {},
   "source": [
    "**(4)** Define a function for drawing a triangle!\n",
    "* Use the number of the rows as a parameter!\n",
    "* Generalize the function by using custom character for drawing (with the default ``*`` character)!\n",
    "* Use different character for drawing a border! Define a ``need_border`` parameter!"
   ]
  },
  {
   "cell_type": "raw",
   "id": "e94c15a1",
   "metadata": {},
   "source": [
    "*\n",
    "**\n",
    "***\n",
    "****"
   ]
  },
  {
   "cell_type": "markdown",
   "id": "928aec33",
   "metadata": {},
   "source": [
    "**(5)** Define a function which checks that a name is valid!\n",
    "* We consider the name valid, when it has two or three parts separated by exactly one space.\n",
    "* All part should be started by an upper case letter. Any other characters must be lower case.\n",
    "* Write some examples in the form of assertions!"
   ]
  },
  {
   "cell_type": "code",
   "execution_count": null,
   "id": "e82ba56e",
   "metadata": {},
   "outputs": [],
   "source": []
  },
  {
   "cell_type": "markdown",
   "id": "908d95a4",
   "metadata": {},
   "source": [
    "**(6)** Define a function which calculates the price of a shopping!\n",
    "* Use similar dictionaries (as inputs) as below!"
   ]
  },
  {
   "cell_type": "code",
   "execution_count": null,
   "id": "cf12f36d",
   "metadata": {},
   "outputs": [],
   "source": [
    "shop = [\n",
    "    {\n",
    "        'product': 'knife',\n",
    "        'price': 50\n",
    "    },\n",
    "    {\n",
    "        'product': 'fork',\n",
    "        'price': 30\n",
    "    },\n",
    "    {\n",
    "        'product': 'spoon',\n",
    "        'price': 40\n",
    "    }\n",
    "]\n",
    "shop_list = [\n",
    "    {\n",
    "        'product': 'spoon',\n",
    "        'count': 23\n",
    "    },\n",
    "    {\n",
    "        'product': 'knife',\n",
    "        'count': 11\n",
    "    }\n",
    "]"
   ]
  },
  {
   "cell_type": "markdown",
   "id": "2b6deccf",
   "metadata": {},
   "source": [
    "**(7)** Collect elements from a list to a set, which appears exactly three times!\n",
    "* Generalize the function by using a parameter!"
   ]
  },
  {
   "cell_type": "code",
   "execution_count": null,
   "id": "c313d1ce",
   "metadata": {},
   "outputs": [],
   "source": []
  },
  {
   "cell_type": "markdown",
   "id": "81f1fec1",
   "metadata": {},
   "source": [
    "**(8)** Implement a function for sorting a list (for instance with minimum selection)!\n",
    "* Provide two solutions: one with the result as the return value and one with in-place sorting!"
   ]
  },
  {
   "cell_type": "code",
   "execution_count": null,
   "id": "778f0fe3",
   "metadata": {},
   "outputs": [],
   "source": []
  },
  {
   "cell_type": "markdown",
   "id": "7770cd14",
   "metadata": {},
   "source": [
    "**(9)** Write a function which counts the string objects in a list!\n",
    "* Write some examples for its usage!"
   ]
  },
  {
   "cell_type": "code",
   "execution_count": null,
   "id": "5063128a",
   "metadata": {},
   "outputs": [],
   "source": []
  },
  {
   "cell_type": "markdown",
   "id": "ce759989",
   "metadata": {},
   "source": [
    "**(10)** Define a function which waits a text as a parameter, and checks that all lower case letters has their upper case letter pair!\n",
    "* Raise error when the string contains non alphabetic character!\n",
    "* Write a strict version (with ``strict`` boolean parameter) which raises error when there are more or less lower or upper letter of the pair!\n",
    "* NOTE: Do not take into consideration the ordering of the letters!"
   ]
  },
  {
   "cell_type": "code",
   "execution_count": null,
   "id": "0dbb8185",
   "metadata": {},
   "outputs": [],
   "source": [
    "assert check_case_pairs('abcABC') is True\n",
    "assert check_case_pairs('abcAB') is False\n",
    "assert check_case_pairs('abcAABBCC') is True\n",
    "assert check_case_pairs('abcAABC', strict=True) is False"
   ]
  },
  {
   "cell_type": "markdown",
   "id": "4458a63f",
   "metadata": {},
   "source": [
    "**(*)** Write functions for the exercises of the ``2B_Exercises`` notebook!"
   ]
  },
  {
   "cell_type": "code",
   "execution_count": null,
   "id": "2c97518f",
   "metadata": {},
   "outputs": [],
   "source": []
  }
 ],
 "metadata": {
  "kernelspec": {
   "display_name": "Python 3 (ipykernel)",
   "language": "python",
   "name": "python3"
  },
  "language_info": {
   "codemirror_mode": {
    "name": "ipython",
    "version": 3
   },
   "file_extension": ".py",
   "mimetype": "text/x-python",
   "name": "python",
   "nbconvert_exporter": "python",
   "pygments_lexer": "ipython3",
   "version": "3.10.5"
  }
 },
 "nbformat": 4,
 "nbformat_minor": 5
}
