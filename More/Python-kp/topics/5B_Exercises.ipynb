{
 "cells": [
  {
   "cell_type": "markdown",
   "id": "1d960393",
   "metadata": {},
   "source": [
    "# Exercises"
   ]
  },
  {
   "cell_type": "markdown",
   "id": "9e7d5a9d",
   "metadata": {},
   "source": [
    "**(1)** Define a function for calculating the factorial!\n",
    "* Define parametrized test cases!"
   ]
  },
  {
   "cell_type": "code",
   "execution_count": null,
   "id": "924ea1ce",
   "metadata": {},
   "outputs": [],
   "source": []
  },
  {
   "cell_type": "markdown",
   "id": "c6469802",
   "metadata": {},
   "source": [
    "**(2)** Define a function which counts the words in a tuple, which contains the letter ``L``!\n",
    "* Before the implementation write test cases for checking the result!\n",
    "* Add an optional ``is_first`` parameter to the function! When it is true, than the letter ``L`` must be the first character!\n",
    "* Raise error on empty tuple!"
   ]
  },
  {
   "cell_type": "code",
   "execution_count": null,
   "id": "5e97359e",
   "metadata": {},
   "outputs": [],
   "source": []
  },
  {
   "cell_type": "markdown",
   "id": "03151e3a",
   "metadata": {},
   "source": [
    "**(3)** Define test cases for the builtin ``round`` function!\n",
    "* Try to check the special cases!"
   ]
  },
  {
   "cell_type": "code",
   "execution_count": null,
   "id": "c719153f",
   "metadata": {},
   "outputs": [],
   "source": []
  },
  {
   "cell_type": "markdown",
   "id": "43e5f7da",
   "metadata": {},
   "source": [
    "**(4)** Define a function which counts the occurrances of words in a list!\n",
    "* The result should be a dictionary where the key is the word and the value is its count.\n",
    "* Write test cases for the function!"
   ]
  },
  {
   "cell_type": "code",
   "execution_count": null,
   "id": "449f7a9c",
   "metadata": {},
   "outputs": [],
   "source": []
  },
  {
   "cell_type": "markdown",
   "id": "4e87975e",
   "metadata": {},
   "source": [
    "**(5)** Define a function which find the index of the last non-empty string in the list of strings!\n",
    "* Raise error when all strings are empty!\n",
    "* Use the parameter ``skip_first`` for skipping some of the elements from the beginning of the list!\n",
    "* Raise ``ValueError`` when the number of skipped elements is larger than the number of strings in the list!\n",
    "* Define an optional boolean parameter (called ``need_cleaning``) an trim white spaces from the beginning and and of words before calculating the index!"
   ]
  },
  {
   "cell_type": "code",
   "execution_count": null,
   "id": "739528e0",
   "metadata": {},
   "outputs": [],
   "source": []
  },
  {
   "cell_type": "markdown",
   "id": "fb4779d4",
   "metadata": {},
   "source": [
    "**(6)** Define a function for finding the longest series of ``?`` characters in a text!\n",
    "* Try to focus on the corner cases!\n",
    "* Create a parametrized test!"
   ]
  },
  {
   "cell_type": "code",
   "execution_count": null,
   "id": "55c8a82f",
   "metadata": {},
   "outputs": [],
   "source": []
  },
  {
   "cell_type": "markdown",
   "id": "3e8d384c",
   "metadata": {},
   "source": [
    "**(7)** Test the ``strip`` method of the string type with parametrized test!"
   ]
  },
  {
   "cell_type": "code",
   "execution_count": null,
   "id": "50b40091",
   "metadata": {},
   "outputs": [],
   "source": []
  },
  {
   "cell_type": "markdown",
   "id": "fd4f6902",
   "metadata": {},
   "source": [
    "**(8)** Define a function for counting a letter in a text!\n",
    "* Define a fixture for reusing the same text in different test cases!\n",
    "* Try to solve the problem without using the ``count`` method of the string type!"
   ]
  },
  {
   "cell_type": "code",
   "execution_count": null,
   "id": "f38595e2",
   "metadata": {},
   "outputs": [],
   "source": []
  },
  {
   "cell_type": "markdown",
   "id": "33c3aba4",
   "metadata": {},
   "source": [
    "**(9)** Define a ``count_substring`` function, which counts the occurrances of a string in an other.\n",
    "* Define a fixture for reusing the same text in different test cases!\n",
    "* Create parametrized tests!"
   ]
  },
  {
   "cell_type": "code",
   "execution_count": null,
   "id": "f1aa4376",
   "metadata": {},
   "outputs": [],
   "source": []
  },
  {
   "cell_type": "markdown",
   "id": "80e69681",
   "metadata": {},
   "source": [
    "**(*)** Write test cases for the exercises in ``3B_Exercises`` and ``4B_Exercises`` notebooks!"
   ]
  },
  {
   "cell_type": "code",
   "execution_count": null,
   "id": "3a50b48d",
   "metadata": {},
   "outputs": [],
   "source": []
  }
 ],
 "metadata": {
  "kernelspec": {
   "display_name": "Python 3 (ipykernel)",
   "language": "python",
   "name": "python3"
  },
  "language_info": {
   "codemirror_mode": {
    "name": "ipython",
    "version": 3
   },
   "file_extension": ".py",
   "mimetype": "text/x-python",
   "name": "python",
   "nbconvert_exporter": "python",
   "pygments_lexer": "ipython3",
   "version": "3.10.5"
  }
 },
 "nbformat": 4,
 "nbformat_minor": 5
}
