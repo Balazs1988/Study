{
 "cells": [
  {
   "cell_type": "markdown",
   "id": "227a7312",
   "metadata": {},
   "source": [
    "# Syntax"
   ]
  },
  {
   "cell_type": "markdown",
   "id": "cea2dd2d",
   "metadata": {},
   "source": [
    "## Control structures"
   ]
  },
  {
   "cell_type": "markdown",
   "id": "5c05a40d",
   "metadata": {},
   "source": [
    "* Sequences of instructions\n",
    "* Flow chart\n",
    "* Indentation\n",
    "* Explicit line breaking\n",
    "* Semicolons"
   ]
  },
  {
   "cell_type": "markdown",
   "id": "8e011382",
   "metadata": {},
   "source": [
    "### Conditional branching"
   ]
  },
  {
   "cell_type": "code",
   "execution_count": null,
   "id": "e9a6b790",
   "metadata": {},
   "outputs": [],
   "source": [
    "if"
   ]
  },
  {
   "cell_type": "code",
   "execution_count": null,
   "id": "93da57ce",
   "metadata": {},
   "outputs": [],
   "source": [
    "match"
   ]
  },
  {
   "cell_type": "markdown",
   "id": "64522390",
   "metadata": {},
   "source": [
    "https://docs.python.org/3/tutorial/controlflow.html"
   ]
  },
  {
   "cell_type": "markdown",
   "id": "11d59df9",
   "metadata": {},
   "source": [
    "Ternary expression"
   ]
  },
  {
   "cell_type": "markdown",
   "id": "62dcfe78",
   "metadata": {},
   "source": [
    "### While loop"
   ]
  },
  {
   "cell_type": "code",
   "execution_count": null,
   "id": "199ffc16",
   "metadata": {},
   "outputs": [],
   "source": [
    "while"
   ]
  },
  {
   "cell_type": "markdown",
   "id": "93b11fa9",
   "metadata": {},
   "source": [
    "The else clause."
   ]
  },
  {
   "cell_type": "code",
   "execution_count": null,
   "id": "6070a685",
   "metadata": {},
   "outputs": [],
   "source": []
  },
  {
   "cell_type": "markdown",
   "id": "976decb2",
   "metadata": {},
   "source": [
    "### For loop"
   ]
  },
  {
   "cell_type": "code",
   "execution_count": null,
   "id": "c8599ef4",
   "metadata": {},
   "outputs": [],
   "source": [
    "for"
   ]
  },
  {
   "cell_type": "markdown",
   "id": "4232e1f2",
   "metadata": {},
   "source": [
    "The else clause."
   ]
  },
  {
   "cell_type": "code",
   "execution_count": null,
   "id": "0d7d9910",
   "metadata": {},
   "outputs": [],
   "source": []
  },
  {
   "cell_type": "markdown",
   "id": "9df67b83",
   "metadata": {},
   "source": [
    "### Infinity loops"
   ]
  },
  {
   "cell_type": "code",
   "execution_count": null,
   "id": "2b4a0390",
   "metadata": {},
   "outputs": [],
   "source": [
    "while True:\n",
    "    pass"
   ]
  },
  {
   "cell_type": "markdown",
   "id": "e98f2cb4",
   "metadata": {},
   "source": [
    "### Do-while like loops"
   ]
  },
  {
   "cell_type": "code",
   "execution_count": null,
   "id": "ecdf8c92",
   "metadata": {},
   "outputs": [],
   "source": []
  },
  {
   "cell_type": "markdown",
   "id": "00bac85c",
   "metadata": {},
   "source": [
    "## Exception handling"
   ]
  },
  {
   "cell_type": "code",
   "execution_count": null,
   "id": "6d4ff5bb",
   "metadata": {},
   "outputs": [],
   "source": [
    "raise RuntimeError('Error message here!')"
   ]
  },
  {
   "cell_type": "markdown",
   "id": "a314515d",
   "metadata": {},
   "source": [
    "$\\rhd$ Collect the built in exception/error type names!"
   ]
  },
  {
   "cell_type": "markdown",
   "id": "bbf615d5",
   "metadata": {},
   "source": [
    "## Assertions"
   ]
  },
  {
   "cell_type": "code",
   "execution_count": null,
   "id": "4743f9b2",
   "metadata": {},
   "outputs": [],
   "source": [
    "assert sum([1, 2, 3, 4]) == 10"
   ]
  },
  {
   "cell_type": "markdown",
   "id": "87e9f091",
   "metadata": {},
   "source": [
    "## Contexts"
   ]
  },
  {
   "cell_type": "markdown",
   "id": "ee412a15",
   "metadata": {},
   "source": [
    "The context is used for resource management."
   ]
  },
  {
   "cell_type": "code",
   "execution_count": null,
   "id": "00ef9850",
   "metadata": {},
   "outputs": [],
   "source": [
    "txt_file = open('sample.txt', 'w')\n",
    "txt_file.close()"
   ]
  },
  {
   "cell_type": "code",
   "execution_count": null,
   "id": "7c399fb2",
   "metadata": {},
   "outputs": [],
   "source": [
    "with open('sample.txt', 'w') as txt_file:\n",
    "    pass"
   ]
  },
  {
   "cell_type": "markdown",
   "id": "8bedda76",
   "metadata": {},
   "source": [
    "$\\rhd$ Write integers from the interval $[0, 10000]$ which can be divided by 123 without remainder!"
   ]
  },
  {
   "cell_type": "markdown",
   "id": "a9df0a08",
   "metadata": {},
   "source": [
    "$\\rhd$ Try to solve by using the minimal number of code lines!"
   ]
  },
  {
   "cell_type": "markdown",
   "id": "25f469b3",
   "metadata": {},
   "source": [
    "$\\rhd$ Try to solve by using the minimal number of necessary iterations!"
   ]
  },
  {
   "cell_type": "markdown",
   "id": "b27c4eee",
   "metadata": {},
   "source": [
    "$\\rhd$ Write the following data to a text file!"
   ]
  },
  {
   "cell_type": "code",
   "execution_count": null,
   "id": "18aa4cd5",
   "metadata": {},
   "outputs": [],
   "source": [
    "table = [\n",
    "    [\"orange\", 10],\n",
    "    [\"apple\", 20],\n",
    "    [\"grape\", 30]\n",
    "]"
   ]
  },
  {
   "cell_type": "markdown",
   "id": "9b140e8a",
   "metadata": {},
   "source": [
    "NOTE: Select an appropriate delimiter!"
   ]
  },
  {
   "cell_type": "markdown",
   "id": "57cd8664",
   "metadata": {},
   "source": [
    "$\\rhd$ Read/retrieve the data from the text file!"
   ]
  },
  {
   "cell_type": "markdown",
   "id": "da50cb7c",
   "metadata": {},
   "source": [
    "# Examples"
   ]
  },
  {
   "cell_type": "markdown",
   "id": "c7cce2f9",
   "metadata": {},
   "source": [
    "$\\rhd$ Draw a chess table by using ``%`` characters and spaces!\n",
    "* Store the size of the table in a variable!"
   ]
  },
  {
   "cell_type": "markdown",
   "id": "cd18b1fe",
   "metadata": {},
   "source": [
    "$\\rhd$ Collect all of the five-digit integers to a set, where the product of the digits is exactly 12!"
   ]
  }
 ],
 "metadata": {
  "kernelspec": {
   "display_name": "Python 3 (ipykernel)",
   "language": "python",
   "name": "python3"
  },
  "language_info": {
   "codemirror_mode": {
    "name": "ipython",
    "version": 3
   },
   "file_extension": ".py",
   "mimetype": "text/x-python",
   "name": "python",
   "nbconvert_exporter": "python",
   "pygments_lexer": "ipython3",
   "version": "3.10.5"
  }
 },
 "nbformat": 4,
 "nbformat_minor": 5
}
