{
 "cells": [
  {
   "cell_type": "markdown",
   "id": "1d960393",
   "metadata": {},
   "source": [
    "# Exercises"
   ]
  },
  {
   "cell_type": "markdown",
   "id": "7b654bdc",
   "metadata": {},
   "source": [
    "**(1)** Print the version number of the interpreter!"
   ]
  },
  {
   "cell_type": "code",
   "execution_count": 1,
   "id": "b0ca576f",
   "metadata": {},
   "outputs": [
    {
     "name": "stdout",
     "output_type": "stream",
     "text": [
      "3.10.5 (tags/v3.10.5:f377153, Jun  6 2022, 16:14:13) [MSC v.1929 64 bit (AMD64)]\n"
     ]
    }
   ],
   "source": [
    "import sys\n",
    "print(sys.version)"
   ]
  },
  {
   "cell_type": "markdown",
   "id": "9e3ab38d",
   "metadata": {},
   "source": [
    "**(2)** Write a program, which requires a value from the user and print it in hexadecimal form!"
   ]
  },
  {
   "cell_type": "code",
   "execution_count": 2,
   "id": "723ddc42",
   "metadata": {},
   "outputs": [
    {
     "name": "stdout",
     "output_type": "stream",
     "text": [
      "Input a number, please: 25\n",
      "0x19\n"
     ]
    }
   ],
   "source": [
    "value = int(input('Input a number, please: '))\n",
    "print(hex(value))"
   ]
  },
  {
   "cell_type": "markdown",
   "id": "01fdd915",
   "metadata": {},
   "source": [
    "**(3)** Calculate the average of the following weights!"
   ]
  },
  {
   "cell_type": "code",
   "execution_count": null,
   "id": "e814dc7c",
   "metadata": {},
   "outputs": [],
   "source": [
    "weight = [0.7, 9.2, 3.8, 7.4, 5.5]"
   ]
  },
  {
   "cell_type": "markdown",
   "id": "7f4093ea",
   "metadata": {},
   "source": [
    "**(4)** Print the minimal and maximal value of the weights in a tuple!"
   ]
  },
  {
   "cell_type": "code",
   "execution_count": null,
   "id": "01fbbd34",
   "metadata": {},
   "outputs": [],
   "source": [
    "weight = [0.7, 9.2, 3.8, 7.4, 5.5]"
   ]
  },
  {
   "cell_type": "markdown",
   "id": "de02c961",
   "metadata": {},
   "source": [
    "**(5)** Collect the common elements of the following lists."
   ]
  },
  {
   "cell_type": "code",
   "execution_count": null,
   "id": "e3fc75fc",
   "metadata": {},
   "outputs": [],
   "source": [
    "a_list = [8, 3, 'third', False, 2, 9]\n",
    "b_list = [3, 9, True, 'other']"
   ]
  },
  {
   "cell_type": "markdown",
   "id": "00688a82",
   "metadata": {},
   "source": [
    "**(6)** Collect the common values of the following dictionaries."
   ]
  },
  {
   "cell_type": "code",
   "execution_count": null,
   "id": "4b207349",
   "metadata": {},
   "outputs": [],
   "source": [
    "a_dict = {\n",
    "    'name': 'A',\n",
    "    'age': 80,\n",
    "    'height': 200,\n",
    "    'location': 'B'\n",
    "}\n",
    "b_dict = {\n",
    "    'name': 'B',\n",
    "    'age': 200,\n",
    "    'height': 180,\n",
    "    'description': 'C'\n",
    "}"
   ]
  },
  {
   "cell_type": "markdown",
   "id": "a9897535",
   "metadata": {},
   "source": [
    "**(7)** Count how many different values are in the following dictionary!"
   ]
  },
  {
   "cell_type": "code",
   "execution_count": null,
   "id": "8ed602cb",
   "metadata": {},
   "outputs": [],
   "source": [
    "a_dict = {\n",
    "    'name': 'A',\n",
    "    'age': 80,\n",
    "    'height': 200,\n",
    "    'location': 'B'\n",
    "}\n",
    "b_dict = {\n",
    "    'name': 'B',\n",
    "    'age': 200,\n",
    "    'height': 180,\n",
    "    'description': 'C'\n",
    "}"
   ]
  },
  {
   "cell_type": "markdown",
   "id": "9bd9961a",
   "metadata": {},
   "source": [
    "**(8)** Define a dictionary which contains the name and number of the months!"
   ]
  },
  {
   "cell_type": "code",
   "execution_count": null,
   "id": "fda0eb79",
   "metadata": {},
   "outputs": [],
   "source": []
  },
  {
   "cell_type": "markdown",
   "id": "ec2f1d53",
   "metadata": {},
   "source": [
    "**(9)** Require a text from the user and print only its last two word!\n",
    "* We can assume that the words are separated by spaces, and\n",
    "* the user provides at least two words in the text."
   ]
  },
  {
   "cell_type": "code",
   "execution_count": null,
   "id": "de2732fe",
   "metadata": {},
   "outputs": [],
   "source": []
  },
  {
   "cell_type": "markdown",
   "id": "dfd20cee",
   "metadata": {},
   "source": [
    "**(10)** Print the even numbers between 400 and 420!"
   ]
  },
  {
   "cell_type": "code",
   "execution_count": null,
   "id": "42e27c25",
   "metadata": {},
   "outputs": [],
   "source": []
  },
  {
   "cell_type": "markdown",
   "id": "858131e8",
   "metadata": {},
   "source": [
    "**(11)** Require a text from the user and print it in reverse order!"
   ]
  },
  {
   "cell_type": "code",
   "execution_count": null,
   "id": "e27ec4a7",
   "metadata": {},
   "outputs": [],
   "source": []
  },
  {
   "cell_type": "markdown",
   "id": "5b7db487",
   "metadata": {},
   "source": [
    "**(12)** Require a text from the user and check that its first and last character is the same!"
   ]
  },
  {
   "cell_type": "code",
   "execution_count": null,
   "id": "f1271d4a",
   "metadata": {},
   "outputs": [],
   "source": []
  },
  {
   "cell_type": "markdown",
   "id": "61a593fe",
   "metadata": {},
   "source": [
    "**(13)** Require a name from the user and check that whether is it a builtin name or not!"
   ]
  },
  {
   "cell_type": "code",
   "execution_count": null,
   "id": "8b15fe23",
   "metadata": {},
   "outputs": [],
   "source": []
  },
  {
   "cell_type": "markdown",
   "id": "c7e6df67",
   "metadata": {},
   "source": [
    "**(14)** How many ``-`` characters are in the following line?\n",
    "* Print it more elegantly!"
   ]
  },
  {
   "cell_type": "raw",
   "id": "7df8388d",
   "metadata": {},
   "source": [
    "--------------------------------------------------------------"
   ]
  },
  {
   "cell_type": "markdown",
   "id": "28962c9b",
   "metadata": {},
   "source": [
    "**(15)** Require 3 words from the user and print it separated by spaces!"
   ]
  },
  {
   "cell_type": "code",
   "execution_count": null,
   "id": "c54cc3a6",
   "metadata": {},
   "outputs": [],
   "source": []
  },
  {
   "cell_type": "markdown",
   "id": "442dd8df",
   "metadata": {},
   "source": [
    "**(16)** Require the beginning and the end of an interval, and print the integer values between them!\n",
    "* Let assume that the interval is exclusive in both sides!\n",
    "* Check the interval by using the ``assert`` keyword!"
   ]
  },
  {
   "cell_type": "code",
   "execution_count": null,
   "id": "b2c7826f",
   "metadata": {},
   "outputs": [],
   "source": []
  },
  {
   "cell_type": "markdown",
   "id": "9792702e",
   "metadata": {},
   "source": [
    "**(17)** Collect the object the known types which boolean value is not true!"
   ]
  },
  {
   "cell_type": "code",
   "execution_count": null,
   "id": "4cea5af0",
   "metadata": {},
   "outputs": [],
   "source": []
  },
  {
   "cell_type": "markdown",
   "id": "d56cc651",
   "metadata": {},
   "source": [
    "**(18)** Define two tuples which equal but not identical!"
   ]
  },
  {
   "cell_type": "code",
   "execution_count": null,
   "id": "c29f45ac",
   "metadata": {},
   "outputs": [],
   "source": []
  },
  {
   "cell_type": "markdown",
   "id": "d8ec0f89",
   "metadata": {},
   "source": [
    "**(19)** Require an e-mail address from the user, and check that it contains ``@`` and ``.`` characters!\n",
    "* The \"check\" here means that print it is true or false."
   ]
  },
  {
   "cell_type": "code",
   "execution_count": null,
   "id": "282eaded",
   "metadata": {},
   "outputs": [],
   "source": []
  },
  {
   "cell_type": "markdown",
   "id": "a682497f",
   "metadata": {},
   "source": [
    "**(20)** Give an example for the De Morgan rule by logical expressions!"
   ]
  },
  {
   "cell_type": "code",
   "execution_count": null,
   "id": "52762760",
   "metadata": {},
   "outputs": [],
   "source": []
  },
  {
   "cell_type": "markdown",
   "id": "db34123c",
   "metadata": {},
   "source": [
    "**(21)** Print every fifth built in names!"
   ]
  },
  {
   "cell_type": "code",
   "execution_count": null,
   "id": "1da8370a",
   "metadata": {},
   "outputs": [],
   "source": []
  },
  {
   "cell_type": "markdown",
   "id": "501299b4",
   "metadata": {},
   "source": [
    "**(22)** Write a Python expression which results the following list!"
   ]
  },
  {
   "cell_type": "code",
   "execution_count": null,
   "id": "11202ea1",
   "metadata": {},
   "outputs": [],
   "source": [
    "[3, 4, 5, 3, 4, 5, 3, 4, 5, 3, 4, 5, 3, 4, 5, 3, 4, 5, 3, 4, 5, 3, 4, 5]"
   ]
  },
  {
   "cell_type": "markdown",
   "id": "2005d3b0",
   "metadata": {},
   "source": [
    "**(23)** Require four integer numbers from the user and print that it is a new one, or it has been already given!"
   ]
  },
  {
   "cell_type": "code",
   "execution_count": null,
   "id": "acf52043",
   "metadata": {},
   "outputs": [],
   "source": []
  },
  {
   "cell_type": "markdown",
   "id": "0883f832",
   "metadata": {},
   "source": [
    "**(24)** Represent a Tic-Tac-Toe table as a list of lists!"
   ]
  },
  {
   "cell_type": "code",
   "execution_count": null,
   "id": "699acfac",
   "metadata": {},
   "outputs": [],
   "source": []
  }
 ],
 "metadata": {
  "kernelspec": {
   "display_name": "Python 3 (ipykernel)",
   "language": "python",
   "name": "python3"
  },
  "language_info": {
   "codemirror_mode": {
    "name": "ipython",
    "version": 3
   },
   "file_extension": ".py",
   "mimetype": "text/x-python",
   "name": "python",
   "nbconvert_exporter": "python",
   "pygments_lexer": "ipython3",
   "version": "3.10.5"
  }
 },
 "nbformat": 4,
 "nbformat_minor": 5
}
