{
 "cells": [
  {
   "cell_type": "markdown",
   "id": "227a7312",
   "metadata": {},
   "source": [
    "# Functions"
   ]
  },
  {
   "cell_type": "markdown",
   "id": "940f4af1",
   "metadata": {},
   "source": [
    "$\\rhd$ What are the functions?"
   ]
  },
  {
   "cell_type": "markdown",
   "id": "493d880a",
   "metadata": {},
   "source": [
    "$\\rhd$ Why are they necessary?"
   ]
  },
  {
   "cell_type": "code",
   "execution_count": null,
   "id": "8439aec2",
   "metadata": {},
   "outputs": [],
   "source": [
    "def f():\n",
    "    pass"
   ]
  },
  {
   "cell_type": "markdown",
   "id": "a89bdf8e",
   "metadata": {},
   "source": [
    "Function naming rules"
   ]
  },
  {
   "cell_type": "markdown",
   "id": "27fe36e2",
   "metadata": {},
   "source": [
    "## Parametrization"
   ]
  },
  {
   "cell_type": "markdown",
   "id": "258d8ce7",
   "metadata": {},
   "source": [
    "### Positional parameters"
   ]
  },
  {
   "cell_type": "code",
   "execution_count": null,
   "id": "5e1f3a43",
   "metadata": {},
   "outputs": [],
   "source": [
    "def f(a, b, c, d):\n",
    "    print(f'a: {a}, b: {b}, c: {c}, d: {d}')"
   ]
  },
  {
   "cell_type": "code",
   "execution_count": null,
   "id": "b8a1a9ff",
   "metadata": {},
   "outputs": [],
   "source": [
    "f(1, 2, 3, 4)"
   ]
  },
  {
   "cell_type": "markdown",
   "id": "42acfe91",
   "metadata": {},
   "source": [
    "### Named arguments"
   ]
  },
  {
   "cell_type": "code",
   "execution_count": null,
   "id": "34b8cad8",
   "metadata": {},
   "outputs": [],
   "source": [
    "f(a=1, b=2, c=3, d=4)"
   ]
  },
  {
   "cell_type": "markdown",
   "id": "f3a6361f",
   "metadata": {},
   "source": [
    "### Default arguments"
   ]
  },
  {
   "cell_type": "code",
   "execution_count": null,
   "id": "0d7f5c34",
   "metadata": {},
   "outputs": [],
   "source": [
    "def f(a, b, c, d=4):\n",
    "    print(f'a: {a}, b: {b}, c: {c}, d: {d}')"
   ]
  },
  {
   "cell_type": "code",
   "execution_count": null,
   "id": "a64cc9ff",
   "metadata": {},
   "outputs": [],
   "source": [
    "f(1, 2, 3)"
   ]
  },
  {
   "cell_type": "markdown",
   "id": "19fb6032",
   "metadata": {},
   "source": [
    "### Pass by reference"
   ]
  },
  {
   "cell_type": "code",
   "execution_count": null,
   "id": "6b1de251",
   "metadata": {},
   "outputs": [],
   "source": [
    "def f(values):\n",
    "    values.append(789)"
   ]
  },
  {
   "cell_type": "code",
   "execution_count": null,
   "id": "f7070098",
   "metadata": {},
   "outputs": [],
   "source": [
    "items = [1, 2]\n",
    "f(items)\n",
    "print(items)"
   ]
  },
  {
   "cell_type": "markdown",
   "id": "af720c50",
   "metadata": {},
   "source": [
    "## Return values"
   ]
  },
  {
   "cell_type": "code",
   "execution_count": null,
   "id": "29a53c7e",
   "metadata": {},
   "outputs": [],
   "source": [
    "def add(a, b):\n",
    "    return a + b"
   ]
  },
  {
   "cell_type": "markdown",
   "id": "ca326ae0",
   "metadata": {},
   "source": [
    "* \"Multiple\" return value"
   ]
  },
  {
   "cell_type": "markdown",
   "id": "b1b56173",
   "metadata": {},
   "source": [
    "## Variable scopes"
   ]
  },
  {
   "cell_type": "markdown",
   "id": "5bd17986",
   "metadata": {},
   "source": [
    "Scope resolution rule\n",
    "* Local\n",
    "* Enclosing\n",
    "* Global (module)\n",
    "* Built-in"
   ]
  },
  {
   "cell_type": "code",
   "execution_count": null,
   "id": "8a1dc87d",
   "metadata": {},
   "outputs": [],
   "source": [
    "global\n",
    "nonlocal"
   ]
  },
  {
   "cell_type": "markdown",
   "id": "88544e21",
   "metadata": {},
   "source": [
    "$\\oplus$ The ``yield`` keyword"
   ]
  },
  {
   "cell_type": "markdown",
   "id": "e206b4fe",
   "metadata": {},
   "source": [
    "$\\oplus$ Anonymous functions"
   ]
  },
  {
   "cell_type": "markdown",
   "id": "a8cfb8b1",
   "metadata": {},
   "source": [
    "$\\oplus$ Function as a return value"
   ]
  },
  {
   "cell_type": "markdown",
   "id": "41d84a26",
   "metadata": {},
   "source": [
    "$\\oplus$ Function attributes"
   ]
  },
  {
   "cell_type": "markdown",
   "id": "45bbf79d",
   "metadata": {},
   "source": [
    "## Type annotation"
   ]
  },
  {
   "cell_type": "markdown",
   "id": "ce7a14b2",
   "metadata": {},
   "source": [
    "Rather a comment than a type checking system."
   ]
  },
  {
   "cell_type": "code",
   "execution_count": null,
   "id": "32daa05a",
   "metadata": {},
   "outputs": [],
   "source": [
    "def is_length_lower(text: str, length: int) -> bool:\n",
    "    if len(text) < length:\n",
    "        return True\n",
    "    else:\n",
    "        return False"
   ]
  },
  {
   "cell_type": "markdown",
   "id": "f71fe311",
   "metadata": {},
   "source": [
    "$\\rhd$ Write example for checking the function! (Use the ``assert`` keyword!)"
   ]
  },
  {
   "cell_type": "markdown",
   "id": "aaeefb9c",
   "metadata": {},
   "source": [
    "$\\rhd$ Try to use parameters with invalid type!"
   ]
  },
  {
   "cell_type": "markdown",
   "id": "51dead8f",
   "metadata": {},
   "source": [
    "$\\rhd$ Rewrite the function to a one-liner!"
   ]
  },
  {
   "cell_type": "markdown",
   "id": "422457eb",
   "metadata": {},
   "source": [
    "$\\rhd$ Write documentation comment for the function!"
   ]
  },
  {
   "cell_type": "markdown",
   "id": "aec515f8",
   "metadata": {},
   "source": [
    "$\\rhd$ Raise ``TypeError`` when the type does not match!"
   ]
  },
  {
   "cell_type": "markdown",
   "id": "9d72bfe5",
   "metadata": {},
   "source": [
    "## Exceptions"
   ]
  },
  {
   "cell_type": "code",
   "execution_count": null,
   "id": "732cbfce",
   "metadata": {},
   "outputs": [],
   "source": [
    "def f():\n",
    "    raise ValueError('Invalid value here!')\n",
    "\n",
    "def g():\n",
    "    try:\n",
    "        print('Call function f ...')\n",
    "        f()\n",
    "    except ValueError as error:\n",
    "        print(error)\n",
    "\n",
    "g()"
   ]
  },
  {
   "cell_type": "markdown",
   "id": "efb74dbf",
   "metadata": {},
   "source": [
    "Proper order of exception types"
   ]
  },
  {
   "cell_type": "markdown",
   "id": "872be3be",
   "metadata": {},
   "source": [
    "# Examples"
   ]
  },
  {
   "cell_type": "markdown",
   "id": "d6118f40",
   "metadata": {},
   "source": [
    "$\\rhd$ Write a function, which collects the names of the members of an object to a dictionary!\n",
    "* The key is the name of the type.\n",
    "* The value is a list of strings.\n",
    "* Check the result for the built in types!"
   ]
  },
  {
   "cell_type": "markdown",
   "id": "5f59334b",
   "metadata": {},
   "source": [
    "$\\rhd$ Write a function for checking that a string is a palindrom!\n",
    "* Define some examples in the form of assertion!\n",
    "* Use a ``check_case`` boolean parameter for checking the case of the letters!\n",
    "* Use a ``need_to_trim`` boolean parameter for trimming the text when needed!"
   ]
  },
  {
   "cell_type": "markdown",
   "id": "658db3a7",
   "metadata": {},
   "source": [
    "$\\rhd$ Define own functions for set operations!\n",
    "* Try to use it with lists and tuples!"
   ]
  },
  {
   "cell_type": "markdown",
   "id": "1d386269",
   "metadata": {},
   "source": [
    "$\\rhd$ Define a function for multiply all elements of a tuple by 10!"
   ]
  }
 ],
 "metadata": {
  "kernelspec": {
   "display_name": "Python 3 (ipykernel)",
   "language": "python",
   "name": "python3"
  },
  "language_info": {
   "codemirror_mode": {
    "name": "ipython",
    "version": 3
   },
   "file_extension": ".py",
   "mimetype": "text/x-python",
   "name": "python",
   "nbconvert_exporter": "python",
   "pygments_lexer": "ipython3",
   "version": "3.10.5"
  }
 },
 "nbformat": 4,
 "nbformat_minor": 5
}
