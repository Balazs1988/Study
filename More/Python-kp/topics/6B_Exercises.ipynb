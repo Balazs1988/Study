{
 "cells": [
  {
   "cell_type": "markdown",
   "id": "1d960393",
   "metadata": {},
   "source": [
    "# Exercises"
   ]
  },
  {
   "cell_type": "markdown",
   "id": "30b89cb5",
   "metadata": {},
   "source": [
    "NOTE:\n",
    "\n",
    "* When possible, try to write test cases before the implementation of the methods!\n",
    "* Write documentation!\n",
    "* Try to use properties and exceptions when it improves the quality of the code!\n",
    "* Take care for naming, coding conventions and file organization!"
   ]
  },
  {
   "cell_type": "markdown",
   "id": "8c6bd956",
   "metadata": {},
   "source": [
    "## (1) Fruit store\n",
    "\n",
    "* Define a ``Fruit`` class, where the fruit has name, color and origin.\n",
    "* Define the list of possible origins and check when the fruit object is created. (Raise ``ValueError`` when the origin is invalid!)\n",
    "* Define a ``FruitStore`` class which manage the data of the fruits.\n",
    "* Define a method for adding and removing fruits!\n",
    "* On adding new fruit, check that the name does not exist currently!\n",
    "* Define function for query the fruits by name!\n",
    "* Define function for query the fruits by origin!"
   ]
  },
  {
   "cell_type": "code",
   "execution_count": null,
   "id": "19bd88fc",
   "metadata": {},
   "outputs": [],
   "source": []
  },
  {
   "cell_type": "markdown",
   "id": "7384b575",
   "metadata": {},
   "source": [
    "## (2) Server manager\n",
    "\n",
    "Define a ``Server`` and ``ServerManager`` classes.\n",
    "* Let store the name, type and IP address of the servers!\n",
    "* Check that the IP address is valid! (Raise a ``ValueError`` exception when invalid!)\n",
    "* Make possible to add new servers to the server manager!\n",
    "* Print the data of a server in a human friendly way!\n",
    "* Define a method for listing the servers in the server manager!\n",
    "* Define a method which is able to find a server by name (or part of the name)!\n",
    "* Write a method for writing the server data to a json file!\n",
    "* Add the path of the JSON file as an optional argument for the server manager. Load server data when provided."
   ]
  },
  {
   "cell_type": "code",
   "execution_count": null,
   "id": "00895a8d",
   "metadata": {},
   "outputs": [],
   "source": []
  },
  {
   "cell_type": "markdown",
   "id": "466609d9",
   "metadata": {},
   "source": [
    "## (3) Developer database\n",
    "\n",
    "* Define a ``Person`` class which manage the unique id, first and family name of a person!\n",
    "* Inherit a ``Developer`` class from the ``Person`` which extends the person data by the set of known programming languages!\n",
    "* Define a ``DeveloperDatabase`` class!\n",
    "* Make possible to add and remove developers by its unique identifier!\n",
    "* Define the ``collect_developers_by_languages`` method which results a dictionary, where the key is the name of the programming language, and the value is the list of the developer unique identifiers!\n",
    "* Make possible to find developers by name!\n",
    "* Find the developer with the highest number of known programming languages!"
   ]
  },
  {
   "cell_type": "code",
   "execution_count": null,
   "id": "9bec1c83",
   "metadata": {},
   "outputs": [],
   "source": []
  },
  {
   "cell_type": "markdown",
   "id": "1765c25b",
   "metadata": {},
   "source": [
    "## (4) Issue tracking system\n",
    "\n",
    "* Let define an ``Issue`` class which contains the id, author, description and creation date data of an issue!\n",
    "* Define an ``IssueTracker`` class! Let make possible to register, solve and reject an issue!\n",
    "* Make possible to collect the issues by its state!\n",
    "* Create a directory for issues, and save the issue data to separate files! Implement the saving and loading of them!\n",
    "* Define a function, which select an open issue randomly!\n",
    "* Define a function for reporting, which counts the issues by their states!"
   ]
  },
  {
   "cell_type": "code",
   "execution_count": null,
   "id": "7a3f3203",
   "metadata": {},
   "outputs": [],
   "source": []
  }
 ],
 "metadata": {
  "kernelspec": {
   "display_name": "Python 3 (ipykernel)",
   "language": "python",
   "name": "python3"
  },
  "language_info": {
   "codemirror_mode": {
    "name": "ipython",
    "version": 3
   },
   "file_extension": ".py",
   "mimetype": "text/x-python",
   "name": "python",
   "nbconvert_exporter": "python",
   "pygments_lexer": "ipython3",
   "version": "3.10.5"
  }
 },
 "nbformat": 4,
 "nbformat_minor": 5
}
