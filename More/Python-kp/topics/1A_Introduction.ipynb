{
 "cells": [
  {
   "cell_type": "markdown",
   "id": "bfbad047",
   "metadata": {},
   "source": [
    "# Introduction"
   ]
  },
  {
   "cell_type": "markdown",
   "id": "6b9b83c6",
   "metadata": {},
   "source": [
    "## Technical notes"
   ]
  },
  {
   "cell_type": "markdown",
   "id": "a9b890ec",
   "metadata": {},
   "source": [
    "* GitLab repositories\n",
    "* Topics, exercises"
   ]
  },
  {
   "cell_type": "markdown",
   "id": "095b2fc8",
   "metadata": {},
   "source": [
    "## The Python programming language"
   ]
  },
  {
   "cell_type": "markdown",
   "id": "8e45995e",
   "metadata": {},
   "source": [
    "https://en.wikipedia.org/wiki/History_of_Python"
   ]
  },
  {
   "cell_type": "markdown",
   "id": "83794281",
   "metadata": {},
   "source": [
    "* Interpreter, code execution\n",
    "* Versions\n",
    "* Implementations, https://wiki.python.org/moin/PythonImplementations\n",
    "* ``pyc`` files, PVM\n",
    "* Sharing of the source code"
   ]
  },
  {
   "cell_type": "markdown",
   "id": "112d6179",
   "metadata": {},
   "source": [
    "* Command line\n",
    "* PyCharm\n",
    "* Jupyter"
   ]
  },
  {
   "cell_type": "markdown",
   "id": "25ca9e8b",
   "metadata": {},
   "source": [
    "### Keywords"
   ]
  },
  {
   "cell_type": "markdown",
   "id": "549b8de7",
   "metadata": {},
   "source": [
    "https://docs.python.org/3/reference/lexical_analysis.html#keywords"
   ]
  },
  {
   "cell_type": "markdown",
   "id": "03dcccb0",
   "metadata": {},
   "source": [
    "## Hello, World!"
   ]
  },
  {
   "cell_type": "code",
   "execution_count": null,
   "id": "b0e9c5fb",
   "metadata": {},
   "outputs": [],
   "source": [
    "print('Hello, World!')"
   ]
  },
  {
   "cell_type": "markdown",
   "id": "05d0c0f4",
   "metadata": {},
   "source": [
    "$\\rhd$ Run the program from Jupyter, from command line, from a module, from PyCharm!"
   ]
  },
  {
   "cell_type": "markdown",
   "id": "03c8044b",
   "metadata": {},
   "source": [
    "Hash bang on UNIX systems"
   ]
  },
  {
   "cell_type": "raw",
   "id": "5d6f34eb",
   "metadata": {},
   "source": [
    "#!/usr/bin/env python"
   ]
  },
  {
   "cell_type": "code",
   "execution_count": null,
   "id": "162d6929",
   "metadata": {},
   "outputs": [],
   "source": [
    "#!/bin/bash"
   ]
  },
  {
   "cell_type": "markdown",
   "id": "8d3e1e1d",
   "metadata": {},
   "source": [
    "Commenting lines"
   ]
  },
  {
   "cell_type": "code",
   "execution_count": null,
   "id": "8042e5e9",
   "metadata": {},
   "outputs": [],
   "source": [
    "print('Hello, World!') # Comment"
   ]
  },
  {
   "cell_type": "code",
   "execution_count": null,
   "id": "1e6bc86f",
   "metadata": {},
   "outputs": [],
   "source": [
    "\"\"\"\n",
    "print('Hello, World!')\n",
    "print('Hello, World!')\n",
    "print('Hello, World!')\n",
    "\"\"\""
   ]
  },
  {
   "cell_type": "markdown",
   "id": "07e94580",
   "metadata": {},
   "source": [
    "## Variables"
   ]
  },
  {
   "cell_type": "markdown",
   "id": "b3b0e227",
   "metadata": {},
   "source": [
    "* Declaration\n",
    "* Definition\n",
    "* Initialization"
   ]
  },
  {
   "cell_type": "code",
   "execution_count": null,
   "id": "9ab54c7b",
   "metadata": {},
   "outputs": [],
   "source": [
    "variable_name\n",
    "ClassName"
   ]
  },
  {
   "cell_type": "code",
   "execution_count": null,
   "id": "697772ab",
   "metadata": {},
   "outputs": [],
   "source": [
    "x = 1234"
   ]
  },
  {
   "cell_type": "code",
   "execution_count": null,
   "id": "b51da983",
   "metadata": {},
   "outputs": [],
   "source": [
    "print(x)"
   ]
  },
  {
   "cell_type": "code",
   "execution_count": null,
   "id": "d8b446ac",
   "metadata": {},
   "outputs": [],
   "source": [
    "repr(x)"
   ]
  },
  {
   "cell_type": "code",
   "execution_count": null,
   "id": "619a492f",
   "metadata": {},
   "outputs": [],
   "source": [
    "import datetime\n",
    "\n",
    "now = datetime.datetime.now()"
   ]
  },
  {
   "cell_type": "code",
   "execution_count": null,
   "id": "21c83274",
   "metadata": {},
   "outputs": [],
   "source": [
    "print(now)"
   ]
  },
  {
   "cell_type": "code",
   "execution_count": null,
   "id": "2e57112e",
   "metadata": {},
   "outputs": [],
   "source": [
    "repr(now)"
   ]
  },
  {
   "cell_type": "code",
   "execution_count": null,
   "id": "2316d46f",
   "metadata": {},
   "outputs": [],
   "source": [
    "datetime.datetime(2022, 8, 3, 11, 41, 43, 198237)"
   ]
  },
  {
   "cell_type": "code",
   "execution_count": null,
   "id": "1c8599ad",
   "metadata": {},
   "outputs": [],
   "source": [
    "print()\n",
    "repr()"
   ]
  },
  {
   "cell_type": "markdown",
   "id": "f00b2af5",
   "metadata": {},
   "source": [
    "## Input from the user"
   ]
  },
  {
   "cell_type": "markdown",
   "id": "4038dd41",
   "metadata": {},
   "source": [
    "NOTE: It is only important for experimentation!"
   ]
  },
  {
   "cell_type": "code",
   "execution_count": null,
   "id": "32ff76e8",
   "metadata": {},
   "outputs": [],
   "source": [
    "x = input('What is the value of x? ')\n",
    "print(f'The value of x is \"{x}\".')"
   ]
  },
  {
   "cell_type": "code",
   "execution_count": null,
   "id": "b1cbc0b0",
   "metadata": {},
   "outputs": [],
   "source": [
    "print(f'Nincs Python kód')"
   ]
  },
  {
   "cell_type": "code",
   "execution_count": null,
   "id": "557188d5",
   "metadata": {},
   "outputs": [],
   "source": [
    "print(f'Aktuális idő: {datetime.datetime.now()}')"
   ]
  },
  {
   "cell_type": "code",
   "execution_count": null,
   "id": "719e609c",
   "metadata": {},
   "outputs": [],
   "source": [
    "type(x)"
   ]
  },
  {
   "cell_type": "code",
   "execution_count": null,
   "id": "6c391d1f",
   "metadata": {},
   "outputs": [],
   "source": [
    "x = 20\n",
    "type(x)"
   ]
  },
  {
   "cell_type": "code",
   "execution_count": null,
   "id": "5941f76a",
   "metadata": {},
   "outputs": [],
   "source": [
    "x = 'abcd'\n",
    "type(x)"
   ]
  },
  {
   "cell_type": "markdown",
   "id": "5a7d7cdd",
   "metadata": {},
   "source": [
    "## Basic data types"
   ]
  },
  {
   "cell_type": "markdown",
   "id": "34f09a68",
   "metadata": {},
   "source": [
    "### Numbers"
   ]
  },
  {
   "cell_type": "code",
   "execution_count": null,
   "id": "2a745876",
   "metadata": {},
   "outputs": [],
   "source": [
    "n = 1000\n",
    "type(n)"
   ]
  },
  {
   "cell_type": "code",
   "execution_count": null,
   "id": "5fb31c71",
   "metadata": {},
   "outputs": [],
   "source": [
    "n = 2**255"
   ]
  },
  {
   "cell_type": "code",
   "execution_count": null,
   "id": "880bbb07",
   "metadata": {},
   "outputs": [],
   "source": [
    "print(n)"
   ]
  },
  {
   "cell_type": "code",
   "execution_count": null,
   "id": "516b1064",
   "metadata": {},
   "outputs": [],
   "source": [
    "n = 1000.0\n",
    "type(n)"
   ]
  },
  {
   "cell_type": "code",
   "execution_count": null,
   "id": "c15b0235",
   "metadata": {},
   "outputs": [],
   "source": [
    "import math"
   ]
  },
  {
   "cell_type": "code",
   "execution_count": null,
   "id": "4673b672",
   "metadata": {},
   "outputs": [],
   "source": [
    "math.inf > 100"
   ]
  },
  {
   "cell_type": "markdown",
   "id": "c5a416f4",
   "metadata": {},
   "source": [
    "* integers\n",
    "* floating point numbers"
   ]
  },
  {
   "cell_type": "code",
   "execution_count": null,
   "id": "82a4e8c0",
   "metadata": {},
   "outputs": [],
   "source": [
    "type(100 / 10)"
   ]
  },
  {
   "cell_type": "code",
   "execution_count": null,
   "id": "175c42c5",
   "metadata": {},
   "outputs": [],
   "source": [
    "type(100 // 10)"
   ]
  },
  {
   "cell_type": "code",
   "execution_count": null,
   "id": "16122f4e",
   "metadata": {},
   "outputs": [],
   "source": [
    "10 + 1.1"
   ]
  },
  {
   "cell_type": "code",
   "execution_count": null,
   "id": "a6ac4089",
   "metadata": {},
   "outputs": [],
   "source": [
    "type(2e20)"
   ]
  },
  {
   "cell_type": "code",
   "execution_count": null,
   "id": "3efc87bd",
   "metadata": {},
   "outputs": [],
   "source": [
    "f'{2e20:f}'"
   ]
  },
  {
   "cell_type": "code",
   "execution_count": null,
   "id": "0a019b55",
   "metadata": {},
   "outputs": [],
   "source": [
    "100 % 13"
   ]
  },
  {
   "cell_type": "code",
   "execution_count": null,
   "id": "e64afb6c",
   "metadata": {},
   "outputs": [],
   "source": [
    "# q: quotient\n",
    "# r: remainder\n",
    "q = a // b\n",
    "r = a % b"
   ]
  },
  {
   "cell_type": "code",
   "execution_count": null,
   "id": "a0d66a40",
   "metadata": {},
   "outputs": [],
   "source": [
    "a = q * b + r"
   ]
  },
  {
   "cell_type": "code",
   "execution_count": null,
   "id": "0280e393",
   "metadata": {},
   "outputs": [],
   "source": [
    "100 - (100 // 13) * 13"
   ]
  },
  {
   "cell_type": "code",
   "execution_count": null,
   "id": "e2c64094",
   "metadata": {},
   "outputs": [],
   "source": [
    "a = 100\n",
    "b = 13\n",
    "q = a // b\n",
    "r = a % b"
   ]
  },
  {
   "cell_type": "code",
   "execution_count": null,
   "id": "41e07f38",
   "metadata": {},
   "outputs": [],
   "source": [
    "a - b * q == r"
   ]
  },
  {
   "cell_type": "code",
   "execution_count": null,
   "id": "e34421eb",
   "metadata": {},
   "outputs": [],
   "source": [
    "1 / 0"
   ]
  },
  {
   "cell_type": "markdown",
   "id": "02b82784",
   "metadata": {},
   "source": [
    "* binary, octal, decimal, hexadecimal form"
   ]
  },
  {
   "cell_type": "code",
   "execution_count": null,
   "id": "472effe5",
   "metadata": {},
   "outputs": [],
   "source": [
    "mask = 0b10010101"
   ]
  },
  {
   "cell_type": "code",
   "execution_count": null,
   "id": "dc5af879",
   "metadata": {},
   "outputs": [],
   "source": [
    "type(mask)"
   ]
  },
  {
   "cell_type": "code",
   "execution_count": null,
   "id": "05be9442",
   "metadata": {
    "scrolled": true
   },
   "outputs": [],
   "source": [
    "print(mask)"
   ]
  },
  {
   "cell_type": "code",
   "execution_count": null,
   "id": "f9b7462f",
   "metadata": {},
   "outputs": [],
   "source": [
    "ugo = 0o755"
   ]
  },
  {
   "cell_type": "code",
   "execution_count": null,
   "id": "445d07d7",
   "metadata": {},
   "outputs": [],
   "source": [
    "print(f'{ugo:b}')"
   ]
  },
  {
   "cell_type": "code",
   "execution_count": null,
   "id": "257c2bf3",
   "metadata": {},
   "outputs": [],
   "source": [
    "color = 0xAB30F2\n",
    "print(color)"
   ]
  },
  {
   "cell_type": "code",
   "execution_count": null,
   "id": "03447510",
   "metadata": {},
   "outputs": [],
   "source": [
    "y = 1_000_123"
   ]
  },
  {
   "cell_type": "markdown",
   "id": "5ebccc84",
   "metadata": {},
   "source": [
    "Arithmetic operations"
   ]
  },
  {
   "cell_type": "code",
   "execution_count": null,
   "id": "c5a77c3f",
   "metadata": {},
   "outputs": [],
   "source": [
    "2**8"
   ]
  },
  {
   "cell_type": "code",
   "execution_count": null,
   "id": "66cc6a73",
   "metadata": {},
   "outputs": [],
   "source": [
    "& | >> << ^"
   ]
  },
  {
   "cell_type": "code",
   "execution_count": null,
   "id": "cd0f78d5",
   "metadata": {},
   "outputs": [],
   "source": [
    "a_mask = 0b11010101\n",
    "b_mask = 0b10011101"
   ]
  },
  {
   "cell_type": "code",
   "execution_count": null,
   "id": "04ae164f",
   "metadata": {},
   "outputs": [],
   "source": [
    "f'{a_mask & b_mask:b}'"
   ]
  },
  {
   "cell_type": "code",
   "execution_count": null,
   "id": "54f58edb",
   "metadata": {},
   "outputs": [],
   "source": [
    "f'{a_mask | b_mask:b}'"
   ]
  },
  {
   "cell_type": "code",
   "execution_count": null,
   "id": "716697fe",
   "metadata": {},
   "outputs": [],
   "source": [
    "f'{a_mask << 4:b}'"
   ]
  },
  {
   "cell_type": "code",
   "execution_count": null,
   "id": "6130eb38",
   "metadata": {},
   "outputs": [],
   "source": [
    "f'{a_mask >> 2:b}'"
   ]
  },
  {
   "cell_type": "code",
   "execution_count": null,
   "id": "24473e87",
   "metadata": {},
   "outputs": [],
   "source": [
    "x = 100\n",
    "x += 23\n",
    "print(x)"
   ]
  },
  {
   "cell_type": "code",
   "execution_count": null,
   "id": "66de6baa",
   "metadata": {},
   "outputs": [],
   "source": [
    "x = 100\n",
    "x = x + 23\n",
    "print(x)"
   ]
  },
  {
   "cell_type": "markdown",
   "id": "a80adbaa",
   "metadata": {},
   "source": [
    "$\\oplus$ Complex numbers"
   ]
  },
  {
   "cell_type": "code",
   "execution_count": null,
   "id": "8a0537a1",
   "metadata": {},
   "outputs": [],
   "source": [
    "type(3 + 10j)"
   ]
  },
  {
   "cell_type": "code",
   "execution_count": null,
   "id": "470e4ea2",
   "metadata": {},
   "outputs": [],
   "source": [
    "type(0b11 + 0b1010 * 1j)"
   ]
  },
  {
   "cell_type": "code",
   "execution_count": null,
   "id": "516ab63a",
   "metadata": {},
   "outputs": [],
   "source": [
    "0xAB == 0xab"
   ]
  },
  {
   "cell_type": "code",
   "execution_count": null,
   "id": "5455763f",
   "metadata": {},
   "outputs": [],
   "source": [
    "value = 0xAB"
   ]
  },
  {
   "cell_type": "code",
   "execution_count": null,
   "id": "0f3fc018",
   "metadata": {},
   "outputs": [],
   "source": [
    "print(value)"
   ]
  },
  {
   "cell_type": "code",
   "execution_count": null,
   "id": "04d7636e",
   "metadata": {},
   "outputs": [],
   "source": [
    "value = 171"
   ]
  },
  {
   "cell_type": "code",
   "execution_count": null,
   "id": "ff955afc",
   "metadata": {},
   "outputs": [],
   "source": [
    "f'{value:b}'"
   ]
  },
  {
   "cell_type": "markdown",
   "id": "63ceb0e3",
   "metadata": {},
   "source": [
    "### Texts"
   ]
  },
  {
   "cell_type": "code",
   "execution_count": null,
   "id": "aa0e7e0f",
   "metadata": {},
   "outputs": [],
   "source": [
    "text = 'This is a sample text.'"
   ]
  },
  {
   "cell_type": "code",
   "execution_count": null,
   "id": "d2117dac",
   "metadata": {},
   "outputs": [],
   "source": [
    "text = \"This is a sample 'text'.\""
   ]
  },
  {
   "cell_type": "code",
   "execution_count": null,
   "id": "91337c9e",
   "metadata": {},
   "outputs": [],
   "source": [
    "text = 'This is a sample \\'text\\'.'"
   ]
  },
  {
   "cell_type": "code",
   "execution_count": null,
   "id": "31a86324",
   "metadata": {},
   "outputs": [],
   "source": [
    "multi_line = \"\"\"\n",
    "First\n",
    "Second\n",
    "\"\"\""
   ]
  },
  {
   "cell_type": "code",
   "execution_count": null,
   "id": "dc6a627c",
   "metadata": {},
   "outputs": [],
   "source": [
    "multi_line = '''\n",
    "First\n",
    "Second\n",
    "'''"
   ]
  },
  {
   "cell_type": "code",
   "execution_count": null,
   "id": "e69b275a",
   "metadata": {},
   "outputs": [],
   "source": [
    "multi_line = '\n",
    "First\n",
    "Second\n",
    "'"
   ]
  },
  {
   "cell_type": "code",
   "execution_count": null,
   "id": "3555c3a9",
   "metadata": {},
   "outputs": [],
   "source": [
    "def f(a, b):\n",
    "    \"\"\"\n",
    "    This is a function.\n",
    "    :param a: first param\n",
    "    :param b: second param\n",
    "    :return: the result\n",
    "    \"\"\"\n",
    "    return 0"
   ]
  },
  {
   "cell_type": "code",
   "execution_count": null,
   "id": "70ca4913",
   "metadata": {},
   "outputs": [],
   "source": [
    "f.__doc__"
   ]
  },
  {
   "cell_type": "code",
   "execution_count": null,
   "id": "ddaaac08",
   "metadata": {},
   "outputs": [],
   "source": [
    "license()"
   ]
  },
  {
   "cell_type": "code",
   "execution_count": null,
   "id": "7f66b873",
   "metadata": {},
   "outputs": [],
   "source": [
    "multi_line"
   ]
  },
  {
   "cell_type": "markdown",
   "id": "99a3e7c2",
   "metadata": {},
   "source": [
    "* character representation, ``ord`` and ``chr``\n",
    "* single and double quotes\n",
    "* escaping, https://docs.python.org/3/reference/lexical_analysis.html#string-and-bytes-literals\n",
    "* raw strings\n",
    "* bytes\n",
    "* properties, operations"
   ]
  },
  {
   "cell_type": "code",
   "execution_count": null,
   "id": "ffd00385",
   "metadata": {},
   "outputs": [],
   "source": [
    "10 + 20 +\\\n",
    "30 + 40"
   ]
  },
  {
   "cell_type": "code",
   "execution_count": null,
   "id": "3d4b1140",
   "metadata": {},
   "outputs": [],
   "source": [
    "text = 'ez\\naz\\namaz'"
   ]
  },
  {
   "cell_type": "code",
   "execution_count": null,
   "id": "8981358e",
   "metadata": {},
   "outputs": [],
   "source": [
    "print(text)"
   ]
  },
  {
   "cell_type": "code",
   "execution_count": null,
   "id": "9b9293f8",
   "metadata": {},
   "outputs": [],
   "source": [
    "text = 'a\\tb\\tc\\td'\n",
    "print(text)"
   ]
  },
  {
   "cell_type": "code",
   "execution_count": null,
   "id": "46bf9b58",
   "metadata": {},
   "outputs": [],
   "source": [
    "repr(text)"
   ]
  },
  {
   "cell_type": "code",
   "execution_count": null,
   "id": "79f00f07",
   "metadata": {},
   "outputs": [],
   "source": [
    "raw = r'with\\some\\back\\slashes\\\\c'"
   ]
  },
  {
   "cell_type": "code",
   "execution_count": null,
   "id": "02bbd284",
   "metadata": {},
   "outputs": [],
   "source": [
    "print(raw)"
   ]
  },
  {
   "cell_type": "code",
   "execution_count": null,
   "id": "c26c100b",
   "metadata": {},
   "outputs": [],
   "source": [
    "path = r'C:\\Documents\\files\\...'"
   ]
  },
  {
   "cell_type": "code",
   "execution_count": null,
   "id": "c2fdd841",
   "metadata": {},
   "outputs": [],
   "source": [
    "path = 'C:\\\\Documents\\\\files\\\\...'"
   ]
  },
  {
   "cell_type": "code",
   "execution_count": null,
   "id": "84e929f2",
   "metadata": {},
   "outputs": [],
   "source": [
    "binary_data = b'\\x01\\x02\\x03'"
   ]
  },
  {
   "cell_type": "code",
   "execution_count": null,
   "id": "386d04ff",
   "metadata": {},
   "outputs": [],
   "source": [
    "type(binary_data)"
   ]
  },
  {
   "cell_type": "code",
   "execution_count": null,
   "id": "93ae35df",
   "metadata": {},
   "outputs": [],
   "source": [
    "type(binary_data[2])"
   ]
  },
  {
   "cell_type": "code",
   "execution_count": null,
   "id": "64870887",
   "metadata": {},
   "outputs": [],
   "source": [
    "r'''\n",
    "Multi \\t line\n",
    "raw string\n",
    "'''"
   ]
  },
  {
   "cell_type": "code",
   "execution_count": null,
   "id": "7e697fbb",
   "metadata": {},
   "outputs": [],
   "source": [
    "text = 'This is a text.'"
   ]
  },
  {
   "cell_type": "code",
   "execution_count": null,
   "id": "a58511f7",
   "metadata": {},
   "outputs": [],
   "source": [
    "len(text)"
   ]
  },
  {
   "cell_type": "code",
   "execution_count": null,
   "id": "77c05301",
   "metadata": {},
   "outputs": [],
   "source": [
    "for i, c in enumerate(text):\n",
    "    print(f'text[{i}] = \\'{c}\\'')"
   ]
  },
  {
   "cell_type": "code",
   "execution_count": null,
   "id": "97185d1f",
   "metadata": {},
   "outputs": [],
   "source": [
    "text = 'This is a text.'\n",
    "text[3:10]"
   ]
  },
  {
   "cell_type": "code",
   "execution_count": null,
   "id": "0a68d0b7",
   "metadata": {},
   "outputs": [],
   "source": [
    "text = 'This is a text.'\n",
    "text[slice(3, 10)]"
   ]
  },
  {
   "cell_type": "code",
   "execution_count": null,
   "id": "ca63c3b1",
   "metadata": {},
   "outputs": [],
   "source": [
    "text[-15]"
   ]
  },
  {
   "cell_type": "code",
   "execution_count": null,
   "id": "2799136d",
   "metadata": {},
   "outputs": [],
   "source": [
    "text[200]"
   ]
  },
  {
   "cell_type": "code",
   "execution_count": null,
   "id": "bcc453b1",
   "metadata": {},
   "outputs": [],
   "source": [
    "text[-16]"
   ]
  },
  {
   "cell_type": "code",
   "execution_count": null,
   "id": "8dd4e7ce",
   "metadata": {},
   "outputs": [],
   "source": [
    "for i in range(-1, -16, -1):\n",
    "    print(f'text[{i}] = \\'{text[i]}\\'')"
   ]
  },
  {
   "cell_type": "code",
   "execution_count": null,
   "id": "ca96cc0a",
   "metadata": {},
   "outputs": [],
   "source": [
    "text[0:10:2]"
   ]
  },
  {
   "cell_type": "code",
   "execution_count": null,
   "id": "2118d847",
   "metadata": {},
   "outputs": [],
   "source": [
    "text[10:0:-2]"
   ]
  },
  {
   "cell_type": "code",
   "execution_count": null,
   "id": "44045828",
   "metadata": {},
   "outputs": [],
   "source": [
    "text[:10:2]"
   ]
  },
  {
   "cell_type": "code",
   "execution_count": null,
   "id": "248a2bf6",
   "metadata": {},
   "outputs": [],
   "source": [
    "text[4:]"
   ]
  },
  {
   "cell_type": "code",
   "execution_count": null,
   "id": "b2d5956c",
   "metadata": {},
   "outputs": [],
   "source": [
    "text[:]"
   ]
  },
  {
   "cell_type": "code",
   "execution_count": null,
   "id": "305fa26b",
   "metadata": {},
   "outputs": [],
   "source": [
    "text[::-1]"
   ]
  },
  {
   "cell_type": "raw",
   "id": "024f75fb",
   "metadata": {},
   "source": [
    "<start>:<stop>:<step>"
   ]
  },
  {
   "cell_type": "raw",
   "id": "ffab3298",
   "metadata": {},
   "source": [
    "if (start <= stop) {\n",
    "    for (int i = start; i < stop; i += step) { ... }\n",
    "} else {\n",
    "    for (int i = start; i > stop; i -= step) { ... }\n",
    "}"
   ]
  },
  {
   "cell_type": "code",
   "execution_count": null,
   "id": "be93cd75",
   "metadata": {},
   "outputs": [],
   "source": [
    "help(slice)"
   ]
  },
  {
   "cell_type": "code",
   "execution_count": null,
   "id": "62c397a9",
   "metadata": {},
   "outputs": [],
   "source": [
    "'first part' + ' ' + 'second part'"
   ]
  },
  {
   "cell_type": "code",
   "execution_count": null,
   "id": "712825ab",
   "metadata": {},
   "outputs": [],
   "source": [
    "a = 'first part'\n",
    "b = ' '\n",
    "c = 'second part'"
   ]
  },
  {
   "cell_type": "code",
   "execution_count": null,
   "id": "18124672",
   "metadata": {},
   "outputs": [],
   "source": [
    "a + b + c"
   ]
  },
  {
   "cell_type": "code",
   "execution_count": null,
   "id": "b519b076",
   "metadata": {},
   "outputs": [],
   "source": [
    "'?' * 7"
   ]
  },
  {
   "cell_type": "code",
   "execution_count": null,
   "id": "11672da7",
   "metadata": {},
   "outputs": [],
   "source": [
    "('[' + 8 * '-' + ']') * 5"
   ]
  },
  {
   "cell_type": "code",
   "execution_count": null,
   "id": "918ab482",
   "metadata": {},
   "outputs": [],
   "source": [
    "'(' + 10 + ', ' + 20 + ')'"
   ]
  },
  {
   "cell_type": "code",
   "execution_count": null,
   "id": "6383bbd8",
   "metadata": {},
   "outputs": [],
   "source": [
    "'(' + 10"
   ]
  },
  {
   "cell_type": "code",
   "execution_count": null,
   "id": "edbb14bc",
   "metadata": {},
   "outputs": [],
   "source": [
    "'(' + str(10)"
   ]
  },
  {
   "cell_type": "code",
   "execution_count": null,
   "id": "0173352c",
   "metadata": {},
   "outputs": [],
   "source": [
    "'(' + str(True)"
   ]
  },
  {
   "cell_type": "code",
   "execution_count": null,
   "id": "e8bbb097",
   "metadata": {},
   "outputs": [],
   "source": [
    "int('1234')"
   ]
  },
  {
   "cell_type": "markdown",
   "id": "1f3ec51b",
   "metadata": {},
   "source": [
    "### Logical values"
   ]
  },
  {
   "cell_type": "code",
   "execution_count": null,
   "id": "179eaa87",
   "metadata": {},
   "outputs": [],
   "source": [
    "is_valid = True"
   ]
  },
  {
   "cell_type": "code",
   "execution_count": null,
   "id": "51467d36",
   "metadata": {},
   "outputs": [],
   "source": [
    "type(is_valid)"
   ]
  },
  {
   "cell_type": "code",
   "execution_count": null,
   "id": "427d49e0",
   "metadata": {},
   "outputs": [],
   "source": [
    "True, False"
   ]
  },
  {
   "cell_type": "code",
   "execution_count": null,
   "id": "35aa2f38",
   "metadata": {},
   "outputs": [],
   "source": [
    "1000 + True"
   ]
  },
  {
   "cell_type": "code",
   "execution_count": null,
   "id": "e9fe791d",
   "metadata": {},
   "outputs": [],
   "source": [
    "True == 1"
   ]
  },
  {
   "cell_type": "code",
   "execution_count": null,
   "id": "2d8d89f8",
   "metadata": {},
   "outputs": [],
   "source": [
    "False == 0"
   ]
  },
  {
   "cell_type": "code",
   "execution_count": null,
   "id": "31fc36d1",
   "metadata": {},
   "outputs": [],
   "source": [
    "bool(2)"
   ]
  },
  {
   "cell_type": "code",
   "execution_count": null,
   "id": "d27948b0",
   "metadata": {},
   "outputs": [],
   "source": [
    "True is 1"
   ]
  },
  {
   "cell_type": "markdown",
   "id": "21e62bd9",
   "metadata": {},
   "source": [
    "### Nothing"
   ]
  },
  {
   "cell_type": "code",
   "execution_count": null,
   "id": "888d9465",
   "metadata": {},
   "outputs": [],
   "source": [
    "None"
   ]
  },
  {
   "cell_type": "raw",
   "id": "da70cbd8",
   "metadata": {},
   "source": [
    "nil, null"
   ]
  },
  {
   "cell_type": "markdown",
   "id": "2ea0ca0a",
   "metadata": {},
   "source": [
    "### Convertions"
   ]
  },
  {
   "cell_type": "markdown",
   "id": "6edea920",
   "metadata": {},
   "source": [
    "* int to float\n",
    "* float to int (``floor`` vs ``trunc``)\n",
    "* number to text\n",
    "* text to number\n",
    "* bool convertion"
   ]
  },
  {
   "cell_type": "code",
   "execution_count": null,
   "id": "994fadf4",
   "metadata": {},
   "outputs": [],
   "source": [
    "float(2)"
   ]
  },
  {
   "cell_type": "code",
   "execution_count": null,
   "id": "2fecc884",
   "metadata": {},
   "outputs": [],
   "source": [
    "2 + 0.0"
   ]
  },
  {
   "cell_type": "code",
   "execution_count": null,
   "id": "f9f1790f",
   "metadata": {},
   "outputs": [],
   "source": [
    "int(1.2345)"
   ]
  },
  {
   "cell_type": "code",
   "execution_count": null,
   "id": "a8f1d95d",
   "metadata": {},
   "outputs": [],
   "source": [
    "import math\n",
    "\n",
    "type(math.floor(1.2345))"
   ]
  },
  {
   "cell_type": "code",
   "execution_count": null,
   "id": "f85ca27e",
   "metadata": {},
   "outputs": [],
   "source": [
    "int(-1.2345), math.floor(-1.2345)"
   ]
  },
  {
   "cell_type": "code",
   "execution_count": null,
   "id": "83fc3147",
   "metadata": {},
   "outputs": [],
   "source": [
    "math.trunc(-1.2345), math.floor(-1.2345)"
   ]
  },
  {
   "cell_type": "code",
   "execution_count": null,
   "id": "4f5ddb23",
   "metadata": {},
   "outputs": [],
   "source": [
    "n = 321\n",
    "s = f'{n:8d}'\n",
    "print(s)"
   ]
  },
  {
   "cell_type": "code",
   "execution_count": null,
   "id": "aba1e131",
   "metadata": {},
   "outputs": [],
   "source": [
    "n = 321\n",
    "s = f'{n:08d}'\n",
    "print(s)"
   ]
  },
  {
   "cell_type": "code",
   "execution_count": null,
   "id": "9657d1a8",
   "metadata": {},
   "outputs": [],
   "source": [
    "n = 3210\n",
    "s = f'{n:08x}'\n",
    "print(s)"
   ]
  },
  {
   "cell_type": "code",
   "execution_count": null,
   "id": "a0dc8671",
   "metadata": {},
   "outputs": [],
   "source": [
    "value = 1.234\n",
    "print(f'result = {value}')\n",
    "print(f'result = {value:f}')\n",
    "print(f'result = {value:.10f}')\n",
    "print(f'result = {value:12.4f}')"
   ]
  },
  {
   "cell_type": "markdown",
   "id": "63a7bc1a",
   "metadata": {},
   "source": [
    "String interpolation"
   ]
  },
  {
   "cell_type": "code",
   "execution_count": null,
   "id": "a7af71f2",
   "metadata": {},
   "outputs": [],
   "source": [
    "'(' + str(10) + ', ' + str(20) + ')'"
   ]
  },
  {
   "cell_type": "code",
   "execution_count": null,
   "id": "16809974",
   "metadata": {},
   "outputs": [],
   "source": [
    "'(%d, %d)' % (10, 20)"
   ]
  },
  {
   "cell_type": "code",
   "execution_count": null,
   "id": "85db03d6",
   "metadata": {},
   "outputs": [],
   "source": [
    "'({}, {})'.format(10, 20)"
   ]
  },
  {
   "cell_type": "code",
   "execution_count": null,
   "id": "7d7e570c",
   "metadata": {},
   "outputs": [],
   "source": [
    "'({0}, {1})'.format(10, 20)"
   ]
  },
  {
   "cell_type": "code",
   "execution_count": null,
   "id": "4c557d6c",
   "metadata": {},
   "outputs": [],
   "source": [
    "'({1}, {0}, {0})'.format(10, 20)"
   ]
  },
  {
   "cell_type": "code",
   "execution_count": null,
   "id": "e4da5fd5",
   "metadata": {},
   "outputs": [],
   "source": [
    "'({x}, {y})'.format(x=10, y=20)"
   ]
  },
  {
   "cell_type": "code",
   "execution_count": null,
   "id": "d6f166f4",
   "metadata": {},
   "outputs": [],
   "source": [
    "'({x:04d}, {y:06d})'.format(x=10, y=20)"
   ]
  },
  {
   "cell_type": "code",
   "execution_count": null,
   "id": "af7cbdd7",
   "metadata": {},
   "outputs": [],
   "source": [
    "x = 10\n",
    "y = 20\n",
    "f'({x}, {y})'"
   ]
  },
  {
   "cell_type": "code",
   "execution_count": null,
   "id": "d9517ffa",
   "metadata": {},
   "outputs": [],
   "source": [
    "x = 10\n",
    "y = 20\n",
    "f'({x:03d}, {y:^5d})'"
   ]
  },
  {
   "cell_type": "code",
   "execution_count": null,
   "id": "1f3c2da7",
   "metadata": {},
   "outputs": [],
   "source": [
    "x = 10\n",
    "y = 20\n",
    "f'({x:08b}, {y:^20d})'"
   ]
  },
  {
   "cell_type": "markdown",
   "id": "5e80fa26",
   "metadata": {},
   "source": [
    "## Access object details"
   ]
  },
  {
   "cell_type": "code",
   "execution_count": null,
   "id": "3d2f6409",
   "metadata": {},
   "outputs": [],
   "source": [
    "id()\n",
    "type()\n",
    "dir()\n",
    "help()"
   ]
  },
  {
   "cell_type": "code",
   "execution_count": null,
   "id": "c172dd84",
   "metadata": {},
   "outputs": [],
   "source": [
    "x = 1234\n",
    "id(x)"
   ]
  },
  {
   "cell_type": "code",
   "execution_count": null,
   "id": "82446243",
   "metadata": {},
   "outputs": [],
   "source": [
    "id(x)"
   ]
  },
  {
   "cell_type": "code",
   "execution_count": null,
   "id": "cc79515d",
   "metadata": {},
   "outputs": [],
   "source": [
    "y = x"
   ]
  },
  {
   "cell_type": "code",
   "execution_count": null,
   "id": "53aa4cd9",
   "metadata": {},
   "outputs": [],
   "source": [
    "id(y) == id(x)"
   ]
  },
  {
   "cell_type": "code",
   "execution_count": null,
   "id": "e5921032",
   "metadata": {},
   "outputs": [],
   "source": [
    "y is x"
   ]
  },
  {
   "cell_type": "code",
   "execution_count": null,
   "id": "e03bda9d",
   "metadata": {},
   "outputs": [],
   "source": [
    "dir(False)"
   ]
  },
  {
   "cell_type": "code",
   "execution_count": null,
   "id": "6e24ae3d",
   "metadata": {},
   "outputs": [],
   "source": [
    "False.__doc__"
   ]
  },
  {
   "cell_type": "code",
   "execution_count": null,
   "id": "c50b9988",
   "metadata": {},
   "outputs": [],
   "source": [
    "s = 'minta'\n",
    "dir(s)"
   ]
  },
  {
   "cell_type": "code",
   "execution_count": null,
   "id": "3bb2a93c",
   "metadata": {},
   "outputs": [],
   "source": [
    "help(str)"
   ]
  },
  {
   "cell_type": "markdown",
   "id": "a999d82b",
   "metadata": {},
   "source": [
    "### Type checking"
   ]
  },
  {
   "cell_type": "code",
   "execution_count": null,
   "id": "89060284",
   "metadata": {},
   "outputs": [],
   "source": [
    "isinstance(2, int)"
   ]
  },
  {
   "cell_type": "code",
   "execution_count": null,
   "id": "67723799",
   "metadata": {},
   "outputs": [],
   "source": [
    "issubclass(int, bool), issubclass(bool, int)"
   ]
  },
  {
   "cell_type": "code",
   "execution_count": null,
   "id": "047ab53b",
   "metadata": {},
   "outputs": [],
   "source": [
    "help(issubclass)"
   ]
  },
  {
   "cell_type": "code",
   "execution_count": null,
   "id": "fa26670a",
   "metadata": {},
   "outputs": [],
   "source": [
    "dir(int) == dir(bool)"
   ]
  },
  {
   "cell_type": "code",
   "execution_count": null,
   "id": "ed0b6baf",
   "metadata": {},
   "outputs": [],
   "source": [
    "dir(int)"
   ]
  },
  {
   "cell_type": "markdown",
   "id": "8b1e996e",
   "metadata": {},
   "source": [
    "## Compound types"
   ]
  },
  {
   "cell_type": "markdown",
   "id": "3b708b75",
   "metadata": {},
   "source": [
    "### Lists"
   ]
  },
  {
   "cell_type": "code",
   "execution_count": null,
   "id": "2e51dd2f",
   "metadata": {},
   "outputs": [],
   "source": [
    "texts = ['first', 'second', 'third']"
   ]
  },
  {
   "cell_type": "code",
   "execution_count": null,
   "id": "f41ade80",
   "metadata": {},
   "outputs": [],
   "source": [
    "empty_list = []"
   ]
  },
  {
   "cell_type": "code",
   "execution_count": null,
   "id": "975ca4c1",
   "metadata": {},
   "outputs": [],
   "source": [
    "misc = [1, 'szöveg', True, 4.343434, 1, 1, 1]"
   ]
  },
  {
   "cell_type": "code",
   "execution_count": null,
   "id": "1d538305",
   "metadata": {},
   "outputs": [],
   "source": [
    "print(misc)"
   ]
  },
  {
   "cell_type": "code",
   "execution_count": null,
   "id": "13622284",
   "metadata": {},
   "outputs": [],
   "source": [
    "misc[3]"
   ]
  },
  {
   "cell_type": "code",
   "execution_count": null,
   "id": "fa97d096",
   "metadata": {},
   "outputs": [],
   "source": [
    "misc[-5]"
   ]
  },
  {
   "cell_type": "code",
   "execution_count": null,
   "id": "631d6365",
   "metadata": {},
   "outputs": [],
   "source": [
    "misc[:3]"
   ]
  },
  {
   "cell_type": "code",
   "execution_count": null,
   "id": "34c12fde",
   "metadata": {},
   "outputs": [],
   "source": [
    "misc[1::2]"
   ]
  },
  {
   "cell_type": "code",
   "execution_count": null,
   "id": "cfad242f",
   "metadata": {},
   "outputs": [],
   "source": [
    "text = 'minta'\n",
    "text[0] = 'M'"
   ]
  },
  {
   "cell_type": "code",
   "execution_count": null,
   "id": "0101f866",
   "metadata": {},
   "outputs": [],
   "source": [
    "misc = [1, 'szöveg', True, 4.343434, 1, 1, 1]\n",
    "misc[0] = 9000\n",
    "print(misc)"
   ]
  },
  {
   "cell_type": "code",
   "execution_count": null,
   "id": "ee43fbc7",
   "metadata": {},
   "outputs": [],
   "source": [
    "misc.append(222)"
   ]
  },
  {
   "cell_type": "code",
   "execution_count": null,
   "id": "eb3f4bf1",
   "metadata": {},
   "outputs": [],
   "source": [
    "print(misc)"
   ]
  },
  {
   "cell_type": "code",
   "execution_count": null,
   "id": "48c0e153",
   "metadata": {},
   "outputs": [],
   "source": [
    "dir(misc)"
   ]
  },
  {
   "cell_type": "code",
   "execution_count": null,
   "id": "64c5ade5",
   "metadata": {},
   "outputs": [],
   "source": [
    "misc = [1, 'szöveg', True, 4.343434, 1, 1, 1]\n",
    "misc.clear()\n",
    "# misc = []\n",
    "print(misc)"
   ]
  },
  {
   "cell_type": "code",
   "execution_count": null,
   "id": "77e810f6",
   "metadata": {},
   "outputs": [],
   "source": [
    "misc = [1, 'szöveg', True, 4.343434, 1, 1, 1]\n",
    "misc_2 = misc"
   ]
  },
  {
   "cell_type": "code",
   "execution_count": null,
   "id": "dc5b486c",
   "metadata": {},
   "outputs": [],
   "source": [
    "id(misc) == id(misc_2)"
   ]
  },
  {
   "cell_type": "code",
   "execution_count": null,
   "id": "a7e40e57",
   "metadata": {},
   "outputs": [],
   "source": [
    "misc = [1, 'szöveg', True, 4.343434, 1, 1, 1]\n",
    "misc_2 = misc.copy()\n",
    "id(misc) == id(misc_2)"
   ]
  },
  {
   "cell_type": "code",
   "execution_count": null,
   "id": "9d434cc2",
   "metadata": {},
   "outputs": [],
   "source": [
    "misc.count(1)"
   ]
  },
  {
   "cell_type": "code",
   "execution_count": null,
   "id": "a440810d",
   "metadata": {},
   "outputs": [],
   "source": [
    "a_list = [1, 2, 3]\n",
    "b_list = ['c', 'd', 'e']\n",
    "a_list + b_list"
   ]
  },
  {
   "cell_type": "code",
   "execution_count": null,
   "id": "5b776cb3",
   "metadata": {},
   "outputs": [],
   "source": [
    "a_list.extend(b_list)"
   ]
  },
  {
   "cell_type": "code",
   "execution_count": null,
   "id": "35dc6bbc",
   "metadata": {},
   "outputs": [],
   "source": [
    "a_list"
   ]
  },
  {
   "cell_type": "code",
   "execution_count": null,
   "id": "d9477dbd",
   "metadata": {},
   "outputs": [],
   "source": [
    "a_list += b_list"
   ]
  },
  {
   "cell_type": "code",
   "execution_count": null,
   "id": "4024ac35",
   "metadata": {},
   "outputs": [],
   "source": [
    "a_list"
   ]
  },
  {
   "cell_type": "code",
   "execution_count": null,
   "id": "cb6a33f1",
   "metadata": {},
   "outputs": [],
   "source": [
    "a_list = [1, 2, 3]\n",
    "b_list = ['c', 'd', 'e']\n",
    "a_list.append(b_list)\n",
    "len(a_list)"
   ]
  },
  {
   "cell_type": "code",
   "execution_count": null,
   "id": "1e97cc9c",
   "metadata": {},
   "outputs": [],
   "source": [
    "a_list[-1]"
   ]
  },
  {
   "cell_type": "code",
   "execution_count": null,
   "id": "cde076b9",
   "metadata": {},
   "outputs": [],
   "source": [
    "a_list"
   ]
  },
  {
   "cell_type": "code",
   "execution_count": null,
   "id": "920436dd",
   "metadata": {},
   "outputs": [],
   "source": [
    "b_list = ['c', 'd', 'e', 'c']\n",
    "b_list.index('c')"
   ]
  },
  {
   "cell_type": "code",
   "execution_count": null,
   "id": "bd4e7613",
   "metadata": {},
   "outputs": [],
   "source": [
    "b_list = ['c', 'd', 'e']\n",
    "_ = b_list.pop(1)\n",
    "b_list"
   ]
  },
  {
   "cell_type": "code",
   "execution_count": null,
   "id": "634795a5",
   "metadata": {},
   "outputs": [],
   "source": [
    "b_list = ['c', 'd', 'e']\n",
    "b_list.pop(1)\n",
    "b_list"
   ]
  },
  {
   "cell_type": "code",
   "execution_count": null,
   "id": "502529c3",
   "metadata": {},
   "outputs": [],
   "source": [
    "list.pop.__doc__"
   ]
  },
  {
   "cell_type": "code",
   "execution_count": null,
   "id": "c927ed0f",
   "metadata": {},
   "outputs": [],
   "source": [
    "b_list = ['c', 'd', 'e']\n",
    "b_list.insert(1, 'cs')"
   ]
  },
  {
   "cell_type": "code",
   "execution_count": null,
   "id": "aa9f165d",
   "metadata": {},
   "outputs": [],
   "source": [
    "b_list"
   ]
  },
  {
   "cell_type": "code",
   "execution_count": null,
   "id": "66214307",
   "metadata": {},
   "outputs": [],
   "source": [
    "b_list = ['c', 'd', 'e']\n",
    "b_list.insert(10**100, 'cs')\n",
    "b_list.insert(101, 'www')\n",
    "b_list"
   ]
  },
  {
   "cell_type": "code",
   "execution_count": null,
   "id": "c14a1986",
   "metadata": {},
   "outputs": [],
   "source": [
    "b_list = ['c', 'd', 'e']\n",
    "b_list.remove('c')"
   ]
  },
  {
   "cell_type": "code",
   "execution_count": null,
   "id": "30239ffc",
   "metadata": {},
   "outputs": [],
   "source": [
    "print(b_list)"
   ]
  },
  {
   "cell_type": "code",
   "execution_count": null,
   "id": "0f99b4fe",
   "metadata": {},
   "outputs": [],
   "source": [
    "b_list = ['c', 'd', 'e']\n",
    "last_item = b_list.pop()"
   ]
  },
  {
   "cell_type": "code",
   "execution_count": null,
   "id": "2046b0d2",
   "metadata": {},
   "outputs": [],
   "source": [
    "a_list = [1, 2, 3]\n",
    "b_list = ['c', 'd', 'e']\n",
    "a_list.append(b_list.pop())"
   ]
  },
  {
   "cell_type": "code",
   "execution_count": null,
   "id": "c1c83860",
   "metadata": {},
   "outputs": [],
   "source": [
    "print(a_list)"
   ]
  },
  {
   "cell_type": "code",
   "execution_count": null,
   "id": "3aad1cd2",
   "metadata": {},
   "outputs": [],
   "source": [
    "c_list = ['a', 'b', 'c', 'd', 'e']\n",
    "d_list = c_list[::2]"
   ]
  },
  {
   "cell_type": "code",
   "execution_count": null,
   "id": "e242e39b",
   "metadata": {},
   "outputs": [],
   "source": [
    "d_list"
   ]
  },
  {
   "cell_type": "code",
   "execution_count": null,
   "id": "6c80e61c",
   "metadata": {},
   "outputs": [],
   "source": [
    "c_list = ['a', 'b', 'c', 'd', 'e']\n",
    "# c_list.pop()\n",
    "c_list = c_list[:-1]"
   ]
  },
  {
   "cell_type": "code",
   "execution_count": null,
   "id": "c647a1ae",
   "metadata": {},
   "outputs": [],
   "source": [
    "c_list"
   ]
  },
  {
   "cell_type": "code",
   "execution_count": null,
   "id": "4b085fff",
   "metadata": {},
   "outputs": [],
   "source": [
    "c_list = ['a', 'b', 'c', 'd', 'e']\n",
    "c_list.reverse()\n",
    "c_list"
   ]
  },
  {
   "cell_type": "code",
   "execution_count": null,
   "id": "c19dd158",
   "metadata": {},
   "outputs": [],
   "source": [
    "scores = [4, 3, 1, 6, 5, 4, 2]\n",
    "scores.sort()\n",
    "scores"
   ]
  },
  {
   "cell_type": "code",
   "execution_count": null,
   "id": "d10e3ca4",
   "metadata": {},
   "outputs": [],
   "source": [
    "scores = [4, 3, 1, 6, 5, 4, 2]\n",
    "sum(scores)"
   ]
  },
  {
   "cell_type": "code",
   "execution_count": null,
   "id": "1076c28f",
   "metadata": {},
   "outputs": [],
   "source": [
    "max(scores)"
   ]
  },
  {
   "cell_type": "code",
   "execution_count": null,
   "id": "05207f57",
   "metadata": {},
   "outputs": [],
   "source": [
    "min(scores)"
   ]
  },
  {
   "cell_type": "markdown",
   "id": "2d3945d6",
   "metadata": {},
   "source": [
    "### Tuples"
   ]
  },
  {
   "cell_type": "code",
   "execution_count": null,
   "id": "c4f27834",
   "metadata": {},
   "outputs": [],
   "source": [
    "texts = ('first', 'second', 'third')"
   ]
  },
  {
   "cell_type": "code",
   "execution_count": null,
   "id": "168fe6cb",
   "metadata": {},
   "outputs": [],
   "source": [
    "len(texts)"
   ]
  },
  {
   "cell_type": "code",
   "execution_count": null,
   "id": "5afb8b88",
   "metadata": {},
   "outputs": [],
   "source": [
    "texts[0] = '1th'"
   ]
  },
  {
   "cell_type": "code",
   "execution_count": null,
   "id": "78e9f109",
   "metadata": {},
   "outputs": [],
   "source": [
    "dir(texts)"
   ]
  },
  {
   "cell_type": "markdown",
   "id": "b339952b",
   "metadata": {},
   "source": [
    "* Item assignment"
   ]
  },
  {
   "cell_type": "code",
   "execution_count": null,
   "id": "fc4aa211",
   "metadata": {},
   "outputs": [],
   "source": [
    "t = 4, 6, 8"
   ]
  },
  {
   "cell_type": "code",
   "execution_count": null,
   "id": "0582b2d2",
   "metadata": {},
   "outputs": [],
   "source": [
    "type(t)"
   ]
  },
  {
   "cell_type": "code",
   "execution_count": null,
   "id": "b6130c33",
   "metadata": {},
   "outputs": [],
   "source": [
    "t = (5)"
   ]
  },
  {
   "cell_type": "code",
   "execution_count": null,
   "id": "32d5391d",
   "metadata": {},
   "outputs": [],
   "source": [
    "type(t)"
   ]
  },
  {
   "cell_type": "code",
   "execution_count": null,
   "id": "f967b42e",
   "metadata": {},
   "outputs": [],
   "source": [
    "t = (5,)"
   ]
  },
  {
   "cell_type": "code",
   "execution_count": null,
   "id": "fc5a614e",
   "metadata": {},
   "outputs": [],
   "source": [
    "type(t)"
   ]
  },
  {
   "cell_type": "code",
   "execution_count": null,
   "id": "12e35c1e",
   "metadata": {},
   "outputs": [],
   "source": [
    "t = (True, [], (3, 4))"
   ]
  },
  {
   "cell_type": "code",
   "execution_count": null,
   "id": "8f5f2a5c",
   "metadata": {},
   "outputs": [],
   "source": [
    "t[1].append(567)"
   ]
  },
  {
   "cell_type": "code",
   "execution_count": null,
   "id": "330b8ed7",
   "metadata": {},
   "outputs": [],
   "source": [
    "t"
   ]
  },
  {
   "cell_type": "code",
   "execution_count": null,
   "id": "206154e2",
   "metadata": {},
   "outputs": [],
   "source": [
    "t[1] = [567, 567]"
   ]
  },
  {
   "cell_type": "markdown",
   "id": "83bcb986",
   "metadata": {},
   "source": [
    "### Sets"
   ]
  },
  {
   "cell_type": "code",
   "execution_count": null,
   "id": "cf1577c1",
   "metadata": {},
   "outputs": [],
   "source": [
    "names = {'some', 'unique', 'name'}"
   ]
  },
  {
   "cell_type": "code",
   "execution_count": null,
   "id": "db538748",
   "metadata": {},
   "outputs": [],
   "source": [
    "names"
   ]
  },
  {
   "cell_type": "code",
   "execution_count": null,
   "id": "1258d50c",
   "metadata": {},
   "outputs": [],
   "source": [
    "len(names)"
   ]
  },
  {
   "cell_type": "markdown",
   "id": "dae20ab5",
   "metadata": {},
   "source": [
    "* ``add``\n",
    "* common set operations"
   ]
  },
  {
   "cell_type": "code",
   "execution_count": null,
   "id": "c8740f8d",
   "metadata": {},
   "outputs": [],
   "source": [
    "names.add('new')\n",
    "names.add('some')"
   ]
  },
  {
   "cell_type": "code",
   "execution_count": null,
   "id": "cb061c31",
   "metadata": {},
   "outputs": [],
   "source": [
    "names"
   ]
  },
  {
   "cell_type": "markdown",
   "id": "12b14fc6",
   "metadata": {},
   "source": [
    "Is an element of the set?"
   ]
  },
  {
   "cell_type": "code",
   "execution_count": null,
   "id": "d4641ec4",
   "metadata": {},
   "outputs": [],
   "source": [
    "'unique' in names"
   ]
  },
  {
   "cell_type": "code",
   "execution_count": null,
   "id": "79c80ac1",
   "metadata": {},
   "outputs": [],
   "source": [
    "'notfound' in names"
   ]
  },
  {
   "cell_type": "code",
   "execution_count": null,
   "id": "e0c45cd3",
   "metadata": {},
   "outputs": [],
   "source": [
    "a_set = {1, 5, 6}\n",
    "b_set = {2, 4, 6, 7}"
   ]
  },
  {
   "cell_type": "markdown",
   "id": "7c732c29",
   "metadata": {},
   "source": [
    "union"
   ]
  },
  {
   "cell_type": "code",
   "execution_count": null,
   "id": "d9a9f0d8",
   "metadata": {},
   "outputs": [],
   "source": [
    "a_set | b_set"
   ]
  },
  {
   "cell_type": "markdown",
   "id": "e8b6d5a9",
   "metadata": {},
   "source": [
    "intersection"
   ]
  },
  {
   "cell_type": "code",
   "execution_count": null,
   "id": "a7a7959f",
   "metadata": {},
   "outputs": [],
   "source": [
    "a_set & b_set"
   ]
  },
  {
   "cell_type": "markdown",
   "id": "edd814f8",
   "metadata": {},
   "source": [
    "difference"
   ]
  },
  {
   "cell_type": "code",
   "execution_count": null,
   "id": "0c77d097",
   "metadata": {},
   "outputs": [],
   "source": [
    "b_set - a_set"
   ]
  },
  {
   "cell_type": "markdown",
   "id": "862e019b",
   "metadata": {},
   "source": [
    "symmetric difference"
   ]
  },
  {
   "cell_type": "code",
   "execution_count": null,
   "id": "cb1d29d1",
   "metadata": {},
   "outputs": [],
   "source": [
    "b_set ^ a_set"
   ]
  },
  {
   "cell_type": "markdown",
   "id": "85dcdb05",
   "metadata": {},
   "source": [
    "Is a subset?"
   ]
  },
  {
   "cell_type": "code",
   "execution_count": null,
   "id": "4ca1bd41",
   "metadata": {},
   "outputs": [],
   "source": [
    "{2, 4} < b_set"
   ]
  },
  {
   "cell_type": "code",
   "execution_count": null,
   "id": "efaf4d86",
   "metadata": {},
   "outputs": [],
   "source": [
    "b_set > {2, 4}"
   ]
  },
  {
   "cell_type": "markdown",
   "id": "90427513",
   "metadata": {},
   "source": [
    "### Dictionaries"
   ]
  },
  {
   "cell_type": "code",
   "execution_count": null,
   "id": "1c02d5f9",
   "metadata": {},
   "outputs": [],
   "source": [
    "d = {\n",
    "    'a': 1,\n",
    "    'b': 2,\n",
    "    'c': 3\n",
    "}"
   ]
  },
  {
   "cell_type": "code",
   "execution_count": null,
   "id": "63f72c00",
   "metadata": {},
   "outputs": [],
   "source": [
    "len(d)"
   ]
  },
  {
   "cell_type": "code",
   "execution_count": null,
   "id": "459b97c3",
   "metadata": {},
   "outputs": [],
   "source": [
    "d['a']"
   ]
  },
  {
   "cell_type": "code",
   "execution_count": null,
   "id": "63b5c294",
   "metadata": {},
   "outputs": [],
   "source": [
    "d['a'] = 1111"
   ]
  },
  {
   "cell_type": "code",
   "execution_count": null,
   "id": "4cd0dc44",
   "metadata": {},
   "outputs": [],
   "source": [
    "d"
   ]
  },
  {
   "cell_type": "code",
   "execution_count": null,
   "id": "7305a167",
   "metadata": {},
   "outputs": [],
   "source": [
    "d['k'] = 'Inserted!'"
   ]
  },
  {
   "cell_type": "code",
   "execution_count": null,
   "id": "4aef23b6",
   "metadata": {},
   "outputs": [],
   "source": [
    "d"
   ]
  },
  {
   "cell_type": "code",
   "execution_count": null,
   "id": "b64630bc",
   "metadata": {},
   "outputs": [],
   "source": [
    "'k2' in d"
   ]
  },
  {
   "cell_type": "code",
   "execution_count": null,
   "id": "addbd01e",
   "metadata": {},
   "outputs": [],
   "source": [
    "d.keys()"
   ]
  },
  {
   "cell_type": "code",
   "execution_count": null,
   "id": "846ff9f2",
   "metadata": {},
   "outputs": [],
   "source": [
    "d.values()"
   ]
  },
  {
   "cell_type": "code",
   "execution_count": null,
   "id": "8a996c35",
   "metadata": {},
   "outputs": [],
   "source": [
    "type(d.keys())"
   ]
  },
  {
   "cell_type": "code",
   "execution_count": null,
   "id": "72391cb4",
   "metadata": {},
   "outputs": [],
   "source": [
    "d.items()"
   ]
  },
  {
   "cell_type": "code",
   "execution_count": null,
   "id": "a9b9c620",
   "metadata": {},
   "outputs": [],
   "source": [
    "dir(dict)"
   ]
  },
  {
   "cell_type": "code",
   "execution_count": null,
   "id": "44435dc1",
   "metadata": {},
   "outputs": [],
   "source": [
    "d = {\n",
    "    'a': 1,\n",
    "    'b': 2,\n",
    "    'c': 3\n",
    "}\n",
    "d.pop('b')\n",
    "print(d)"
   ]
  },
  {
   "cell_type": "code",
   "execution_count": null,
   "id": "24960098",
   "metadata": {},
   "outputs": [],
   "source": [
    "rv = d.popitem()\n",
    "print(rv)"
   ]
  },
  {
   "cell_type": "code",
   "execution_count": null,
   "id": "4767607f",
   "metadata": {},
   "outputs": [],
   "source": [
    "d = {\n",
    "    'a': 1,\n",
    "    'b': 2,\n",
    "    'c': 3\n",
    "}\n",
    "# print(d['f'])\n",
    "print(d.get('f'))"
   ]
  },
  {
   "cell_type": "code",
   "execution_count": null,
   "id": "fec620ca",
   "metadata": {},
   "outputs": [],
   "source": [
    "d = {\n",
    "    'a': 1,\n",
    "    'b': 2,\n",
    "    'c': 3\n",
    "}\n",
    "d.setdefault('a', 100)\n",
    "d.setdefault('d', 100)\n",
    "print(d)"
   ]
  },
  {
   "cell_type": "code",
   "execution_count": null,
   "id": "57138186",
   "metadata": {},
   "outputs": [],
   "source": [
    "d.setdefault.__doc__"
   ]
  },
  {
   "cell_type": "code",
   "execution_count": 1,
   "id": "a06fc33f",
   "metadata": {},
   "outputs": [
    {
     "name": "stdout",
     "output_type": "stream",
     "text": [
      "{'a': 1, 'b': 20, 'c': 3, 'g': 40}\n"
     ]
    }
   ],
   "source": [
    "d = {\n",
    "    'a': 1,\n",
    "    'b': 2,\n",
    "    'c': 3\n",
    "}\n",
    "d_2 = {\n",
    "    'b': 20,\n",
    "    'g': 40\n",
    "}\n",
    "d.update(d_2)\n",
    "print(d)"
   ]
  },
  {
   "cell_type": "markdown",
   "id": "5b232dec",
   "metadata": {},
   "source": [
    "$\\rhd$ Create a dictionary from two lists!"
   ]
  },
  {
   "cell_type": "code",
   "execution_count": null,
   "id": "1372b483",
   "metadata": {},
   "outputs": [],
   "source": [
    "keys = ['a', 'b', 'c']\n",
    "values = [1, 2, 3]\n",
    "items = [('a', 1), ('b', 2), ('c', 3)]\n",
    "d = dict(items)\n",
    "print(d)"
   ]
  },
  {
   "cell_type": "code",
   "execution_count": null,
   "id": "e48d1121",
   "metadata": {},
   "outputs": [],
   "source": [
    "keys = ['a', 'b', 'c']\n",
    "values = [1, 2, 3]\n",
    "items = zip(keys, values)\n",
    "d = dict(items)\n",
    "print(d)"
   ]
  },
  {
   "cell_type": "code",
   "execution_count": null,
   "id": "f5aa24f2",
   "metadata": {},
   "outputs": [],
   "source": [
    "list(zip(keys, values))"
   ]
  },
  {
   "cell_type": "code",
   "execution_count": null,
   "id": "2fa7795b",
   "metadata": {},
   "outputs": [],
   "source": [
    "keys = ['a', 'b', 'c']\n",
    "values = [1, 2, 3]\n",
    "d = dict(zip(keys, values))\n",
    "print(d)"
   ]
  },
  {
   "cell_type": "markdown",
   "id": "0f258d9b",
   "metadata": {},
   "source": [
    "$\\rhd$ Compare the list, tuple, set and dictionary syntax with 0, 1, 2 and 3 elements!"
   ]
  },
  {
   "cell_type": "raw",
   "id": "619bf5f1",
   "metadata": {},
   "source": [
    "[]      ()      set()   {}\n",
    "[1]     (1,)    {1}     {'a': 1}\n",
    "[1, 2]  (1, 2)  {1, 2}  {'a': 1, 'b': 2}\n",
    "..."
   ]
  },
  {
   "cell_type": "markdown",
   "id": "a724c10f",
   "metadata": {},
   "source": [
    "## Slices"
   ]
  },
  {
   "cell_type": "code",
   "execution_count": null,
   "id": "893243ef",
   "metadata": {},
   "outputs": [],
   "source": [
    "text = 'This is a sample.'\n",
    "text[2:4]"
   ]
  },
  {
   "cell_type": "code",
   "execution_count": null,
   "id": "a44f7269",
   "metadata": {},
   "outputs": [],
   "source": [
    "slice(2, None, -1)"
   ]
  },
  {
   "cell_type": "code",
   "execution_count": null,
   "id": "26c3da1e",
   "metadata": {},
   "outputs": [],
   "source": [
    "slice(start, stop, step)\n",
    "start:stop:step"
   ]
  },
  {
   "cell_type": "code",
   "execution_count": null,
   "id": "0e412450",
   "metadata": {},
   "outputs": [],
   "source": [
    "::-10\n",
    "slice(None, None, -10)"
   ]
  },
  {
   "cell_type": "markdown",
   "id": "528d9b14",
   "metadata": {},
   "source": [
    "## Iterables, ranges"
   ]
  },
  {
   "cell_type": "code",
   "execution_count": null,
   "id": "8d842b86",
   "metadata": {},
   "outputs": [],
   "source": [
    "list(range(3, 6)) * 8"
   ]
  },
  {
   "cell_type": "code",
   "execution_count": null,
   "id": "d988fd8a",
   "metadata": {},
   "outputs": [],
   "source": [
    "(4, 1, 2) * 3"
   ]
  },
  {
   "cell_type": "markdown",
   "id": "9c5caab9",
   "metadata": {},
   "source": [
    "## Mutability"
   ]
  },
  {
   "cell_type": "markdown",
   "id": "c7d8b5ed",
   "metadata": {},
   "source": [
    "* Mutable and immutable types"
   ]
  },
  {
   "cell_type": "markdown",
   "id": "e8f43ba1",
   "metadata": {},
   "source": [
    "## Assignment of sequential types"
   ]
  },
  {
   "cell_type": "code",
   "execution_count": null,
   "id": "be95bddb",
   "metadata": {},
   "outputs": [],
   "source": [
    "a, b, c = 1, 2, 3"
   ]
  },
  {
   "cell_type": "markdown",
   "id": "e0604c8b",
   "metadata": {},
   "source": [
    "## Comparison, containment"
   ]
  },
  {
   "cell_type": "markdown",
   "id": "227566ab",
   "metadata": {},
   "source": [
    "### Compare by value"
   ]
  },
  {
   "cell_type": "code",
   "execution_count": null,
   "id": "eb475543",
   "metadata": {},
   "outputs": [],
   "source": [
    "=="
   ]
  },
  {
   "cell_type": "markdown",
   "id": "71af647c",
   "metadata": {},
   "source": [
    "* chained comparison (range check)\n",
    "* float precision problems"
   ]
  },
  {
   "cell_type": "code",
   "execution_count": null,
   "id": "85f1485a",
   "metadata": {},
   "outputs": [],
   "source": [
    "1.1 + 2.2 == 3.3"
   ]
  },
  {
   "cell_type": "markdown",
   "id": "04473db5",
   "metadata": {},
   "source": [
    "### Compare by identity"
   ]
  },
  {
   "cell_type": "code",
   "execution_count": null,
   "id": "fbe7f6ff",
   "metadata": {},
   "outputs": [],
   "source": [
    "is"
   ]
  },
  {
   "cell_type": "markdown",
   "id": "9080898b",
   "metadata": {},
   "source": [
    "### Containment"
   ]
  },
  {
   "cell_type": "code",
   "execution_count": null,
   "id": "6ca6a877",
   "metadata": {},
   "outputs": [],
   "source": [
    "in"
   ]
  },
  {
   "cell_type": "markdown",
   "id": "73282be1",
   "metadata": {},
   "source": [
    "### Logical expressions"
   ]
  },
  {
   "cell_type": "code",
   "execution_count": null,
   "id": "80dcae96",
   "metadata": {},
   "outputs": [],
   "source": [
    "and\n",
    "or\n",
    "not"
   ]
  },
  {
   "cell_type": "markdown",
   "id": "335f89ec",
   "metadata": {},
   "source": [
    "* De Morgan rule\n",
    "* Automatic bool convertion\n",
    "* Short circuit"
   ]
  },
  {
   "cell_type": "code",
   "execution_count": null,
   "id": "d9b6bf1d",
   "metadata": {},
   "outputs": [],
   "source": [
    "bool()"
   ]
  },
  {
   "cell_type": "markdown",
   "id": "d8a77c03",
   "metadata": {},
   "source": [
    "## Built in functions"
   ]
  },
  {
   "cell_type": "code",
   "execution_count": null,
   "id": "d82f8be9",
   "metadata": {},
   "outputs": [],
   "source": [
    "dir(__builtins__)"
   ]
  },
  {
   "cell_type": "markdown",
   "id": "167e3d7d",
   "metadata": {},
   "source": [
    "# Examples"
   ]
  },
  {
   "cell_type": "markdown",
   "id": "3726635d",
   "metadata": {},
   "source": [
    "$\\rhd$ Store personal data in a dictionary!"
   ]
  },
  {
   "cell_type": "markdown",
   "id": "e6a5e45e",
   "metadata": {},
   "source": [
    "$\\rhd$ Collect the common type names into a dictionary, where the value signs the immutability!"
   ]
  },
  {
   "cell_type": "markdown",
   "id": "cfbf0b3e",
   "metadata": {},
   "source": [
    "$\\rhd$ Convert an IP address to hexadecimal form, and to tuple of integers!"
   ]
  },
  {
   "cell_type": "markdown",
   "id": "60ced284",
   "metadata": {},
   "source": [
    "$\\rhd$ Collect (only) the built-in functions!"
   ]
  }
 ],
 "metadata": {
  "kernelspec": {
   "display_name": "Python 3 (ipykernel)",
   "language": "python",
   "name": "python3"
  },
  "language_info": {
   "codemirror_mode": {
    "name": "ipython",
    "version": 3
   },
   "file_extension": ".py",
   "mimetype": "text/x-python",
   "name": "python",
   "nbconvert_exporter": "python",
   "pygments_lexer": "ipython3",
   "version": "3.10.5"
  }
 },
 "nbformat": 4,
 "nbformat_minor": 5
}
