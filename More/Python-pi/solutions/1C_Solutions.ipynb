{
 "cells": [
  {
   "cell_type": "markdown",
   "id": "1d960393",
   "metadata": {},
   "source": [
    "# Exercises"
   ]
  },
  {
   "cell_type": "markdown",
   "id": "7b654bdc",
   "metadata": {},
   "source": [
    "**(1)** Print the version number of the interpreter!"
   ]
  },
  {
   "cell_type": "code",
   "execution_count": null,
   "id": "b0ca576f",
   "metadata": {},
   "outputs": [],
   "source": [
    "import sys\n",
    "\n",
    "print(f'Python version: {sys.version}')"
   ]
  },
  {
   "cell_type": "code",
   "execution_count": null,
   "id": "2c380e60",
   "metadata": {},
   "outputs": [],
   "source": [
    "import platform\n",
    "\n",
    "print(f'Python version: {platform.python_version()}')"
   ]
  },
  {
   "cell_type": "markdown",
   "id": "9e3ab38d",
   "metadata": {},
   "source": [
    "**(2)** Write a program, which requires a value from the user and print it in hexadecimal form!"
   ]
  },
  {
   "cell_type": "code",
   "execution_count": null,
   "id": "723ddc42",
   "metadata": {},
   "outputs": [],
   "source": [
    "value = input('Decimal value: ')\n",
    "int_value = int(value)\n",
    "print(f'Hexadecimal: {int_value:X}')"
   ]
  },
  {
   "cell_type": "markdown",
   "id": "01fdd915",
   "metadata": {},
   "source": [
    "**(3)** Calculate the average of the following weights!"
   ]
  },
  {
   "cell_type": "code",
   "execution_count": null,
   "id": "e814dc7c",
   "metadata": {},
   "outputs": [],
   "source": [
    "weight = [0.7, 9.2, 3.8, 7.4, 5.5]\n",
    "average = sum(weight) / len(weight)\n",
    "print(f'Average = {average}')"
   ]
  },
  {
   "cell_type": "markdown",
   "id": "7f4093ea",
   "metadata": {},
   "source": [
    "**(4)** Print the minimal and maximal value of the weights in a tuple!"
   ]
  },
  {
   "cell_type": "code",
   "execution_count": null,
   "id": "01fbbd34",
   "metadata": {},
   "outputs": [],
   "source": [
    "weights = [0.7, 9.2, 3.8, 7.4, 5.5]\n",
    "result = (min(weights), max(weights))\n",
    "print(f'Bounds: {result}')"
   ]
  },
  {
   "cell_type": "code",
   "execution_count": null,
   "id": "39d9b690",
   "metadata": {},
   "outputs": [],
   "source": [
    "weights = [0.7, 9.2, 3.8, 7.4, 5.5]\n",
    "result = min(weights), max(weights)\n",
    "print(f'Bounds: {result}')"
   ]
  },
  {
   "cell_type": "markdown",
   "id": "de02c961",
   "metadata": {},
   "source": [
    "**(5)** Collect the common elements of the following lists."
   ]
  },
  {
   "cell_type": "code",
   "execution_count": null,
   "id": "e3fc75fc",
   "metadata": {},
   "outputs": [],
   "source": [
    "a_list = [8, 3, 'third', False, 2, 9]\n",
    "b_list = [3, 9, True, 'other']\n",
    "common_elements = set(a_list) & set(b_list)\n",
    "print(f'Common elements: {common_elements}')"
   ]
  },
  {
   "cell_type": "code",
   "execution_count": null,
   "id": "84a5590e",
   "metadata": {},
   "outputs": [],
   "source": [
    "a_list = [8, 3, 'third', False, 2, 9]\n",
    "b_list = [3, 9, True, 'other']\n",
    "common_elements = set(a_list).intersection(set(b_list))\n",
    "print(f'Common elements: {common_elements}')"
   ]
  },
  {
   "cell_type": "markdown",
   "id": "00688a82",
   "metadata": {},
   "source": [
    "**(6)** Collect the common values of the following dictionaries."
   ]
  },
  {
   "cell_type": "code",
   "execution_count": null,
   "id": "4b207349",
   "metadata": {},
   "outputs": [],
   "source": [
    "a_dict = {\n",
    "    'name': 'A',\n",
    "    'age': 80,\n",
    "    'height': 200,\n",
    "    'location': 'B'\n",
    "}\n",
    "b_dict = {\n",
    "    'name': 'B',\n",
    "    'age': 200,\n",
    "    'height': 180,\n",
    "    'description': 'C'\n",
    "}"
   ]
  },
  {
   "cell_type": "code",
   "execution_count": null,
   "id": "229f9a2b",
   "metadata": {},
   "outputs": [],
   "source": [
    "common_values = set(a_dict.values()) & set(b_dict.values())\n",
    "print(f'Common values: {common_values}')"
   ]
  },
  {
   "cell_type": "markdown",
   "id": "a9897535",
   "metadata": {},
   "source": [
    "**(7)** Count how many different values are in the following dictionary!"
   ]
  },
  {
   "cell_type": "code",
   "execution_count": null,
   "id": "8ed602cb",
   "metadata": {},
   "outputs": [],
   "source": [
    "a_dict = {\n",
    "    'name': 'A',\n",
    "    'age': 80,\n",
    "    'height': 200,\n",
    "    'location': 'B'\n",
    "}\n",
    "b_dict = {\n",
    "    'name': 'B',\n",
    "    'age': 200,\n",
    "    'height': 180,\n",
    "    'description': 'C'\n",
    "}"
   ]
  },
  {
   "cell_type": "code",
   "execution_count": null,
   "id": "db2aa356",
   "metadata": {},
   "outputs": [],
   "source": [
    "unique_values = set(a_dict.values()) | set(b_dict.values())\n",
    "print(f'Count of different values: {len(unique_values)}')"
   ]
  },
  {
   "cell_type": "code",
   "execution_count": null,
   "id": "707c9789",
   "metadata": {},
   "outputs": [],
   "source": [
    "unique_values = set(a_dict.values()).union(set(b_dict.values()))\n",
    "print(f'Count of different values: {len(unique_values)}')"
   ]
  },
  {
   "cell_type": "markdown",
   "id": "9bd9961a",
   "metadata": {},
   "source": [
    "**(8)** Define a dictionary which contains the name and number of the months!"
   ]
  },
  {
   "cell_type": "code",
   "execution_count": null,
   "id": "fda0eb79",
   "metadata": {},
   "outputs": [],
   "source": [
    "months = {\n",
    "    'January': 1,\n",
    "    'February': 2,\n",
    "    'March': 3,\n",
    "    'April': 4,\n",
    "    'May': 5,\n",
    "    'June': 6,\n",
    "    'July': 7,\n",
    "    'August': 8,\n",
    "    'September': 9,\n",
    "    'October': 10,\n",
    "    'November': 11,\n",
    "    'December': 12\n",
    "}"
   ]
  },
  {
   "cell_type": "markdown",
   "id": "ec2f1d53",
   "metadata": {},
   "source": [
    "**(9)** Require a text from the user and print only its last two word!\n",
    "* We can assume that the words are separated by spaces, and\n",
    "* the user provides at least two words in the text."
   ]
  },
  {
   "cell_type": "code",
   "execution_count": null,
   "id": "de2732fe",
   "metadata": {},
   "outputs": [],
   "source": [
    "text = input('Text: ')\n",
    "last_words = text.split(' ')[-2:]\n",
    "print(f'Last words: {last_words}')"
   ]
  },
  {
   "cell_type": "markdown",
   "id": "dfd20cee",
   "metadata": {},
   "source": [
    "**(10)** Print the even numbers between 400 and 420!"
   ]
  },
  {
   "cell_type": "code",
   "execution_count": null,
   "id": "42e27c25",
   "metadata": {},
   "outputs": [],
   "source": [
    "print(list(range(400, 421, 2)))"
   ]
  },
  {
   "cell_type": "markdown",
   "id": "858131e8",
   "metadata": {},
   "source": [
    "**(11)** Require a text from the user and print it in reverse order!"
   ]
  },
  {
   "cell_type": "code",
   "execution_count": null,
   "id": "e27ec4a7",
   "metadata": {},
   "outputs": [],
   "source": [
    "text = input('Text: ')\n",
    "print(f'Reversed: \"{text[::-1]}\"')"
   ]
  },
  {
   "cell_type": "markdown",
   "id": "5b7db487",
   "metadata": {},
   "source": [
    "**(12)** Require a text from the user and check that its first and last character is the same!"
   ]
  },
  {
   "cell_type": "code",
   "execution_count": null,
   "id": "a0275ca1",
   "metadata": {},
   "outputs": [],
   "source": [
    "text = input('Text: ')\n",
    "text[0] == text[-1]"
   ]
  },
  {
   "cell_type": "code",
   "execution_count": null,
   "id": "f1271d4a",
   "metadata": {},
   "outputs": [],
   "source": [
    "text = input('Text: ')\n",
    "result = text[0] == text[-1]\n",
    "print(f'Are the same? {result}')"
   ]
  },
  {
   "cell_type": "markdown",
   "id": "61a593fe",
   "metadata": {},
   "source": [
    "**(13)** Require a name from the user and check that whether is it a builtin name or not!"
   ]
  },
  {
   "cell_type": "code",
   "execution_count": null,
   "id": "8b15fe23",
   "metadata": {},
   "outputs": [],
   "source": [
    "name = input('name: ')\n",
    "name in dir(__builtins__)"
   ]
  },
  {
   "cell_type": "code",
   "execution_count": null,
   "id": "6e7caafc",
   "metadata": {},
   "outputs": [],
   "source": [
    "name = input('name: ')\n",
    "is_builtin_name = name in dir(__builtins__)\n",
    "print(f'The name \"{name}\" is in built-ins: {}')"
   ]
  },
  {
   "cell_type": "markdown",
   "id": "c7e6df67",
   "metadata": {},
   "source": [
    "**(14)** How many ``-`` characters are in the following line?\n",
    "* Print it more elegantly!"
   ]
  },
  {
   "cell_type": "raw",
   "id": "7df8388d",
   "metadata": {},
   "source": [
    "--------------------------------------------------------------"
   ]
  },
  {
   "cell_type": "code",
   "execution_count": null,
   "id": "2badca30",
   "metadata": {},
   "outputs": [],
   "source": [
    "len('--------------------------------------------------------------')"
   ]
  },
  {
   "cell_type": "code",
   "execution_count": null,
   "id": "a199b4bc",
   "metadata": {},
   "outputs": [],
   "source": [
    "'-' * 62"
   ]
  },
  {
   "cell_type": "markdown",
   "id": "28962c9b",
   "metadata": {},
   "source": [
    "**(15)** Require 3 words from the user and print it separated by spaces!"
   ]
  },
  {
   "cell_type": "code",
   "execution_count": null,
   "id": "c54cc3a6",
   "metadata": {},
   "outputs": [],
   "source": [
    "word_1 = input('First word: ')\n",
    "word_2 = input('Second word: ')\n",
    "word_3 = input('Third word: ')\n",
    "print(f'{word_1} {word_2} {word_3}')"
   ]
  },
  {
   "cell_type": "markdown",
   "id": "442dd8df",
   "metadata": {},
   "source": [
    "**(16)** Require the beginning and the end of an interval, and print the integer values between them!\n",
    "* Let assume that the interval is exclusive in both sides!\n",
    "* Check the interval by using the ``assert`` keyword!"
   ]
  },
  {
   "cell_type": "code",
   "execution_count": null,
   "id": "b2c7826f",
   "metadata": {},
   "outputs": [],
   "source": [
    "a = int(input('Beginning of the interval: '))\n",
    "b = int(input('End of the interval: '))\n",
    "assert a < b, 'The interval is invalid!'\n",
    "print(list(range(a + 1, b)))"
   ]
  },
  {
   "cell_type": "markdown",
   "id": "9792702e",
   "metadata": {},
   "source": [
    "**(17)** Collect the object the known types which boolean value is not true!"
   ]
  },
  {
   "cell_type": "code",
   "execution_count": null,
   "id": "4cea5af0",
   "metadata": {},
   "outputs": [],
   "source": [
    "None, False, 0, 0.0, '', [], (), set(), {}"
   ]
  },
  {
   "cell_type": "markdown",
   "id": "d56cc651",
   "metadata": {},
   "source": [
    "**(18)** Define two tuples which equal but not identical!"
   ]
  },
  {
   "cell_type": "code",
   "execution_count": null,
   "id": "c29f45ac",
   "metadata": {},
   "outputs": [],
   "source": [
    "a = ([])\n",
    "b = ([])\n",
    "assert a == b\n",
    "assert a is not b"
   ]
  },
  {
   "cell_type": "markdown",
   "id": "d8ec0f89",
   "metadata": {},
   "source": [
    "**(19)** Require an e-mail address from the user, and check that it contains ``@`` and ``.`` characters!\n",
    "* The \"check\" here means that print it is true or false."
   ]
  },
  {
   "cell_type": "code",
   "execution_count": null,
   "id": "282eaded",
   "metadata": {},
   "outputs": [],
   "source": [
    "email = input('E-mail address: ')\n",
    "has_at = '@' in email\n",
    "print(f'Has \"@\" character? {has_at}')\n",
    "has_dot = '.' in email\n",
    "print(f'Has \".\" character? {has_dot}')"
   ]
  },
  {
   "cell_type": "markdown",
   "id": "a682497f",
   "metadata": {},
   "source": [
    "**(20)** Give an example for the De Morgan rule by logical expressions!"
   ]
  },
  {
   "cell_type": "code",
   "execution_count": null,
   "id": "52762760",
   "metadata": {},
   "outputs": [],
   "source": [
    "a, b = True, False\n",
    "# a, b can be arbitrary logical value.\n",
    "cond_1 = not (a is True and b is False)\n",
    "cond_2 = a is not True or b is not False\n",
    "assert cond_1 is cond_2"
   ]
  },
  {
   "cell_type": "markdown",
   "id": "db34123c",
   "metadata": {},
   "source": [
    "**(21)** Print every fifth built in names!"
   ]
  },
  {
   "cell_type": "code",
   "execution_count": null,
   "id": "3e8c4e4d",
   "metadata": {},
   "outputs": [],
   "source": [
    "dir(__builtins__)[::5]"
   ]
  },
  {
   "cell_type": "code",
   "execution_count": null,
   "id": "1da8370a",
   "metadata": {},
   "outputs": [],
   "source": [
    "# A more accurate solution:\n",
    "dir(__builtins__)[4:][::5]"
   ]
  },
  {
   "cell_type": "markdown",
   "id": "501299b4",
   "metadata": {},
   "source": [
    "**(22)** Write a Python expression which results the following list!"
   ]
  },
  {
   "cell_type": "code",
   "execution_count": null,
   "id": "11202ea1",
   "metadata": {},
   "outputs": [],
   "source": [
    "[3, 4, 5, 3, 4, 5, 3, 4, 5, 3, 4, 5, 3, 4, 5, 3, 4, 5, 3, 4, 5, 3, 4, 5]"
   ]
  },
  {
   "cell_type": "code",
   "execution_count": null,
   "id": "78fbd371",
   "metadata": {},
   "outputs": [],
   "source": [
    "[3, 4, 5] * 8"
   ]
  },
  {
   "cell_type": "markdown",
   "id": "2005d3b0",
   "metadata": {},
   "source": [
    "**(23)** Require four integer numbers from the user and print that it is a new one, or it has been already given!"
   ]
  },
  {
   "cell_type": "code",
   "execution_count": null,
   "id": "acf52043",
   "metadata": {},
   "outputs": [],
   "source": [
    "numbers = []\n",
    "n = int(input('First? '))\n",
    "numbers.append(n)\n",
    "n = int(input('Second? '))\n",
    "print(f'Has been already given? {n in numbers}')\n",
    "numbers.append(n)\n",
    "n = int(input('Third? '))\n",
    "print(f'Has been already given? {n in numbers}')\n",
    "numbers.append(n)\n",
    "n = int(input('Forth? '))\n",
    "print(f'Has been already given? {n in numbers}')"
   ]
  },
  {
   "cell_type": "markdown",
   "id": "0883f832",
   "metadata": {},
   "source": [
    "**(24)** Represent a Tic-Tac-Toe table as a list of lists!"
   ]
  },
  {
   "cell_type": "code",
   "execution_count": null,
   "id": "699acfac",
   "metadata": {},
   "outputs": [],
   "source": [
    "table = [\n",
    "    [' ', 'X', 'O'],\n",
    "    [' ', 'X', 'O'],\n",
    "    ['O', 'X', ' '],\n",
    "]"
   ]
  }
 ],
 "metadata": {
  "kernelspec": {
   "display_name": "Python 3 (ipykernel)",
   "language": "python",
   "name": "python3"
  },
  "language_info": {
   "codemirror_mode": {
    "name": "ipython",
    "version": 3
   },
   "file_extension": ".py",
   "mimetype": "text/x-python",
   "name": "python",
   "nbconvert_exporter": "python",
   "pygments_lexer": "ipython3",
   "version": "3.10.5"
  }
 },
 "nbformat": 4,
 "nbformat_minor": 5
}
