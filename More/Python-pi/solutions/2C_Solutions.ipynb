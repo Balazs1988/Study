{
 "cells": [
  {
   "cell_type": "markdown",
   "id": "1d960393",
   "metadata": {},
   "source": [
    "# Exercises"
   ]
  },
  {
   "cell_type": "markdown",
   "id": "dc1e09e1",
   "metadata": {},
   "source": [
    "**(1)** Count the non negative numbers in the following set."
   ]
  },
  {
   "cell_type": "code",
   "execution_count": null,
   "id": "289df988",
   "metadata": {},
   "outputs": [],
   "source": [
    "values = {1, -3, -8.3, 2.7, -4.4, 1.1}\n",
    "\n",
    "n = 0\n",
    "for value in values:\n",
    "    if value >= 0:\n",
    "        n += 1\n",
    "print(f'Count of non negative integers: {n}')"
   ]
  },
  {
   "cell_type": "code",
   "execution_count": null,
   "id": "20a3b516",
   "metadata": {},
   "outputs": [],
   "source": [
    "values = {1, -3, -8.3, 2.7, -4.4, 1.1}\n",
    "\n",
    "n = len([x for x in values if x >= 0])\n",
    "print(f'Count of non negative integers: {n}')"
   ]
  },
  {
   "cell_type": "code",
   "execution_count": null,
   "id": "93dbf4f7",
   "metadata": {},
   "outputs": [],
   "source": [
    "values = {1, -3, -8.3, 2.7, -4.4, 1.1}\n",
    "\n",
    "n = sum(list(map(lambda x: 1 if x >= 0 else 0, values)))\n",
    "print(f'Count of non negative integers: {n}')"
   ]
  },
  {
   "cell_type": "markdown",
   "id": "e1274d0a",
   "metadata": {},
   "source": [
    "**(2)** Collect the even numbers from the tuple to a list."
   ]
  },
  {
   "cell_type": "code",
   "execution_count": null,
   "id": "35fe25a2",
   "metadata": {},
   "outputs": [],
   "source": [
    "counts = (323, 842, 771, 984, 970, 120, 394, 385, 643)\n",
    "\n",
    "even_numbers = []\n",
    "for count in counts:\n",
    "    if count % 2 == 0:\n",
    "        even_numbers.append(count)\n",
    "print(f'Even numbers: {even_numbers}')"
   ]
  },
  {
   "cell_type": "code",
   "execution_count": null,
   "id": "0961ecc6",
   "metadata": {},
   "outputs": [],
   "source": [
    "counts = (323, 842, 771, 984, 970, 120, 394, 385, 643)\n",
    "\n",
    "even_numbers = [count for count in counts if count % 2 == 0]\n",
    "print(f'Even numbers: {even_numbers}')"
   ]
  },
  {
   "cell_type": "markdown",
   "id": "ec1f38f4",
   "metadata": {},
   "source": [
    "**(3)** Collect the values which are in the interval $[a, b)$."
   ]
  },
  {
   "cell_type": "code",
   "execution_count": null,
   "id": "90aedbc4",
   "metadata": {},
   "outputs": [],
   "source": [
    "counts = (323, 842, 771, 984, 970, 120, 394, 385, 643)\n",
    "a = 100\n",
    "b = 500\n",
    "\n",
    "result = []\n",
    "for count in counts:\n",
    "    if a <= count < b:\n",
    "        result.append(count)\n",
    "print(f'Collected values: {result}')"
   ]
  },
  {
   "cell_type": "markdown",
   "id": "aa91a1ac",
   "metadata": {},
   "source": [
    "**(4)** Collect all of the four-digit integers to a dictionary!\n",
    "* Let the key be the sum of the digits!\n",
    "* Let the value be the list of integers!"
   ]
  },
  {
   "cell_type": "code",
   "execution_count": null,
   "id": "1845dc92",
   "metadata": {},
   "outputs": [],
   "source": [
    "result = {\n",
    "    1: [1000],\n",
    "    2: [1001, 1010, 1100],\n",
    "    3: [1002, 1011, 1110, ...],\n",
    "    ...\n",
    "    36: [9999]\n",
    "}"
   ]
  },
  {
   "cell_type": "code",
   "execution_count": null,
   "id": "62c48fdd",
   "metadata": {},
   "outputs": [],
   "source": [
    "result = {}\n",
    "for n in range(1000, 10000):\n",
    "    digits = list(str(n))\n",
    "    key = 0\n",
    "    for digit in digits:\n",
    "        key += int(digit)\n",
    "    if key not in result:\n",
    "        result[key] = []\n",
    "    result[key].append(n)"
   ]
  },
  {
   "cell_type": "code",
   "execution_count": null,
   "id": "128d9170",
   "metadata": {},
   "outputs": [],
   "source": [
    "print(result)"
   ]
  },
  {
   "cell_type": "markdown",
   "id": "d48c4943",
   "metadata": {},
   "source": [
    "**(5)** Print the index, character code and the character itself of a string!"
   ]
  },
  {
   "cell_type": "code",
   "execution_count": null,
   "id": "62f67792",
   "metadata": {},
   "outputs": [],
   "source": [
    "text = 'sample'"
   ]
  },
  {
   "cell_type": "raw",
   "id": "1fadce15",
   "metadata": {},
   "source": [
    "# Expected output\n",
    "[0] code: 115, char: 's'\n",
    "[1] code: 97, char: 'a'\n",
    "[2] code: 109, char: 'm'\n",
    "[3] code: 112, char: 'p'\n",
    "[4] code: 108, char: 'l'\n",
    "[5] code: 101, char: 'e'"
   ]
  },
  {
   "cell_type": "code",
   "execution_count": null,
   "id": "8d2ec861",
   "metadata": {},
   "outputs": [],
   "source": [
    "for i, c in enumerate(text):\n",
    "    print(f'[{i}] code: {ord(c)}, char: \\'{c}\\'')"
   ]
  },
  {
   "cell_type": "markdown",
   "id": "d7595b13",
   "metadata": {},
   "source": [
    "**(6)** Find the most common digit of an integer value (in base 10)!\n",
    "* Raise an error when there are more possible digits!"
   ]
  },
  {
   "cell_type": "code",
   "execution_count": null,
   "id": "327648a9",
   "metadata": {},
   "outputs": [],
   "source": [
    "# Examples:\n",
    "# 11123421 -> 1\n",
    "# 22333 -> 3"
   ]
  },
  {
   "cell_type": "code",
   "execution_count": null,
   "id": "78905516",
   "metadata": {},
   "outputs": [],
   "source": [
    "n = 11123421\n",
    "# n = 22333\n",
    "# n = 11123444\n",
    "counts = [0] * 10\n",
    "for c in str(n):\n",
    "    digit = int(c)\n",
    "    counts[digit] += 1\n",
    "most_common_digit = 0\n",
    "max_count = counts[most_common_digit]\n",
    "for i in range(1, 10):\n",
    "    if counts[i] > max_count:\n",
    "        most_common_digit = i\n",
    "        max_count = counts[i]\n",
    "if counts.count(max_count) > 1:\n",
    "    raise ValueError('There are more possible digits!')\n",
    "print(f'Most common digit: {most_common_digit}')"
   ]
  },
  {
   "cell_type": "markdown",
   "id": "c4c9927b",
   "metadata": {},
   "source": [
    "**(7)** Calculate the average length of the texts in a tuple!"
   ]
  },
  {
   "cell_type": "code",
   "execution_count": null,
   "id": "bd522ec5",
   "metadata": {},
   "outputs": [],
   "source": [
    "texts = ('Calculate', 'the', 'average', 'length', 'of', 'the', 'texts', 'in', 'a', 'tuple')\n",
    "lengths = []\n",
    "for text in texts:\n",
    "    lengths.append(len(text))\n",
    "average_length = sum(lengths) / len(lengths)\n",
    "print(f'Average length: {average_length}')"
   ]
  },
  {
   "cell_type": "code",
   "execution_count": null,
   "id": "d02640c9",
   "metadata": {},
   "outputs": [],
   "source": [
    "texts = ('Calculate', 'the', 'average', 'length', 'of', 'the', 'texts', 'in', 'a', 'tuple')\n",
    "s = 0\n",
    "for text in texts:\n",
    "    s += len(text)\n",
    "average_length = s / len(texts)\n",
    "print(f'Average length: {average_length}')"
   ]
  },
  {
   "cell_type": "code",
   "execution_count": null,
   "id": "9a6847f1",
   "metadata": {},
   "outputs": [],
   "source": [
    "texts = ('Calculate', 'the', 'average', 'length', 'of', 'the', 'texts', 'in', 'a', 'tuple')\n",
    "lengths = [len(text) for text in texts]\n",
    "average_length = sum(lengths) / len(lengths)\n",
    "print(f'Average length: {average_length}')"
   ]
  },
  {
   "cell_type": "code",
   "execution_count": null,
   "id": "e45cfd15",
   "metadata": {},
   "outputs": [],
   "source": [
    "texts = ('Calculate', 'the', 'average', 'length', 'of', 'the', 'texts', 'in', 'a', 'tuple')\n",
    "lengths = list(map(lambda text: len(text), texts))\n",
    "average_length = sum(lengths) / len(lengths)\n",
    "print(f'Average length: {average_length}')"
   ]
  },
  {
   "cell_type": "markdown",
   "id": "66b21a4d",
   "metadata": {},
   "source": [
    "**(8)** Check that the list of floating point values are ordered (ascending or descending)!"
   ]
  },
  {
   "cell_type": "code",
   "execution_count": null,
   "id": "6703c6e0",
   "metadata": {},
   "outputs": [],
   "source": [
    "values = [1.1, 2.0, 3.8, 7.1]\n",
    "is_ascending = True\n",
    "for i in range(len(values) - 1):\n",
    "    if values[i] > values[i + 1]:\n",
    "        is_ascending = False\n",
    "        # break\n",
    "print(f'Is ascending? {is_ascending}')"
   ]
  },
  {
   "cell_type": "code",
   "execution_count": null,
   "id": "22bb26b8",
   "metadata": {},
   "outputs": [],
   "source": [
    "values = [1.1, 2.0, 3.8, 7.1]\n",
    "is_descending = True\n",
    "for i in range(len(values) - 1):\n",
    "    if values[i] < values[i + 1]:\n",
    "        is_descending = False\n",
    "        # break\n",
    "print(f'Is descending? {is_descending}')"
   ]
  },
  {
   "cell_type": "code",
   "execution_count": null,
   "id": "7322d72b",
   "metadata": {},
   "outputs": [],
   "source": [
    "values = [1.1, 2.0, 3.8, 7.1]\n",
    "is_ascending = values == sorted(values)\n",
    "print(f'Is ascending? {is_ascending}')"
   ]
  },
  {
   "cell_type": "code",
   "execution_count": null,
   "id": "ed5a3517",
   "metadata": {},
   "outputs": [],
   "source": [
    "values = [1.1, 2.0, 3.8, 7.1]\n",
    "is_descending = values == sorted(values, reverse=True)\n",
    "print(f'Is descending? {is_descending}')"
   ]
  },
  {
   "cell_type": "markdown",
   "id": "f982a05f",
   "metadata": {},
   "source": [
    "**(9)** Correct the placing of a comma in a text!"
   ]
  },
  {
   "cell_type": "code",
   "execution_count": null,
   "id": "f1be5763",
   "metadata": {},
   "outputs": [],
   "source": [
    "# Examples:\n",
    "# 'The order of comma ,space is wrong!' -> # 'The order of comma, space is wrong!'\n",
    "# 'a, b ,c ,d' -> 'a, b, c, d'"
   ]
  },
  {
   "cell_type": "code",
   "execution_count": null,
   "id": "cec4a8d6",
   "metadata": {},
   "outputs": [],
   "source": [
    "text = 'The order of comma ,space is wrong!'\n",
    "corrected = ''\n",
    "i = 0\n",
    "while i < len(text):\n",
    "    if text[i] == ' ' and text[i + 1] == ',':\n",
    "        corrected += ', '\n",
    "        i += 2\n",
    "    else:\n",
    "        corrected += text[i]\n",
    "        i += 1\n",
    "print(f'Corrected: \"{corrected}\"')"
   ]
  },
  {
   "cell_type": "code",
   "execution_count": null,
   "id": "4c41e3ea",
   "metadata": {},
   "outputs": [],
   "source": [
    "text = 'The order of comma ,space is wrong!'\n",
    "corrected = text.replace(' ,', ', ')\n",
    "print(f'Corrected: \"{corrected}\"')"
   ]
  },
  {
   "cell_type": "markdown",
   "id": "f9abbf28",
   "metadata": {},
   "source": [
    "**(10)** Split a list to a list of lists with maximal length!\n",
    "* Use a variable for the maximal size!"
   ]
  },
  {
   "cell_type": "code",
   "execution_count": null,
   "id": "60f8530f",
   "metadata": {},
   "outputs": [],
   "source": [
    "# Example:\n",
    "# [1, 2, 3, 4, 5, 6, 7]\n",
    "# Expected result for maximal length 3:\n",
    "# [[1, 2, 3], [4, 5, 6], [7]]"
   ]
  },
  {
   "cell_type": "code",
   "execution_count": null,
   "id": "2a6d6480",
   "metadata": {},
   "outputs": [],
   "source": [
    "values = [1, 2, 3, 4, 5, 6, 7]\n",
    "maximal_size = 3\n",
    "result = []\n",
    "row = []\n",
    "for value in values:\n",
    "    row.append(value)\n",
    "    if len(row) == maximal_size:\n",
    "        result.append(row)\n",
    "        row = []\n",
    "if len(row) > 0:\n",
    "    result.append(row)\n",
    "print('List of lists:')\n",
    "print(result)"
   ]
  }
 ],
 "metadata": {
  "kernelspec": {
   "display_name": "Python 3 (ipykernel)",
   "language": "python",
   "name": "python3"
  },
  "language_info": {
   "codemirror_mode": {
    "name": "ipython",
    "version": 3
   },
   "file_extension": ".py",
   "mimetype": "text/x-python",
   "name": "python",
   "nbconvert_exporter": "python",
   "pygments_lexer": "ipython3",
   "version": "3.10.5"
  }
 },
 "nbformat": 4,
 "nbformat_minor": 5
}
