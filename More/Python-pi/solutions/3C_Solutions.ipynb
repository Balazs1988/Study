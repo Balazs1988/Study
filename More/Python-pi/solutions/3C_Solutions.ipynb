{
 "cells": [
  {
   "cell_type": "markdown",
   "id": "1d960393",
   "metadata": {},
   "source": [
    "# Exercises"
   ]
  },
  {
   "cell_type": "markdown",
   "id": "7e2ad4d1",
   "metadata": {},
   "source": [
    "**(1)** Define a function for insert elements to a list without using the build in ``insert`` method!"
   ]
  },
  {
   "cell_type": "markdown",
   "id": "78ca2543",
   "metadata": {},
   "source": [
    "Insert in place"
   ]
  },
  {
   "cell_type": "code",
   "execution_count": null,
   "id": "d9281ae1",
   "metadata": {},
   "outputs": [],
   "source": [
    "def insert_element(list_, index, element):\n",
    "    \"\"\"\n",
    "    Insert an element to a list.\n",
    "    :param list_: list of arbitrary types\n",
    "    :param index: index of the insertion\n",
    "    :param element: the inserted element\n",
    "    :return: None\n",
    "    \"\"\"\n",
    "    list_.append(None)\n",
    "    i = len(list_) - 1\n",
    "    assert 0 <= index <= i\n",
    "    while i > index:\n",
    "        list_[i] = list_[i - 1]\n",
    "        i -= 1\n",
    "    list_[i] = element"
   ]
  },
  {
   "cell_type": "code",
   "execution_count": null,
   "id": "7b851f2c",
   "metadata": {},
   "outputs": [],
   "source": [
    "values = [0, 1, 3, 4]\n",
    "print(f'Values (before insertion): {values}')\n",
    "insert_element(values, 2, '2')\n",
    "print(f'Values (after insertion): {values}')\n",
    "print(values)"
   ]
  },
  {
   "cell_type": "markdown",
   "id": "c26fce71",
   "metadata": {},
   "source": [
    "Return by a new list"
   ]
  },
  {
   "cell_type": "code",
   "execution_count": null,
   "id": "f2a15853",
   "metadata": {},
   "outputs": [],
   "source": [
    "def insert_element(list_, index, element):\n",
    "    \"\"\"\n",
    "    Insert an element to a list.\n",
    "    :param list_: list of arbitrary types\n",
    "    :param index: index of the insertion\n",
    "    :param element: the inserted element\n",
    "    :return: the resulted list\n",
    "    \"\"\"\n",
    "    list_ = list_[:]\n",
    "    list_.append(None)\n",
    "    i = len(list_) - 1\n",
    "    assert 0 <= index <= i\n",
    "    while i > index:\n",
    "        list_[i] = list_[i - 1]\n",
    "        i -= 1\n",
    "    list_[i] = element\n",
    "    return list_"
   ]
  },
  {
   "cell_type": "code",
   "execution_count": null,
   "id": "4bb48ed0",
   "metadata": {},
   "outputs": [],
   "source": [
    "values = [0, 1, 3, 4]\n",
    "result = insert_element(values, 2, '2')\n",
    "print(f'Values: {values}')\n",
    "print(f'Result: {result}')"
   ]
  },
  {
   "cell_type": "markdown",
   "id": "33b35ebf",
   "metadata": {},
   "source": [
    "**(2)** Define a function which skips the repeated values from a list!\n",
    "* The input and the output also should be a list.\n",
    "* Try to solve it without using other built in types!"
   ]
  },
  {
   "cell_type": "code",
   "execution_count": null,
   "id": "990ccab4",
   "metadata": {},
   "outputs": [],
   "source": [
    "def skip_repeated(values):\n",
    "    \"\"\"\n",
    "    Skip the repeated values from the list.\n",
    "    :return: a list without repeated values\n",
    "    \"\"\"\n",
    "    result = []\n",
    "    for i, value in enumerate(values):\n",
    "        is_exists = False\n",
    "        for j in range(i):\n",
    "            if values[j] == value:\n",
    "                is_exists = True\n",
    "                # break\n",
    "        if is_exists is False:\n",
    "            result.append(value)\n",
    "    return result"
   ]
  },
  {
   "cell_type": "code",
   "execution_count": null,
   "id": "e95c8c9a",
   "metadata": {},
   "outputs": [],
   "source": [
    "values = [1, 2, 3, 1, 1, 8, 4, 0, 2]\n",
    "result = skip_repeated(values)\n",
    "print(f'Result: {result}')"
   ]
  },
  {
   "cell_type": "markdown",
   "id": "af4a4fe3",
   "metadata": {},
   "source": [
    "**(3)** Define a function which converts a list to a dictionary, where the keys are the index of the list elements!"
   ]
  },
  {
   "cell_type": "code",
   "execution_count": null,
   "id": "0baf3c4e",
   "metadata": {},
   "outputs": [],
   "source": [
    "def convert_to_dict(values):\n",
    "    \"\"\"\n",
    "    Convert a list to a dictionary.\n",
    "    :param values: a list of arbitrary types\n",
    "    :return: a dictionary\n",
    "    \"\"\"\n",
    "    result = {}\n",
    "    for i, value in enumerate(values):\n",
    "        result[i] = value\n",
    "    return result"
   ]
  },
  {
   "cell_type": "code",
   "execution_count": null,
   "id": "fba131b8",
   "metadata": {},
   "outputs": [],
   "source": [
    "sample = ['Define', 'a', 'function', 'which', 'converts', 'a', 'list']\n",
    "result = convert_to_dict(sample)\n",
    "print(f'Result: {result}')"
   ]
  },
  {
   "cell_type": "markdown",
   "id": "cf2e9bec",
   "metadata": {},
   "source": [
    "**(4)** Define a function for drawing a triangle!\n",
    "* Use the number of the rows as a parameter!\n",
    "* Generalize the function by using custom character for drawing (with the default ``*`` character)!\n",
    "* Use different character for drawing a border! Define a ``need_border`` parameter!"
   ]
  },
  {
   "cell_type": "raw",
   "id": "e94c15a1",
   "metadata": {},
   "source": [
    "*\n",
    "**\n",
    "***\n",
    "****"
   ]
  },
  {
   "cell_type": "code",
   "execution_count": null,
   "id": "b4586a54",
   "metadata": {},
   "outputs": [],
   "source": [
    "def draw_triangle(size):\n",
    "    \"\"\"\n",
    "    Draw a triangle from characters.\n",
    "    :param size: the number of rows\n",
    "    :return: None\n",
    "    \"\"\"\n",
    "    for i in range(size):\n",
    "        print('*' * (i + 1))"
   ]
  },
  {
   "cell_type": "code",
   "execution_count": null,
   "id": "28c7336d",
   "metadata": {},
   "outputs": [],
   "source": [
    "draw_triangle(4)"
   ]
  },
  {
   "cell_type": "code",
   "execution_count": null,
   "id": "363f9322",
   "metadata": {},
   "outputs": [],
   "source": [
    "def draw_triangle(size, char='*'):\n",
    "    \"\"\"\n",
    "    Draw a triangle from characters.\n",
    "    :param size: the number of rows\n",
    "    :param char: character used for drawing\n",
    "    :return: None\n",
    "    \"\"\"\n",
    "    for i in range(size):\n",
    "        print(char * (i + 1))"
   ]
  },
  {
   "cell_type": "code",
   "execution_count": null,
   "id": "36b865ad",
   "metadata": {},
   "outputs": [],
   "source": [
    "draw_triangle(4, char='!')"
   ]
  },
  {
   "cell_type": "code",
   "execution_count": null,
   "id": "4f598257",
   "metadata": {},
   "outputs": [],
   "source": [
    "def draw_triangle(size, char='*', need_border=False):\n",
    "    \"\"\"\n",
    "    Draw a triangle from characters.\n",
    "    :param size: the number of rows\n",
    "    :param char: character used for drawing\n",
    "    :param need_border: True, when needed a border, else False (default False)\n",
    "    :return: None\n",
    "    \"\"\"\n",
    "    if need_border:\n",
    "        print('%')\n",
    "        for i in range(size):\n",
    "            print(f'%{char * (i + 1)}%')\n",
    "        print('%' * (size + 2))\n",
    "    else:\n",
    "        for i in range(size):\n",
    "            print(char * (i + 1))"
   ]
  },
  {
   "cell_type": "code",
   "execution_count": null,
   "id": "1b36c5ab",
   "metadata": {},
   "outputs": [],
   "source": [
    "draw_triangle(4, char='!', need_border=True)"
   ]
  },
  {
   "cell_type": "markdown",
   "id": "928aec33",
   "metadata": {},
   "source": [
    "**(5)** Define a function which checks that a name is valid!\n",
    "* We consider the name valid, when it has two or three parts separated by exactly one space.\n",
    "* All part should be started by an upper case letter. Any other characters must be lower case.\n",
    "* Write some examples in the form of assertions!"
   ]
  },
  {
   "cell_type": "code",
   "execution_count": null,
   "id": "e82ba56e",
   "metadata": {},
   "outputs": [],
   "source": [
    "def check_name(name):\n",
    "    \"\"\"\n",
    "    Check that a name is valid.\n",
    "    :param name: the name as a string which should be checked.\n",
    "    :return: True on valid name, else False\n",
    "    \"\"\"\n",
    "    parts = name.strip().split(' ')\n",
    "    if len(parts) not in [2, 3]:\n",
    "        return False\n",
    "    for part in parts:\n",
    "        if len(part) == 0:\n",
    "            return False\n",
    "        if part[0].isupper() is False:\n",
    "            return False\n",
    "        if part[1:].islower() is False:\n",
    "            return False\n",
    "    return True"
   ]
  },
  {
   "cell_type": "code",
   "execution_count": null,
   "id": "1c9de0ac",
   "metadata": {},
   "outputs": [],
   "source": [
    "assert check_name('Valid Name') is True\n",
    "assert check_name('Other Valid Name') is True\n",
    "assert check_name('Invalid') is False\n",
    "assert check_name('Invalid  Name') is False\n",
    "assert check_name('Invalid name') is False\n",
    "assert check_name('Invalid NamE') is False"
   ]
  },
  {
   "cell_type": "markdown",
   "id": "908d95a4",
   "metadata": {},
   "source": [
    "**(6)** Define a function which calculates the price of a shopping!\n",
    "* Use similar dictionaries (as inputs) as below!"
   ]
  },
  {
   "cell_type": "code",
   "execution_count": null,
   "id": "cf12f36d",
   "metadata": {},
   "outputs": [],
   "source": [
    "shop = [\n",
    "    {\n",
    "        'product': 'knife',\n",
    "        'price': 50\n",
    "    },\n",
    "    {\n",
    "        'product': 'fork',\n",
    "        'price': 30\n",
    "    },\n",
    "    {\n",
    "        'product': 'spoon',\n",
    "        'price': 40\n",
    "    }\n",
    "]\n",
    "shop_list = [\n",
    "    {\n",
    "        'product': 'spoon',\n",
    "        'count': 23\n",
    "    },\n",
    "    {\n",
    "        'product': 'knife',\n",
    "        'count': 11\n",
    "    }\n",
    "]"
   ]
  },
  {
   "cell_type": "code",
   "execution_count": null,
   "id": "f3c7188c",
   "metadata": {},
   "outputs": [],
   "source": [
    "def calc_price(shop, shop_list):\n",
    "    \"\"\"\n",
    "    Calculate the price of the shopping.\n",
    "    :param shop: list of prices\n",
    "    :param shop_list: list of products for buying\n",
    "    :return: the price as a number\n",
    "    \"\"\"\n",
    "    price = 0\n",
    "    for shop_item in shop_list:\n",
    "        for product_item in shop:\n",
    "            if shop_item['product'] == product_item['product']:\n",
    "                price += shop_item['count'] * product_item['price']\n",
    "    return price"
   ]
  },
  {
   "cell_type": "code",
   "execution_count": null,
   "id": "c3a9cc54",
   "metadata": {},
   "outputs": [],
   "source": [
    "calc_price(shop, shop_list)"
   ]
  },
  {
   "cell_type": "markdown",
   "id": "2b6deccf",
   "metadata": {},
   "source": [
    "**(7)** Collect elements from a list to a set, which appears exactly three times!\n",
    "* Generalize the function by using a parameter!"
   ]
  },
  {
   "cell_type": "code",
   "execution_count": null,
   "id": "2d46bbb9",
   "metadata": {},
   "outputs": [],
   "source": [
    "def collect_triples(items):\n",
    "    \"\"\"\n",
    "    Collect the elements which appears exactly three times.\n",
    "    :param items: list of arbitrary objects\n",
    "    :return: set of the objects which appears three times\n",
    "    \"\"\"\n",
    "    result = set()\n",
    "    counts = {}\n",
    "    for item in items:\n",
    "        if item in counts:\n",
    "            counts[item] += 1\n",
    "        else:\n",
    "            counts[item] = 1\n",
    "    for item, count in counts.items():\n",
    "        if count == 3:\n",
    "            result.add(item)\n",
    "    return result"
   ]
  },
  {
   "cell_type": "code",
   "execution_count": null,
   "id": "c313d1ce",
   "metadata": {},
   "outputs": [],
   "source": [
    "assert collect_triples([]) == set(), 'Failed empty case'\n",
    "assert collect_triples([1, 1]) == set()\n",
    "assert collect_triples([1, 1, 1]) == {1}\n",
    "assert collect_triples([1, 2, 6, 6, 6, 2, 1, 1]) == {1, 6}\n",
    "assert collect_triples([1, 1, 2, 2, 4, 4]) == set()"
   ]
  },
  {
   "cell_type": "markdown",
   "id": "c97134e4",
   "metadata": {},
   "source": [
    "A more general version"
   ]
  },
  {
   "cell_type": "code",
   "execution_count": null,
   "id": "89c5d6fe",
   "metadata": {},
   "outputs": [],
   "source": [
    "def collect_repeated(items, n_repetitions=3):\n",
    "    \"\"\"\n",
    "    Collect the elements which appears exactly three times.\n",
    "    :param items: list of arbitrary objects\n",
    "    :param n_repetitions: number of repetitions (default 3)\n",
    "    :return: set of the objects which appears three times\n",
    "    \"\"\"\n",
    "    result = set()\n",
    "    counts = {}\n",
    "    for item in items:\n",
    "        if item in counts:\n",
    "            counts[item] += 1\n",
    "        else:\n",
    "            counts[item] = 1\n",
    "    for item, count in counts.items():\n",
    "        if count == n_repetitions:\n",
    "            result.add(item)\n",
    "    return result"
   ]
  },
  {
   "cell_type": "code",
   "execution_count": null,
   "id": "4718795c",
   "metadata": {},
   "outputs": [],
   "source": [
    "assert collect_repeated([1, 2, 6, 6, 6, 2, 1, 1], 2) == {2}\n",
    "assert collect_repeated([1, 1, 2, 2, 4, 4], 2) == {1, 2, 4}"
   ]
  },
  {
   "cell_type": "markdown",
   "id": "81f1fec1",
   "metadata": {},
   "source": [
    "**(8)** Implement a function for sorting a list (for instance with minimum selection)!\n",
    "* Provide two solutions: one with the result as the return value and one with in-place sorting!"
   ]
  },
  {
   "cell_type": "markdown",
   "id": "58c8dad2",
   "metadata": {},
   "source": [
    "Return a new list"
   ]
  },
  {
   "cell_type": "code",
   "execution_count": null,
   "id": "a839a3c6",
   "metadata": {},
   "outputs": [],
   "source": [
    "def sort_by_minimum(values):\n",
    "    \"\"\"\n",
    "    Sort the element of input by minimum selection.\n",
    "    :param values: list of comparable values\n",
    "    :return: list of ordered values\n",
    "    \"\"\"\n",
    "    result = []\n",
    "    remaining = values[:]\n",
    "    while remaining:\n",
    "        value = min(remaining)\n",
    "        result.append(value)\n",
    "        remaining.remove(value)\n",
    "    return result"
   ]
  },
  {
   "cell_type": "code",
   "execution_count": null,
   "id": "a1553c20",
   "metadata": {},
   "outputs": [],
   "source": [
    "values = [5, 3, 1, 2, 9, 4]\n",
    "result = sort_by_minimum(values)\n",
    "print(f'Ordered: {result}')"
   ]
  },
  {
   "cell_type": "markdown",
   "id": "8c01bff4",
   "metadata": {},
   "source": [
    "In-place sorting"
   ]
  },
  {
   "cell_type": "code",
   "execution_count": null,
   "id": "e3543c53",
   "metadata": {},
   "outputs": [],
   "source": [
    "def sort_by_minimum(values):\n",
    "    \"\"\"\n",
    "    Sort the element of input by minimum selection.\n",
    "    :param values: list of comparable values\n",
    "    :return: None\n",
    "    \"\"\"\n",
    "    n = len(values)\n",
    "    for i in range(n):\n",
    "        min_index = i\n",
    "        for j in range(i + 1, n):\n",
    "            if values[j] < values[min_index]:\n",
    "                min_index = j\n",
    "        if min_index != i:\n",
    "            values[i], values[min_index] = values[min_index], values[i]"
   ]
  },
  {
   "cell_type": "code",
   "execution_count": null,
   "id": "25765fb6",
   "metadata": {},
   "outputs": [],
   "source": [
    "values = [5, 3, 1, 2, 9, 4]\n",
    "print(f'Values (before sorting): {values}')\n",
    "sort_by_minimum(values)\n",
    "print(f'Values (after sorting): {values}')"
   ]
  },
  {
   "cell_type": "markdown",
   "id": "7770cd14",
   "metadata": {},
   "source": [
    "**(9)** Write a function which counts the string objects in a list!\n",
    "* Write some examples for its usage!"
   ]
  },
  {
   "cell_type": "code",
   "execution_count": null,
   "id": "25e7e783",
   "metadata": {},
   "outputs": [],
   "source": [
    "def count_strings(items):\n",
    "    \"\"\"\n",
    "    Count the string objects in a list.\n",
    "    :param items: list of arbitrary objects\n",
    "    :return: count of string objects\n",
    "    \"\"\"\n",
    "    count = 0\n",
    "    for item in items:\n",
    "        if isinstance(item, str):\n",
    "            count += 1\n",
    "    return count"
   ]
  },
  {
   "cell_type": "code",
   "execution_count": null,
   "id": "5063128a",
   "metadata": {},
   "outputs": [],
   "source": [
    "assert count_strings([True, False]) == 0\n",
    "assert count_strings([True, 'string', False]) == 1\n",
    "assert count_strings([True, 'string', False, 'other']) == 2"
   ]
  },
  {
   "cell_type": "markdown",
   "id": "ce759989",
   "metadata": {},
   "source": [
    "**(10)** Define a function which waits a text as a parameter, and checks that all lower case letters have their upper case letter pair!\n",
    "* Raise error when the string contains non alphabetic character!\n",
    "* Write a strict version (with ``strict`` boolean parameter) which raises error when there are more or less lower or upper letter of the pair!\n",
    "* NOTE: Do not take into consideration the ordering of the letters!"
   ]
  },
  {
   "cell_type": "markdown",
   "id": "7ac206af",
   "metadata": {},
   "source": [
    "Solution by counting in a dictionary"
   ]
  },
  {
   "cell_type": "code",
   "execution_count": null,
   "id": "20dacea8",
   "metadata": {},
   "outputs": [],
   "source": [
    "def check_case_pairs(text):\n",
    "    \"\"\"\n",
    "    Check that all lower case letters have their pair.\n",
    "    :param text: a string\n",
    "    :return: True, when all letters have pair, else False\n",
    "    \"\"\"\n",
    "    if text.isalpha() is False:\n",
    "        raise ValueError('There is a non-alphabetic character!')\n",
    "    counts = {}\n",
    "    for c in text:\n",
    "        if c in counts:\n",
    "            counts[c] += 1\n",
    "        else:\n",
    "            counts[c] = 1\n",
    "    for c in counts:\n",
    "        if c.islower():\n",
    "            u = c.upper()\n",
    "            if u not in counts:\n",
    "                return False\n",
    "    return True"
   ]
  },
  {
   "cell_type": "code",
   "execution_count": null,
   "id": "0dbb8185",
   "metadata": {},
   "outputs": [],
   "source": [
    "assert check_case_pairs('abcABC') is True\n",
    "assert check_case_pairs('abcAB') is False\n",
    "assert check_case_pairs('abcAABBCC') is True"
   ]
  },
  {
   "cell_type": "markdown",
   "id": "c3cc2027",
   "metadata": {},
   "source": [
    "Using the parameter ``strict``"
   ]
  },
  {
   "cell_type": "code",
   "execution_count": null,
   "id": "369a0406",
   "metadata": {},
   "outputs": [],
   "source": [
    "def check_case_pairs(text, strict=False):\n",
    "    \"\"\"\n",
    "    Check that all lower case letters have their pair.\n",
    "    :param text: a string\n",
    "    :return: True, when all letters have pair, else False\n",
    "    \"\"\"\n",
    "    if text.isalpha() is False:\n",
    "        raise ValueError('There is a non-alphabetic character!')\n",
    "    counts = {}\n",
    "    for c in text:\n",
    "        if c in counts:\n",
    "            counts[c] += 1\n",
    "        else:\n",
    "            counts[c] = 1\n",
    "    for c in counts:\n",
    "        if c.islower():\n",
    "            u = c.upper()\n",
    "            if strict is True:\n",
    "                if counts[c] != counts[u]:\n",
    "                    return False\n",
    "            else:\n",
    "                if u not in counts:\n",
    "                    return False\n",
    "    return True"
   ]
  },
  {
   "cell_type": "code",
   "execution_count": null,
   "id": "ef8bd6a4",
   "metadata": {},
   "outputs": [],
   "source": [
    "assert check_case_pairs('abcAABC', strict=True) is False\n",
    "assert check_case_pairs('abcAABC', strict=False) is True"
   ]
  },
  {
   "cell_type": "markdown",
   "id": "2a0588b6",
   "metadata": {},
   "source": [
    "Solution by removing from a temporary list"
   ]
  },
  {
   "cell_type": "code",
   "execution_count": null,
   "id": "0e69d912",
   "metadata": {},
   "outputs": [],
   "source": [
    "def check_case_pairs(text, strict=False):\n",
    "    \"\"\"\n",
    "    Check that all lower case letters have their pair.\n",
    "    :param text: a string\n",
    "    :return: True, when all letters have pair, else False\n",
    "    \"\"\"\n",
    "    if text.isalpha() is False:\n",
    "        raise ValueError('There is a non-alphabetic character!')\n",
    "    chars = list(text)\n",
    "    while chars:\n",
    "        c = chars.pop()\n",
    "        if c.islower():\n",
    "            u = c.upper()\n",
    "            if u not in chars:\n",
    "                return False\n",
    "            chars.remove(u)\n",
    "            if strict is False:\n",
    "                while u in chars:\n",
    "                    chars.remove(u)\n",
    "        else:\n",
    "            l = c.lower()\n",
    "            if l not in chars:\n",
    "                return False\n",
    "            chars.remove(l)\n",
    "            if strict is False:\n",
    "                while l in chars:\n",
    "                    chars.remove(l)\n",
    "        if strict is False:\n",
    "            while c in chars:\n",
    "                chars.remove(c)\n",
    "    return True"
   ]
  },
  {
   "cell_type": "markdown",
   "id": "39122af2",
   "metadata": {},
   "source": [
    "Solution by grouping the characters"
   ]
  },
  {
   "cell_type": "code",
   "execution_count": null,
   "id": "d18adf31",
   "metadata": {},
   "outputs": [],
   "source": [
    "def check_case_pairs(text, strict=False):\n",
    "    \"\"\"\n",
    "    Check that all lower case letters have their pair.\n",
    "    :param text: a string\n",
    "    :return: True, when all letters have pair, else False\n",
    "    \"\"\"\n",
    "    if text.isalpha() is False:\n",
    "        raise ValueError('There is a non-alphabetic character!')\n",
    "    lowers = []\n",
    "    uppers = []\n",
    "    for c in text:\n",
    "        if c.islower():\n",
    "            lowers.append(c)\n",
    "        else:\n",
    "            uppers.append(c)\n",
    "    if len(set(lowers)) != len(set(uppers)):\n",
    "        return False\n",
    "    for l in lowers:\n",
    "        u = l.upper()\n",
    "        if strict is True:\n",
    "            if lowers.count(l) != uppers.count(u):\n",
    "                return False\n",
    "        else:\n",
    "            if u not in uppers:\n",
    "                return False\n",
    "    return True"
   ]
  },
  {
   "cell_type": "markdown",
   "id": "4458a63f",
   "metadata": {},
   "source": [
    "**(*)** Write functions for the exercises of the ``2B_Exercises`` notebook!"
   ]
  },
  {
   "cell_type": "code",
   "execution_count": null,
   "id": "2c97518f",
   "metadata": {},
   "outputs": [],
   "source": []
  }
 ],
 "metadata": {
  "kernelspec": {
   "display_name": "Python 3 (ipykernel)",
   "language": "python",
   "name": "python3"
  },
  "language_info": {
   "codemirror_mode": {
    "name": "ipython",
    "version": 3
   },
   "file_extension": ".py",
   "mimetype": "text/x-python",
   "name": "python",
   "nbconvert_exporter": "python",
   "pygments_lexer": "ipython3",
   "version": "3.10.5"
  }
 },
 "nbformat": 4,
 "nbformat_minor": 5
}
